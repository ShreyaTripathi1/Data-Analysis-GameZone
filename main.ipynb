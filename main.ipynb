{
 "cells": [
  {
   "cell_type": "markdown",
   "id": "5c3a7ed9",
   "metadata": {},
   "source": [
    "## Data loading\n",
    "\n",
    "Load the data from \"gamezone-orders-data.xlsx\" into a dataframe.\n"
   ]
  },
  {
   "cell_type": "code",
   "execution_count": 20,
   "id": "f0b523d2",
   "metadata": {},
   "outputs": [
    {
     "data": {
      "text/html": [
       "<div>\n",
       "<style scoped>\n",
       "    .dataframe tbody tr th:only-of-type {\n",
       "        vertical-align: middle;\n",
       "    }\n",
       "\n",
       "    .dataframe tbody tr th {\n",
       "        vertical-align: top;\n",
       "    }\n",
       "\n",
       "    .dataframe thead th {\n",
       "        text-align: right;\n",
       "    }\n",
       "</style>\n",
       "<table border=\"1\" class=\"dataframe\">\n",
       "  <thead>\n",
       "    <tr style=\"text-align: right;\">\n",
       "      <th></th>\n",
       "      <th>USER_ID</th>\n",
       "      <th>ORDER_ID</th>\n",
       "      <th>PURCHASE_TS</th>\n",
       "      <th>SHIP_TS</th>\n",
       "      <th>PRODUCT_NAME</th>\n",
       "      <th>PRODUCT_ID</th>\n",
       "      <th>USD_PRICE</th>\n",
       "      <th>PURCHASE_PLATFORM</th>\n",
       "      <th>MARKETING_CHANNEL</th>\n",
       "      <th>ACCOUNT_CREATION_METHOD</th>\n",
       "      <th>COUNTRY_CODE</th>\n",
       "    </tr>\n",
       "  </thead>\n",
       "  <tbody>\n",
       "    <tr>\n",
       "      <th>0</th>\n",
       "      <td>2c06175e</td>\n",
       "      <td>0001328c3c220830</td>\n",
       "      <td>2020-12-24 00:00:00</td>\n",
       "      <td>2020-12-13</td>\n",
       "      <td>Nintendo Switch</td>\n",
       "      <td>e682</td>\n",
       "      <td>168.00</td>\n",
       "      <td>website</td>\n",
       "      <td>affiliate</td>\n",
       "      <td>unknown</td>\n",
       "      <td>US</td>\n",
       "    </tr>\n",
       "    <tr>\n",
       "      <th>1</th>\n",
       "      <td>ee8e5bc2</td>\n",
       "      <td>0002af7a5c6100772</td>\n",
       "      <td>2020-10-01 00:00:00</td>\n",
       "      <td>2020-09-21</td>\n",
       "      <td>Nintendo Switch</td>\n",
       "      <td>e682</td>\n",
       "      <td>160.61</td>\n",
       "      <td>website</td>\n",
       "      <td>direct</td>\n",
       "      <td>desktop</td>\n",
       "      <td>DE</td>\n",
       "    </tr>\n",
       "    <tr>\n",
       "      <th>2</th>\n",
       "      <td>9eb4efe0</td>\n",
       "      <td>0002b8350e167074</td>\n",
       "      <td>2020-04-21 00:00:00</td>\n",
       "      <td>2020-02-16</td>\n",
       "      <td>Nintendo Switch</td>\n",
       "      <td>8d0d</td>\n",
       "      <td>151.20</td>\n",
       "      <td>website</td>\n",
       "      <td>direct</td>\n",
       "      <td>desktop</td>\n",
       "      <td>US</td>\n",
       "    </tr>\n",
       "    <tr>\n",
       "      <th>3</th>\n",
       "      <td>cac7cbaf</td>\n",
       "      <td>0006d06b98385729</td>\n",
       "      <td>2020-04-07 00:00:00</td>\n",
       "      <td>2020-04-04</td>\n",
       "      <td>Sony PlayStation 5 Bundle</td>\n",
       "      <td>54ed</td>\n",
       "      <td>1132.82</td>\n",
       "      <td>website</td>\n",
       "      <td>direct</td>\n",
       "      <td>desktop</td>\n",
       "      <td>AU</td>\n",
       "    </tr>\n",
       "    <tr>\n",
       "      <th>4</th>\n",
       "      <td>6b0230bc</td>\n",
       "      <td>00097279a2f46150</td>\n",
       "      <td>2020-11-24 00:00:00</td>\n",
       "      <td>2020-08-02</td>\n",
       "      <td>Nintendo Switch</td>\n",
       "      <td>8d0d</td>\n",
       "      <td>33.89</td>\n",
       "      <td>website</td>\n",
       "      <td>direct</td>\n",
       "      <td>desktop</td>\n",
       "      <td>TR</td>\n",
       "    </tr>\n",
       "  </tbody>\n",
       "</table>\n",
       "</div>"
      ],
      "text/plain": [
       "    USER_ID           ORDER_ID          PURCHASE_TS    SHIP_TS  \\\n",
       "0  2c06175e   0001328c3c220830  2020-12-24 00:00:00 2020-12-13   \n",
       "1  ee8e5bc2  0002af7a5c6100772  2020-10-01 00:00:00 2020-09-21   \n",
       "2  9eb4efe0   0002b8350e167074  2020-04-21 00:00:00 2020-02-16   \n",
       "3  cac7cbaf   0006d06b98385729  2020-04-07 00:00:00 2020-04-04   \n",
       "4  6b0230bc   00097279a2f46150  2020-11-24 00:00:00 2020-08-02   \n",
       "\n",
       "                PRODUCT_NAME PRODUCT_ID  USD_PRICE PURCHASE_PLATFORM  \\\n",
       "0            Nintendo Switch       e682     168.00           website   \n",
       "1            Nintendo Switch       e682     160.61           website   \n",
       "2            Nintendo Switch       8d0d     151.20           website   \n",
       "3  Sony PlayStation 5 Bundle       54ed    1132.82           website   \n",
       "4            Nintendo Switch       8d0d      33.89           website   \n",
       "\n",
       "  MARKETING_CHANNEL ACCOUNT_CREATION_METHOD COUNTRY_CODE  \n",
       "0         affiliate                 unknown           US  \n",
       "1            direct                 desktop           DE  \n",
       "2            direct                 desktop           US  \n",
       "3            direct                 desktop           AU  \n",
       "4            direct                 desktop           TR  "
      ]
     },
     "execution_count": 20,
     "metadata": {},
     "output_type": "execute_result"
    }
   ],
   "source": [
    "import pandas as pd\n",
    "\n",
    "# Read the Excel file into a pandas DataFrame\n",
    "df = pd.read_excel(\"gamezone-orders-data.xlsx\")\n",
    "\n",
    "# Display the first 5 rows of the DataFrame\n",
    "df.head()"
   ]
  },
  {
   "cell_type": "code",
   "execution_count": 21,
   "id": "2c92629c",
   "metadata": {},
   "outputs": [
    {
     "name": "stdout",
     "output_type": "stream",
     "text": [
      "<class 'pandas.core.frame.DataFrame'>\n",
      "RangeIndex: 21864 entries, 0 to 21863\n",
      "Data columns (total 11 columns):\n",
      " #   Column                   Non-Null Count  Dtype         \n",
      "---  ------                   --------------  -----         \n",
      " 0   USER_ID                  21864 non-null  object        \n",
      " 1   ORDER_ID                 21864 non-null  object        \n",
      " 2   PURCHASE_TS              21864 non-null  object        \n",
      " 3   SHIP_TS                  21864 non-null  datetime64[ns]\n",
      " 4   PRODUCT_NAME             21864 non-null  object        \n",
      " 5   PRODUCT_ID               21864 non-null  object        \n",
      " 6   USD_PRICE                21859 non-null  float64       \n",
      " 7   PURCHASE_PLATFORM        21864 non-null  object        \n",
      " 8   MARKETING_CHANNEL        21781 non-null  object        \n",
      " 9   ACCOUNT_CREATION_METHOD  21781 non-null  object        \n",
      " 10  COUNTRY_CODE             21826 non-null  object        \n",
      "dtypes: datetime64[ns](1), float64(1), object(9)\n",
      "memory usage: 1.8+ MB\n"
     ]
    }
   ],
   "source": [
    "# Print the column names and their data types\n",
    "df.info()"
   ]
  },
  {
   "cell_type": "markdown",
   "id": "475b36f2",
   "metadata": {},
   "source": [
    "## Data cleaning\n",
    "\n",
    "Clean the data, including handling missing values, removing duplicates, and addressing any inconsistencies."
   ]
  },
  {
   "cell_type": "code",
   "execution_count": 22,
   "id": "3c26a7df",
   "metadata": {},
   "outputs": [
    {
     "data": {
      "text/html": [
       "<div>\n",
       "<style scoped>\n",
       "    .dataframe tbody tr th:only-of-type {\n",
       "        vertical-align: middle;\n",
       "    }\n",
       "\n",
       "    .dataframe tbody tr th {\n",
       "        vertical-align: top;\n",
       "    }\n",
       "\n",
       "    .dataframe thead th {\n",
       "        text-align: right;\n",
       "    }\n",
       "</style>\n",
       "<table border=\"1\" class=\"dataframe\">\n",
       "  <thead>\n",
       "    <tr style=\"text-align: right;\">\n",
       "      <th></th>\n",
       "      <th>Missing Values</th>\n",
       "    </tr>\n",
       "  </thead>\n",
       "  <tbody>\n",
       "    <tr>\n",
       "      <th>USER_ID</th>\n",
       "      <td>0</td>\n",
       "    </tr>\n",
       "    <tr>\n",
       "      <th>ORDER_ID</th>\n",
       "      <td>0</td>\n",
       "    </tr>\n",
       "    <tr>\n",
       "      <th>PURCHASE_TS</th>\n",
       "      <td>0</td>\n",
       "    </tr>\n",
       "    <tr>\n",
       "      <th>SHIP_TS</th>\n",
       "      <td>0</td>\n",
       "    </tr>\n",
       "    <tr>\n",
       "      <th>PRODUCT_NAME</th>\n",
       "      <td>0</td>\n",
       "    </tr>\n",
       "    <tr>\n",
       "      <th>PRODUCT_ID</th>\n",
       "      <td>0</td>\n",
       "    </tr>\n",
       "    <tr>\n",
       "      <th>USD_PRICE</th>\n",
       "      <td>5</td>\n",
       "    </tr>\n",
       "    <tr>\n",
       "      <th>PURCHASE_PLATFORM</th>\n",
       "      <td>0</td>\n",
       "    </tr>\n",
       "    <tr>\n",
       "      <th>MARKETING_CHANNEL</th>\n",
       "      <td>83</td>\n",
       "    </tr>\n",
       "    <tr>\n",
       "      <th>ACCOUNT_CREATION_METHOD</th>\n",
       "      <td>83</td>\n",
       "    </tr>\n",
       "    <tr>\n",
       "      <th>COUNTRY_CODE</th>\n",
       "      <td>38</td>\n",
       "    </tr>\n",
       "  </tbody>\n",
       "</table>\n",
       "</div>"
      ],
      "text/plain": [
       "                         Missing Values\n",
       "USER_ID                               0\n",
       "ORDER_ID                              0\n",
       "PURCHASE_TS                           0\n",
       "SHIP_TS                               0\n",
       "PRODUCT_NAME                          0\n",
       "PRODUCT_ID                            0\n",
       "USD_PRICE                             5\n",
       "PURCHASE_PLATFORM                     0\n",
       "MARKETING_CHANNEL                    83\n",
       "ACCOUNT_CREATION_METHOD              83\n",
       "COUNTRY_CODE                         38"
      ]
     },
     "execution_count": 22,
     "metadata": {},
     "output_type": "execute_result"
    }
   ],
   "source": [
    "df.isnull().sum().to_frame(name='Missing Values')"
   ]
  },
  {
   "cell_type": "markdown",
   "id": "9d1b38ae",
   "metadata": {},
   "source": [
    "Fill missing ```MARKETING_CHANNEL```, ```ACCOUNT_CREATION_METHOD```, and ```COUNTRY_CODE``` values with 'Unknown'."
   ]
  },
  {
   "cell_type": "code",
   "execution_count": 23,
   "id": "3999242d",
   "metadata": {},
   "outputs": [],
   "source": [
    "# Fill missing values in specified columns with 'Unknown'\n",
    "df['MARKETING_CHANNEL'].fillna('Unknown', inplace=True)\n",
    "df['ACCOUNT_CREATION_METHOD'].fillna('Unknown', inplace=True)\n",
    "df['COUNTRY_CODE'].fillna('Unknown', inplace=True)"
   ]
  },
  {
   "cell_type": "code",
   "execution_count": 24,
   "id": "3af9a0e3",
   "metadata": {},
   "outputs": [
    {
     "data": {
      "text/plain": [
       "'|                         | Missing Values   |\\n|:------------------------|:-----------------|\\n| USER_ID                 | 0                |\\n| ORDER_ID                | 0                |\\n| PURCHASE_TS             | 0                |\\n| SHIP_TS                 | 0                |\\n| PRODUCT_NAME            | 0                |\\n| PRODUCT_ID              | 0                |\\n| USD_PRICE               | 5                |\\n| PURCHASE_PLATFORM       | 0                |\\n| MARKETING_CHANNEL       | 0                |\\n| ACCOUNT_CREATION_METHOD | 0                |\\n| COUNTRY_CODE            | 0                |'"
      ]
     },
     "metadata": {},
     "output_type": "display_data"
    }
   ],
   "source": [
    "\n",
    "# Display the number of missing values per column after filling\n",
    "display(df.isnull().sum().to_frame(name='Missing Values').to_markdown(numalign=\"left\", stralign=\"left\"))"
   ]
  },
  {
   "cell_type": "markdown",
   "id": "64b2a666",
   "metadata": {},
   "source": [
    "Handle the remaining missing values in the ```USD_PRICE``` column. Since there are only 5 missing values, dropping these rows is a reasonable approach."
   ]
  },
  {
   "cell_type": "code",
   "execution_count": 25,
   "id": "4fe1f7ce",
   "metadata": {},
   "outputs": [
    {
     "data": {
      "text/plain": [
       "'|                         | Missing Values   |\\n|:------------------------|:-----------------|\\n| USER_ID                 | 0                |\\n| ORDER_ID                | 0                |\\n| PURCHASE_TS             | 0                |\\n| SHIP_TS                 | 0                |\\n| PRODUCT_NAME            | 0                |\\n| PRODUCT_ID              | 0                |\\n| USD_PRICE               | 0                |\\n| PURCHASE_PLATFORM       | 0                |\\n| MARKETING_CHANNEL       | 0                |\\n| ACCOUNT_CREATION_METHOD | 0                |\\n| COUNTRY_CODE            | 0                |'"
      ]
     },
     "metadata": {},
     "output_type": "display_data"
    }
   ],
   "source": [
    "# Drop rows with missing values in the 'USD_PRICE' column\n",
    "df.dropna(subset=['USD_PRICE'], inplace=True)\n",
    "\n",
    "# Display the number of missing values per column after dropping\n",
    "display(df.isnull().sum().to_frame(name='Missing Values').to_markdown(numalign=\"left\", stralign=\"left\"))"
   ]
  },
  {
   "cell_type": "code",
   "execution_count": null,
   "id": "f69fcf2d",
   "metadata": {},
   "outputs": [],
   "source": [
    "# .to_markdown : Prints DataFrame in Markdown-friendly format.\n",
    "\n",
    "df = pd.DataFrame(\n",
    "    data={\"animal_1\": [\"elk\", \"pig\"], \"animal_2\": [\"dog\", \"quetzal\"]}\n",
    ")\n",
    "print(df.to_markdown())"
   ]
  },
  {
   "cell_type": "markdown",
   "id": "6dbaf684",
   "metadata": {},
   "source": [
    "Remove duplicate rows from the DataFrame to ensure data integrity."
   ]
  },
  {
   "cell_type": "code",
   "execution_count": 26,
   "id": "05b653e9",
   "metadata": {},
   "outputs": [
    {
     "name": "stdout",
     "output_type": "stream",
     "text": [
      "Number of duplicate rows removed: 35\n",
      "Number of rows after dropping duplicates: 21824\n"
     ]
    }
   ],
   "source": [
    "# Remove duplicate rows\n",
    "initial_rows = len(df)\n",
    "df.drop_duplicates(inplace=True)\n",
    "rows_after_dropping = len(df)\n",
    "\n",
    "# Display the number of duplicate rows removed\n",
    "print(f\"Number of duplicate rows removed: {initial_rows - rows_after_dropping}\")\n",
    "\n",
    "# Display the number of rows after dropping duplicates\n",
    "print(f\"Number of rows after dropping duplicates: {rows_after_dropping}\")"
   ]
  },
  {
   "cell_type": "markdown",
   "id": "6428b724",
   "metadata": {},
   "source": [
    "Inspect columns for inconsistencies in data entry and standardize them where necessary. Focus on categorical columns like ```PURCHASE_PLATFORM```, ```MARKETING_CHANNEL```, ```ACCOUNT_CREATION_METHOD```, and ```COUNTRY_CODE```."
   ]
  },
  {
   "cell_type": "code",
   "execution_count": 27,
   "id": "1a7453e0",
   "metadata": {},
   "outputs": [
    {
     "name": "stdout",
     "output_type": "stream",
     "text": [
      "Unique values after standardization:\n"
     ]
    },
    {
     "data": {
      "text/plain": [
       "'--- PURCHASE_PLATFORM ---'"
      ]
     },
     "metadata": {},
     "output_type": "display_data"
    },
    {
     "data": {
      "text/plain": [
       "array(['website', 'mobile app'], dtype=object)"
      ]
     },
     "metadata": {},
     "output_type": "display_data"
    },
    {
     "data": {
      "text/plain": [
       "'--- MARKETING_CHANNEL ---'"
      ]
     },
     "metadata": {},
     "output_type": "display_data"
    },
    {
     "data": {
      "text/plain": [
       "array(['affiliate', 'direct', 'email', 'social media', 'unknown'],\n",
       "      dtype=object)"
      ]
     },
     "metadata": {},
     "output_type": "display_data"
    },
    {
     "data": {
      "text/plain": [
       "'--- ACCOUNT_CREATION_METHOD ---'"
      ]
     },
     "metadata": {},
     "output_type": "display_data"
    },
    {
     "data": {
      "text/plain": [
       "array(['unknown', 'desktop', 'mobile', 'tablet', 'tv'], dtype=object)"
      ]
     },
     "metadata": {},
     "output_type": "display_data"
    },
    {
     "data": {
      "text/plain": [
       "'--- COUNTRY_CODE ---'"
      ]
     },
     "metadata": {},
     "output_type": "display_data"
    },
    {
     "data": {
      "text/plain": [
       "array(['us', 'de', 'au', 'tr', 'ph', 'gb', 'br', 'be', 'fr', 'kr', 'es',\n",
       "       'ua', 'at', 'in', 'il', 'pl', 'dk', 'ar', 'ch', 'cl', 'ro', 'vn',\n",
       "       'jm', 'it', 'bb', 'jp', 'no', 'hu', 'ca', 've', 'nz', 'cy', 'bo',\n",
       "       'co', 'nl', 'se', 'kw', 'za', 'si', 'ru', 'gr', 'lt', 'mx', 'th',\n",
       "       'uy', 'cz', 'hk', 'ee', 'sg', 'kh', 'ie', 'iq', 'fi', 'tz', 'tw',\n",
       "       'unknown', 'qa', 'pt', 'pe', 'my', 'ae', 'lv', 'eg', 'ci', 'bs',\n",
       "       'is', 'cr', 'mt', 'ma', 'ht', 'sa', 'ke', 'jo', 'bg', 'bd', 'tt',\n",
       "       'lk', 'ad', 'sn', 'ng', 'pf', 'pk', 'lu', 'kz', 'vi', 'sk', 'gt',\n",
       "       'gh', 'tn', 'gl', 'ni', 'do', 'mv', 'ky', 'mn', 'bh', 'mc', 'lb',\n",
       "       'kn', 'pr', 'hr', 'zw', 'fj', 'hn', 'pa', 'np', 'ug', 'je', 'bw',\n",
       "       'ec', 'om', 'mm', 'mu', 'pg', 'al', 'by', 'eu', 'dz', 'ml', 'ps',\n",
       "       'so', 'sv', 'mk', 'rs', 'im', 'vc', 'gu', 'mo', 'zm', 'ge', 'az',\n",
       "       'bm', 'aw', 'sl', 'cm', 'ao', 'ba', 'mp', 'ap', 'ai', 'me', 'cn',\n",
       "       'id', 'vu', 'py', 'bf', 're', 'mz', 'mh', 'md', 'lc'], dtype=object)"
      ]
     },
     "metadata": {},
     "output_type": "display_data"
    }
   ],
   "source": [
    "# Standardize capitalization in categorical columns\n",
    "for col in ['PURCHASE_PLATFORM', 'MARKETING_CHANNEL', 'ACCOUNT_CREATION_METHOD', 'COUNTRY_CODE']:\n",
    "    if df[col].dtype == 'object':\n",
    "        df[col] = df[col].str.lower()\n",
    "\n",
    "# Display unique values in standardized columns to check for inconsistencies\n",
    "print(\"Unique values after standardization:\")\n",
    "for col in ['PURCHASE_PLATFORM', 'MARKETING_CHANNEL', 'ACCOUNT_CREATION_METHOD', 'COUNTRY_CODE']:\n",
    "    display(f\"--- {col} ---\")\n",
    "    display(df[col].unique())"
   ]
  },
  {
   "cell_type": "code",
   "execution_count": 28,
   "id": "adf87ec9",
   "metadata": {},
   "outputs": [
    {
     "data": {
      "text/html": [
       "<div>\n",
       "<style scoped>\n",
       "    .dataframe tbody tr th:only-of-type {\n",
       "        vertical-align: middle;\n",
       "    }\n",
       "\n",
       "    .dataframe tbody tr th {\n",
       "        vertical-align: top;\n",
       "    }\n",
       "\n",
       "    .dataframe thead th {\n",
       "        text-align: right;\n",
       "    }\n",
       "</style>\n",
       "<table border=\"1\" class=\"dataframe\">\n",
       "  <thead>\n",
       "    <tr style=\"text-align: right;\">\n",
       "      <th></th>\n",
       "      <th>USER_ID</th>\n",
       "      <th>ORDER_ID</th>\n",
       "      <th>PURCHASE_TS</th>\n",
       "      <th>SHIP_TS</th>\n",
       "      <th>PRODUCT_NAME</th>\n",
       "      <th>PRODUCT_ID</th>\n",
       "      <th>USD_PRICE</th>\n",
       "      <th>PURCHASE_PLATFORM</th>\n",
       "      <th>MARKETING_CHANNEL</th>\n",
       "      <th>ACCOUNT_CREATION_METHOD</th>\n",
       "      <th>COUNTRY_CODE</th>\n",
       "    </tr>\n",
       "  </thead>\n",
       "  <tbody>\n",
       "    <tr>\n",
       "      <th>0</th>\n",
       "      <td>2c06175e</td>\n",
       "      <td>0001328c3c220830</td>\n",
       "      <td>2020-12-24 00:00:00</td>\n",
       "      <td>2020-12-13</td>\n",
       "      <td>Nintendo Switch</td>\n",
       "      <td>e682</td>\n",
       "      <td>168.00</td>\n",
       "      <td>website</td>\n",
       "      <td>affiliate</td>\n",
       "      <td>unknown</td>\n",
       "      <td>us</td>\n",
       "    </tr>\n",
       "    <tr>\n",
       "      <th>1</th>\n",
       "      <td>ee8e5bc2</td>\n",
       "      <td>0002af7a5c6100772</td>\n",
       "      <td>2020-10-01 00:00:00</td>\n",
       "      <td>2020-09-21</td>\n",
       "      <td>Nintendo Switch</td>\n",
       "      <td>e682</td>\n",
       "      <td>160.61</td>\n",
       "      <td>website</td>\n",
       "      <td>direct</td>\n",
       "      <td>desktop</td>\n",
       "      <td>de</td>\n",
       "    </tr>\n",
       "    <tr>\n",
       "      <th>2</th>\n",
       "      <td>9eb4efe0</td>\n",
       "      <td>0002b8350e167074</td>\n",
       "      <td>2020-04-21 00:00:00</td>\n",
       "      <td>2020-02-16</td>\n",
       "      <td>Nintendo Switch</td>\n",
       "      <td>8d0d</td>\n",
       "      <td>151.20</td>\n",
       "      <td>website</td>\n",
       "      <td>direct</td>\n",
       "      <td>desktop</td>\n",
       "      <td>us</td>\n",
       "    </tr>\n",
       "    <tr>\n",
       "      <th>3</th>\n",
       "      <td>cac7cbaf</td>\n",
       "      <td>0006d06b98385729</td>\n",
       "      <td>2020-04-07 00:00:00</td>\n",
       "      <td>2020-04-04</td>\n",
       "      <td>Sony PlayStation 5 Bundle</td>\n",
       "      <td>54ed</td>\n",
       "      <td>1132.82</td>\n",
       "      <td>website</td>\n",
       "      <td>direct</td>\n",
       "      <td>desktop</td>\n",
       "      <td>au</td>\n",
       "    </tr>\n",
       "    <tr>\n",
       "      <th>4</th>\n",
       "      <td>6b0230bc</td>\n",
       "      <td>00097279a2f46150</td>\n",
       "      <td>2020-11-24 00:00:00</td>\n",
       "      <td>2020-08-02</td>\n",
       "      <td>Nintendo Switch</td>\n",
       "      <td>8d0d</td>\n",
       "      <td>33.89</td>\n",
       "      <td>website</td>\n",
       "      <td>direct</td>\n",
       "      <td>desktop</td>\n",
       "      <td>tr</td>\n",
       "    </tr>\n",
       "  </tbody>\n",
       "</table>\n",
       "</div>"
      ],
      "text/plain": [
       "    USER_ID           ORDER_ID          PURCHASE_TS    SHIP_TS  \\\n",
       "0  2c06175e   0001328c3c220830  2020-12-24 00:00:00 2020-12-13   \n",
       "1  ee8e5bc2  0002af7a5c6100772  2020-10-01 00:00:00 2020-09-21   \n",
       "2  9eb4efe0   0002b8350e167074  2020-04-21 00:00:00 2020-02-16   \n",
       "3  cac7cbaf   0006d06b98385729  2020-04-07 00:00:00 2020-04-04   \n",
       "4  6b0230bc   00097279a2f46150  2020-11-24 00:00:00 2020-08-02   \n",
       "\n",
       "                PRODUCT_NAME PRODUCT_ID  USD_PRICE PURCHASE_PLATFORM  \\\n",
       "0            Nintendo Switch       e682     168.00           website   \n",
       "1            Nintendo Switch       e682     160.61           website   \n",
       "2            Nintendo Switch       8d0d     151.20           website   \n",
       "3  Sony PlayStation 5 Bundle       54ed    1132.82           website   \n",
       "4            Nintendo Switch       8d0d      33.89           website   \n",
       "\n",
       "  MARKETING_CHANNEL ACCOUNT_CREATION_METHOD COUNTRY_CODE  \n",
       "0         affiliate                 unknown           us  \n",
       "1            direct                 desktop           de  \n",
       "2            direct                 desktop           us  \n",
       "3            direct                 desktop           au  \n",
       "4            direct                 desktop           tr  "
      ]
     },
     "execution_count": 28,
     "metadata": {},
     "output_type": "execute_result"
    }
   ],
   "source": [
    "df.head()"
   ]
  },
  {
   "cell_type": "markdown",
   "id": "eb507681",
   "metadata": {},
   "source": [
    "Verify that the ```USD_PRICE``` column contains valid numerical data and handle any non-numeric entries if found, potentially converting the column to a numeric type if it isn't already."
   ]
  },
  {
   "cell_type": "code",
   "execution_count": 30,
   "id": "57ffc878",
   "metadata": {},
   "outputs": [
    {
     "name": "stdout",
     "output_type": "stream",
     "text": [
      "Number of non-numeric entries in USD_PRICE after coercion: 0\n"
     ]
    }
   ],
   "source": [
    "# Convert 'USD_PRICE' to numeric, coercing errors to NaN\n",
    "df['USD_PRICE'] = pd.to_numeric(df['USD_PRICE'], errors='coerce')\n",
    "\n",
    "# Check for any remaining non-numeric entries after coercion (should be 0 if coercion worked)\n",
    "non_numeric_price = df['USD_PRICE'].isnull().sum()\n",
    "print(f\"Number of non-numeric entries in USD_PRICE after coercion: {non_numeric_price}\")"
   ]
  },
  {
   "cell_type": "code",
   "execution_count": 31,
   "id": "37c0a176",
   "metadata": {},
   "outputs": [
    {
     "name": "stdout",
     "output_type": "stream",
     "text": [
      "Data type of USD_PRICE column: float64\n"
     ]
    }
   ],
   "source": [
    "# If there are any NaN values introduced by coercion, drop those rows (though none are expected based on previous steps)\n",
    "if non_numeric_price > 0:\n",
    "    df.dropna(subset=['USD_PRICE'], inplace=True)\n",
    "    print(f\"Dropped {non_numeric_price} rows with non-numeric USD_PRICE after coercion.\")\n",
    "\n",
    "# Display the data type of the 'USD_PRICE' column to confirm it's numeric\n",
    "print(f\"Data type of USD_PRICE column: {df['USD_PRICE'].dtype}\")"
   ]
  },
  {
   "cell_type": "markdown",
   "id": "1dbddfa6",
   "metadata": {},
   "source": [
    "---\n",
    "## Data exploration\n",
    "\n",
    "Perform exploratory data analysis (EDA) to understand the data distribution, identify trends, and find correlations between variables. Identify key questions the analysis should answer for stakeholders based on the data.\n",
    "\n",
    "- Display descriptive statistics for 'USD_PRICE', \n",
    "- Analyze unique values and counts for categorical columns, \n",
    "- Extract and analyze date features from timestamp columns, and \n",
    "- Calculate the correlation matrix for relevant numerical features. "
   ]
  },
  {
   "cell_type": "code",
   "execution_count": 33,
   "id": "f400362d",
   "metadata": {},
   "outputs": [
    {
     "name": "stdout",
     "output_type": "stream",
     "text": [
      "--- Descriptive statistics for USD_PRICE ---\n"
     ]
    },
    {
     "data": {
      "text/plain": [
       "count    21824.000000\n",
       "mean       281.192643\n",
       "std        366.540014\n",
       "min          0.000000\n",
       "25%        126.000000\n",
       "50%        168.000000\n",
       "75%        355.110000\n",
       "max       3146.880000\n",
       "Name: USD_PRICE, dtype: float64"
      ]
     },
     "execution_count": 33,
     "metadata": {},
     "output_type": "execute_result"
    }
   ],
   "source": [
    "# 1. Display descriptive statistics for 'USD_PRICE'\n",
    "print(\"--- Descriptive statistics for USD_PRICE ---\")\n",
    "df['USD_PRICE'].describe()"
   ]
  },
  {
   "cell_type": "code",
   "execution_count": 34,
   "id": "b23ae8c1",
   "metadata": {},
   "outputs": [
    {
     "name": "stdout",
     "output_type": "stream",
     "text": [
      "\n",
      "--- Unique values and top occurrences for categorical columns ---\n",
      "\n",
      "--- PURCHASE_PLATFORM ---\n",
      "Number of unique values: 2\n",
      "\n",
      "--- MARKETING_CHANNEL ---\n",
      "Number of unique values: 5\n",
      "\n",
      "--- ACCOUNT_CREATION_METHOD ---\n",
      "Number of unique values: 5\n",
      "\n",
      "--- COUNTRY_CODE ---\n",
      "Number of unique values: 151\n",
      "\n",
      "--- PRODUCT_NAME ---\n",
      "Number of unique values: 9\n"
     ]
    }
   ],
   "source": [
    "# 2. Calculate and display unique values and top occurrences for categorical columns\n",
    "categorical_cols = ['PURCHASE_PLATFORM', 'MARKETING_CHANNEL', 'ACCOUNT_CREATION_METHOD', 'COUNTRY_CODE', 'PRODUCT_NAME']\n",
    "print(\"\\n--- Unique values and top occurrences for categorical columns ---\")\n",
    "for col in categorical_cols:\n",
    "    print(f\"\\n--- {col} ---\")\n",
    "    unique_count = df[col].nunique()\n",
    "    top_values = df[col].value_counts().head()\n",
    "    print(f\"Number of unique values: {unique_count}\")\n",
    "    top_values.to_frame(name='Count')"
   ]
  },
  {
   "cell_type": "code",
   "execution_count": 35,
   "id": "c9f1d7d6",
   "metadata": {},
   "outputs": [
    {
     "name": "stdout",
     "output_type": "stream",
     "text": [
      "\n",
      "--- Distribution of PURCHASE_TS and SHIP_TS ---\n"
     ]
    },
    {
     "ename": "ParserError",
     "evalue": "String does not contain a date:    present at position 480",
     "output_type": "error",
     "traceback": [
      "\u001b[1;31m---------------------------------------------------------------------------\u001b[0m",
      "\u001b[1;31mParserError\u001b[0m                               Traceback (most recent call last)",
      "File \u001b[1;32mc:\\Users\\User\\anaconda3\\lib\\site-packages\\pandas\\_libs\\tslib.pyx:605\u001b[0m, in \u001b[0;36mpandas._libs.tslib.array_to_datetime\u001b[1;34m()\u001b[0m\n",
      "File \u001b[1;32mc:\\Users\\User\\anaconda3\\lib\\site-packages\\pandas\\_libs\\tslibs\\parsing.pyx:318\u001b[0m, in \u001b[0;36mpandas._libs.tslibs.parsing.parse_datetime_string\u001b[1;34m()\u001b[0m\n",
      "File \u001b[1;32mc:\\Users\\User\\anaconda3\\lib\\site-packages\\dateutil\\parser\\_parser.py:1368\u001b[0m, in \u001b[0;36mparse\u001b[1;34m(timestr, parserinfo, **kwargs)\u001b[0m\n\u001b[0;32m   1367\u001b[0m \u001b[38;5;28;01melse\u001b[39;00m:\n\u001b[1;32m-> 1368\u001b[0m     \u001b[38;5;28;01mreturn\u001b[39;00m DEFAULTPARSER\u001b[38;5;241m.\u001b[39mparse(timestr, \u001b[38;5;241m*\u001b[39m\u001b[38;5;241m*\u001b[39mkwargs)\n",
      "File \u001b[1;32mc:\\Users\\User\\anaconda3\\lib\\site-packages\\dateutil\\parser\\_parser.py:646\u001b[0m, in \u001b[0;36mparser.parse\u001b[1;34m(self, timestr, default, ignoretz, tzinfos, **kwargs)\u001b[0m\n\u001b[0;32m    645\u001b[0m \u001b[38;5;28;01mif\u001b[39;00m \u001b[38;5;28mlen\u001b[39m(res) \u001b[38;5;241m==\u001b[39m \u001b[38;5;241m0\u001b[39m:\n\u001b[1;32m--> 646\u001b[0m     \u001b[38;5;28;01mraise\u001b[39;00m ParserError(\u001b[38;5;124m\"\u001b[39m\u001b[38;5;124mString does not contain a date: \u001b[39m\u001b[38;5;132;01m%s\u001b[39;00m\u001b[38;5;124m\"\u001b[39m, timestr)\n\u001b[0;32m    648\u001b[0m \u001b[38;5;28;01mtry\u001b[39;00m:\n",
      "\u001b[1;31mParserError\u001b[0m: String does not contain a date:   ",
      "\nDuring handling of the above exception, another exception occurred:\n",
      "\u001b[1;31mTypeError\u001b[0m                                 Traceback (most recent call last)",
      "File \u001b[1;32mc:\\Users\\User\\anaconda3\\lib\\site-packages\\pandas\\_libs\\tslib.pyx:616\u001b[0m, in \u001b[0;36mpandas._libs.tslib.array_to_datetime\u001b[1;34m()\u001b[0m\n",
      "\u001b[1;31mTypeError\u001b[0m: invalid string coercion to datetime for \"  \" at position 480",
      "\nDuring handling of the above exception, another exception occurred:\n",
      "\u001b[1;31mParserError\u001b[0m                               Traceback (most recent call last)",
      "Cell \u001b[1;32mIn[35], line 3\u001b[0m\n\u001b[0;32m      1\u001b[0m \u001b[38;5;66;03m# 3. Explore the distribution of 'PURCHASE_TS' and 'SHIP_TS'\u001b[39;00m\n\u001b[0;32m      2\u001b[0m \u001b[38;5;28mprint\u001b[39m(\u001b[38;5;124m\"\u001b[39m\u001b[38;5;130;01m\\n\u001b[39;00m\u001b[38;5;124m--- Distribution of PURCHASE_TS and SHIP_TS ---\u001b[39m\u001b[38;5;124m\"\u001b[39m)\n\u001b[1;32m----> 3\u001b[0m df[\u001b[38;5;124m'\u001b[39m\u001b[38;5;124mPURCHASE_TS\u001b[39m\u001b[38;5;124m'\u001b[39m] \u001b[38;5;241m=\u001b[39m \u001b[43mpd\u001b[49m\u001b[38;5;241;43m.\u001b[39;49m\u001b[43mto_datetime\u001b[49m\u001b[43m(\u001b[49m\u001b[43mdf\u001b[49m\u001b[43m[\u001b[49m\u001b[38;5;124;43m'\u001b[39;49m\u001b[38;5;124;43mPURCHASE_TS\u001b[39;49m\u001b[38;5;124;43m'\u001b[39;49m\u001b[43m]\u001b[49m\u001b[43m)\u001b[49m\n\u001b[0;32m      4\u001b[0m df[\u001b[38;5;124m'\u001b[39m\u001b[38;5;124mSHIP_TS\u001b[39m\u001b[38;5;124m'\u001b[39m] \u001b[38;5;241m=\u001b[39m pd\u001b[38;5;241m.\u001b[39mto_datetime(df[\u001b[38;5;124m'\u001b[39m\u001b[38;5;124mSHIP_TS\u001b[39m\u001b[38;5;124m'\u001b[39m])\n\u001b[0;32m      6\u001b[0m df[\u001b[38;5;124m'\u001b[39m\u001b[38;5;124mpurchase_year\u001b[39m\u001b[38;5;124m'\u001b[39m] \u001b[38;5;241m=\u001b[39m df[\u001b[38;5;124m'\u001b[39m\u001b[38;5;124mPURCHASE_TS\u001b[39m\u001b[38;5;124m'\u001b[39m]\u001b[38;5;241m.\u001b[39mdt\u001b[38;5;241m.\u001b[39myear\n",
      "File \u001b[1;32mc:\\Users\\User\\anaconda3\\lib\\site-packages\\pandas\\core\\tools\\datetimes.py:1064\u001b[0m, in \u001b[0;36mto_datetime\u001b[1;34m(arg, errors, dayfirst, yearfirst, utc, format, exact, unit, infer_datetime_format, origin, cache)\u001b[0m\n\u001b[0;32m   1062\u001b[0m             result \u001b[38;5;241m=\u001b[39m arg\u001b[38;5;241m.\u001b[39mtz_localize(tz)\n\u001b[0;32m   1063\u001b[0m \u001b[38;5;28;01melif\u001b[39;00m \u001b[38;5;28misinstance\u001b[39m(arg, ABCSeries):\n\u001b[1;32m-> 1064\u001b[0m     cache_array \u001b[38;5;241m=\u001b[39m \u001b[43m_maybe_cache\u001b[49m\u001b[43m(\u001b[49m\u001b[43marg\u001b[49m\u001b[43m,\u001b[49m\u001b[43m \u001b[49m\u001b[38;5;28;43mformat\u001b[39;49m\u001b[43m,\u001b[49m\u001b[43m \u001b[49m\u001b[43mcache\u001b[49m\u001b[43m,\u001b[49m\u001b[43m \u001b[49m\u001b[43mconvert_listlike\u001b[49m\u001b[43m)\u001b[49m\n\u001b[0;32m   1065\u001b[0m     \u001b[38;5;28;01mif\u001b[39;00m \u001b[38;5;129;01mnot\u001b[39;00m cache_array\u001b[38;5;241m.\u001b[39mempty:\n\u001b[0;32m   1066\u001b[0m         result \u001b[38;5;241m=\u001b[39m arg\u001b[38;5;241m.\u001b[39mmap(cache_array)\n",
      "File \u001b[1;32mc:\\Users\\User\\anaconda3\\lib\\site-packages\\pandas\\core\\tools\\datetimes.py:229\u001b[0m, in \u001b[0;36m_maybe_cache\u001b[1;34m(arg, format, cache, convert_listlike)\u001b[0m\n\u001b[0;32m    227\u001b[0m unique_dates \u001b[38;5;241m=\u001b[39m unique(arg)\n\u001b[0;32m    228\u001b[0m \u001b[38;5;28;01mif\u001b[39;00m \u001b[38;5;28mlen\u001b[39m(unique_dates) \u001b[38;5;241m<\u001b[39m \u001b[38;5;28mlen\u001b[39m(arg):\n\u001b[1;32m--> 229\u001b[0m     cache_dates \u001b[38;5;241m=\u001b[39m \u001b[43mconvert_listlike\u001b[49m\u001b[43m(\u001b[49m\u001b[43munique_dates\u001b[49m\u001b[43m,\u001b[49m\u001b[43m \u001b[49m\u001b[38;5;28;43mformat\u001b[39;49m\u001b[43m)\u001b[49m\n\u001b[0;32m    230\u001b[0m     \u001b[38;5;66;03m# GH#45319\u001b[39;00m\n\u001b[0;32m    231\u001b[0m     \u001b[38;5;28;01mtry\u001b[39;00m:\n",
      "File \u001b[1;32mc:\\Users\\User\\anaconda3\\lib\\site-packages\\pandas\\core\\tools\\datetimes.py:438\u001b[0m, in \u001b[0;36m_convert_listlike_datetimes\u001b[1;34m(arg, format, name, tz, unit, errors, infer_datetime_format, dayfirst, yearfirst, exact)\u001b[0m\n\u001b[0;32m    436\u001b[0m \u001b[38;5;28;01massert\u001b[39;00m \u001b[38;5;28mformat\u001b[39m \u001b[38;5;129;01mis\u001b[39;00m \u001b[38;5;28;01mNone\u001b[39;00m \u001b[38;5;129;01mor\u001b[39;00m infer_datetime_format\n\u001b[0;32m    437\u001b[0m utc \u001b[38;5;241m=\u001b[39m tz \u001b[38;5;241m==\u001b[39m \u001b[38;5;124m\"\u001b[39m\u001b[38;5;124mutc\u001b[39m\u001b[38;5;124m\"\u001b[39m\n\u001b[1;32m--> 438\u001b[0m result, tz_parsed \u001b[38;5;241m=\u001b[39m \u001b[43mobjects_to_datetime64ns\u001b[49m\u001b[43m(\u001b[49m\n\u001b[0;32m    439\u001b[0m \u001b[43m    \u001b[49m\u001b[43marg\u001b[49m\u001b[43m,\u001b[49m\n\u001b[0;32m    440\u001b[0m \u001b[43m    \u001b[49m\u001b[43mdayfirst\u001b[49m\u001b[38;5;241;43m=\u001b[39;49m\u001b[43mdayfirst\u001b[49m\u001b[43m,\u001b[49m\n\u001b[0;32m    441\u001b[0m \u001b[43m    \u001b[49m\u001b[43myearfirst\u001b[49m\u001b[38;5;241;43m=\u001b[39;49m\u001b[43myearfirst\u001b[49m\u001b[43m,\u001b[49m\n\u001b[0;32m    442\u001b[0m \u001b[43m    \u001b[49m\u001b[43mutc\u001b[49m\u001b[38;5;241;43m=\u001b[39;49m\u001b[43mutc\u001b[49m\u001b[43m,\u001b[49m\n\u001b[0;32m    443\u001b[0m \u001b[43m    \u001b[49m\u001b[43merrors\u001b[49m\u001b[38;5;241;43m=\u001b[39;49m\u001b[43merrors\u001b[49m\u001b[43m,\u001b[49m\n\u001b[0;32m    444\u001b[0m \u001b[43m    \u001b[49m\u001b[43mrequire_iso8601\u001b[49m\u001b[38;5;241;43m=\u001b[39;49m\u001b[43mrequire_iso8601\u001b[49m\u001b[43m,\u001b[49m\n\u001b[0;32m    445\u001b[0m \u001b[43m    \u001b[49m\u001b[43mallow_object\u001b[49m\u001b[38;5;241;43m=\u001b[39;49m\u001b[38;5;28;43;01mTrue\u001b[39;49;00m\u001b[43m,\u001b[49m\n\u001b[0;32m    446\u001b[0m \u001b[43m\u001b[49m\u001b[43m)\u001b[49m\n\u001b[0;32m    448\u001b[0m \u001b[38;5;28;01mif\u001b[39;00m tz_parsed \u001b[38;5;129;01mis\u001b[39;00m \u001b[38;5;129;01mnot\u001b[39;00m \u001b[38;5;28;01mNone\u001b[39;00m:\n\u001b[0;32m    449\u001b[0m     \u001b[38;5;66;03m# We can take a shortcut since the datetime64 numpy array\u001b[39;00m\n\u001b[0;32m    450\u001b[0m     \u001b[38;5;66;03m# is in UTC\u001b[39;00m\n\u001b[0;32m    451\u001b[0m     dta \u001b[38;5;241m=\u001b[39m DatetimeArray(result, dtype\u001b[38;5;241m=\u001b[39mtz_to_dtype(tz_parsed))\n",
      "File \u001b[1;32mc:\\Users\\User\\anaconda3\\lib\\site-packages\\pandas\\core\\arrays\\datetimes.py:2177\u001b[0m, in \u001b[0;36mobjects_to_datetime64ns\u001b[1;34m(data, dayfirst, yearfirst, utc, errors, require_iso8601, allow_object, allow_mixed)\u001b[0m\n\u001b[0;32m   2175\u001b[0m order: Literal[\u001b[38;5;124m\"\u001b[39m\u001b[38;5;124mF\u001b[39m\u001b[38;5;124m\"\u001b[39m, \u001b[38;5;124m\"\u001b[39m\u001b[38;5;124mC\u001b[39m\u001b[38;5;124m\"\u001b[39m] \u001b[38;5;241m=\u001b[39m \u001b[38;5;124m\"\u001b[39m\u001b[38;5;124mF\u001b[39m\u001b[38;5;124m\"\u001b[39m \u001b[38;5;28;01mif\u001b[39;00m flags\u001b[38;5;241m.\u001b[39mf_contiguous \u001b[38;5;28;01melse\u001b[39;00m \u001b[38;5;124m\"\u001b[39m\u001b[38;5;124mC\u001b[39m\u001b[38;5;124m\"\u001b[39m\n\u001b[0;32m   2176\u001b[0m \u001b[38;5;28;01mtry\u001b[39;00m:\n\u001b[1;32m-> 2177\u001b[0m     result, tz_parsed \u001b[38;5;241m=\u001b[39m \u001b[43mtslib\u001b[49m\u001b[38;5;241;43m.\u001b[39;49m\u001b[43marray_to_datetime\u001b[49m\u001b[43m(\u001b[49m\n\u001b[0;32m   2178\u001b[0m \u001b[43m        \u001b[49m\u001b[43mdata\u001b[49m\u001b[38;5;241;43m.\u001b[39;49m\u001b[43mravel\u001b[49m\u001b[43m(\u001b[49m\u001b[38;5;124;43m\"\u001b[39;49m\u001b[38;5;124;43mK\u001b[39;49m\u001b[38;5;124;43m\"\u001b[39;49m\u001b[43m)\u001b[49m\u001b[43m,\u001b[49m\n\u001b[0;32m   2179\u001b[0m \u001b[43m        \u001b[49m\u001b[43merrors\u001b[49m\u001b[38;5;241;43m=\u001b[39;49m\u001b[43merrors\u001b[49m\u001b[43m,\u001b[49m\n\u001b[0;32m   2180\u001b[0m \u001b[43m        \u001b[49m\u001b[43mutc\u001b[49m\u001b[38;5;241;43m=\u001b[39;49m\u001b[43mutc\u001b[49m\u001b[43m,\u001b[49m\n\u001b[0;32m   2181\u001b[0m \u001b[43m        \u001b[49m\u001b[43mdayfirst\u001b[49m\u001b[38;5;241;43m=\u001b[39;49m\u001b[43mdayfirst\u001b[49m\u001b[43m,\u001b[49m\n\u001b[0;32m   2182\u001b[0m \u001b[43m        \u001b[49m\u001b[43myearfirst\u001b[49m\u001b[38;5;241;43m=\u001b[39;49m\u001b[43myearfirst\u001b[49m\u001b[43m,\u001b[49m\n\u001b[0;32m   2183\u001b[0m \u001b[43m        \u001b[49m\u001b[43mrequire_iso8601\u001b[49m\u001b[38;5;241;43m=\u001b[39;49m\u001b[43mrequire_iso8601\u001b[49m\u001b[43m,\u001b[49m\n\u001b[0;32m   2184\u001b[0m \u001b[43m        \u001b[49m\u001b[43mallow_mixed\u001b[49m\u001b[38;5;241;43m=\u001b[39;49m\u001b[43mallow_mixed\u001b[49m\u001b[43m,\u001b[49m\n\u001b[0;32m   2185\u001b[0m \u001b[43m    \u001b[49m\u001b[43m)\u001b[49m\n\u001b[0;32m   2186\u001b[0m     result \u001b[38;5;241m=\u001b[39m result\u001b[38;5;241m.\u001b[39mreshape(data\u001b[38;5;241m.\u001b[39mshape, order\u001b[38;5;241m=\u001b[39morder)\n\u001b[0;32m   2187\u001b[0m \u001b[38;5;28;01mexcept\u001b[39;00m \u001b[38;5;167;01mOverflowError\u001b[39;00m \u001b[38;5;28;01mas\u001b[39;00m err:\n\u001b[0;32m   2188\u001b[0m     \u001b[38;5;66;03m# Exception is raised when a part of date is greater than 32 bit signed int\u001b[39;00m\n",
      "File \u001b[1;32mc:\\Users\\User\\anaconda3\\lib\\site-packages\\pandas\\_libs\\tslib.pyx:427\u001b[0m, in \u001b[0;36mpandas._libs.tslib.array_to_datetime\u001b[1;34m()\u001b[0m\n",
      "File \u001b[1;32mc:\\Users\\User\\anaconda3\\lib\\site-packages\\pandas\\_libs\\tslib.pyx:683\u001b[0m, in \u001b[0;36mpandas._libs.tslib.array_to_datetime\u001b[1;34m()\u001b[0m\n",
      "File \u001b[1;32mc:\\Users\\User\\anaconda3\\lib\\site-packages\\pandas\\_libs\\tslib.pyx:829\u001b[0m, in \u001b[0;36mpandas._libs.tslib._array_to_datetime_object\u001b[1;34m()\u001b[0m\n",
      "File \u001b[1;32mc:\\Users\\User\\anaconda3\\lib\\site-packages\\pandas\\_libs\\tslib.pyx:819\u001b[0m, in \u001b[0;36mpandas._libs.tslib._array_to_datetime_object\u001b[1;34m()\u001b[0m\n",
      "File \u001b[1;32mc:\\Users\\User\\anaconda3\\lib\\site-packages\\pandas\\_libs\\tslibs\\parsing.pyx:318\u001b[0m, in \u001b[0;36mpandas._libs.tslibs.parsing.parse_datetime_string\u001b[1;34m()\u001b[0m\n",
      "File \u001b[1;32mc:\\Users\\User\\anaconda3\\lib\\site-packages\\dateutil\\parser\\_parser.py:1368\u001b[0m, in \u001b[0;36mparse\u001b[1;34m(timestr, parserinfo, **kwargs)\u001b[0m\n\u001b[0;32m   1366\u001b[0m     \u001b[38;5;28;01mreturn\u001b[39;00m parser(parserinfo)\u001b[38;5;241m.\u001b[39mparse(timestr, \u001b[38;5;241m*\u001b[39m\u001b[38;5;241m*\u001b[39mkwargs)\n\u001b[0;32m   1367\u001b[0m \u001b[38;5;28;01melse\u001b[39;00m:\n\u001b[1;32m-> 1368\u001b[0m     \u001b[38;5;28;01mreturn\u001b[39;00m DEFAULTPARSER\u001b[38;5;241m.\u001b[39mparse(timestr, \u001b[38;5;241m*\u001b[39m\u001b[38;5;241m*\u001b[39mkwargs)\n",
      "File \u001b[1;32mc:\\Users\\User\\anaconda3\\lib\\site-packages\\dateutil\\parser\\_parser.py:646\u001b[0m, in \u001b[0;36mparser.parse\u001b[1;34m(self, timestr, default, ignoretz, tzinfos, **kwargs)\u001b[0m\n\u001b[0;32m    643\u001b[0m     \u001b[38;5;28;01mraise\u001b[39;00m ParserError(\u001b[38;5;124m\"\u001b[39m\u001b[38;5;124mUnknown string format: \u001b[39m\u001b[38;5;132;01m%s\u001b[39;00m\u001b[38;5;124m\"\u001b[39m, timestr)\n\u001b[0;32m    645\u001b[0m \u001b[38;5;28;01mif\u001b[39;00m \u001b[38;5;28mlen\u001b[39m(res) \u001b[38;5;241m==\u001b[39m \u001b[38;5;241m0\u001b[39m:\n\u001b[1;32m--> 646\u001b[0m     \u001b[38;5;28;01mraise\u001b[39;00m ParserError(\u001b[38;5;124m\"\u001b[39m\u001b[38;5;124mString does not contain a date: \u001b[39m\u001b[38;5;132;01m%s\u001b[39;00m\u001b[38;5;124m\"\u001b[39m, timestr)\n\u001b[0;32m    648\u001b[0m \u001b[38;5;28;01mtry\u001b[39;00m:\n\u001b[0;32m    649\u001b[0m     ret \u001b[38;5;241m=\u001b[39m \u001b[38;5;28mself\u001b[39m\u001b[38;5;241m.\u001b[39m_build_naive(res, default)\n",
      "\u001b[1;31mParserError\u001b[0m: String does not contain a date:    present at position 480"
     ]
    }
   ],
   "source": [
    "# 3. Explore the distribution of 'PURCHASE_TS' and 'SHIP_TS'\n",
    "print(\"\\n--- Distribution of PURCHASE_TS and SHIP_TS ---\")\n",
    "df['PURCHASE_TS'] = pd.to_datetime(df['PURCHASE_TS'])\n",
    "df['SHIP_TS'] = pd.to_datetime(df['SHIP_TS'])\n",
    "\n",
    "df['purchase_year'] = df['PURCHASE_TS'].dt.year\n",
    "df['purchase_month'] = df['PURCHASE_TS'].dt.month\n",
    "df['purchase_dayofweek'] = df['PURCHASE_TS'].dt.dayofweek # Monday=0, Sunday=6\n",
    "df['purchase_hour'] = df['PURCHASE_TS'].dt.hour\n",
    "\n",
    "df['ship_year'] = df['SHIP_TS'].dt.year\n",
    "df['ship_month'] = df['SHIP_TS'].dt.month\n",
    "df['ship_dayofweek'] = df['SHIP_TS'].dt.dayofweek\n",
    "df['ship_hour'] = df['SHIP_TS'].dt.hour\n",
    "\n",
    "print(\"\\nPurchase Year Distribution:\")\n",
    "display(df['purchase_year'].value_counts().sort_index().to_frame(name='Count').to_markdown(numalign=\"left\", stralign=\"left\"))\n",
    "print(\"\\nPurchase Month Distribution:\")\n",
    "display(df['purchase_month'].value_counts().sort_index().to_frame(name='Count').to_markdown(numalign=\"left\", stralign=\"left\"))\n",
    "print(\"\\nPurchase Day of Week Distribution:\")\n",
    "display(df['purchase_dayofweek'].value_counts().sort_index().to_frame(name='Count').to_markdown(numalign=\"left\", stralign=\"left\"))\n",
    "print(\"\\nPurchase Hour Distribution:\")\n",
    "display(df['purchase_hour'].value_counts().sort_index().to_frame(name='Count').to_markdown(numalign=\"left\", stralign=\"left\"))\n",
    "\n",
    "# We can similarly display ship date distributions if needed\n"
   ]
  },
  {
   "cell_type": "markdown",
   "id": "33000a0b",
   "metadata": {},
   "source": [
    "**There is an issue parsing the ```PURCHASE_TS``` column to datetime, likely due to some invalid entries. \n",
    "I will use errors='coerce' in pd.to_datetime to turn invalid parsing into NaT (Not a Time)**"
   ]
  },
  {
   "cell_type": "code",
   "execution_count": 38,
   "id": "4c48aed1",
   "metadata": {},
   "outputs": [
    {
     "name": "stdout",
     "output_type": "stream",
     "text": [
      "\n",
      "--- Distribution of PURCHASE_TS and SHIP_TS ---\n",
      "\n",
      "Purchase Year Distribution:\n"
     ]
    },
    {
     "data": {
      "text/plain": [
       "'|      | Count   |\\n|:-----|:--------|\\n| 2019 | 6610    |\\n| 2020 | 13363   |\\n| 2021 | 1846    |'"
      ]
     },
     "metadata": {},
     "output_type": "display_data"
    },
    {
     "name": "stdout",
     "output_type": "stream",
     "text": [
      "\n",
      "Purchase Month Distribution:\n"
     ]
    },
    {
     "data": {
      "text/plain": [
       "'|    | Count   |\\n|:---|:--------|\\n| 1  | 1785    |\\n| 2  | 1825    |\\n| 3  | 1509    |\\n| 4  | 1723    |\\n| 5  | 1727    |\\n| 6  | 1613    |\\n| 7  | 1692    |\\n| 8  | 1796    |\\n| 9  | 2176    |\\n| 10 | 1549    |\\n| 11 | 1955    |\\n| 12 | 2469    |'"
      ]
     },
     "metadata": {},
     "output_type": "display_data"
    },
    {
     "name": "stdout",
     "output_type": "stream",
     "text": [
      "\n",
      "Purchase Day of Week Distribution:\n"
     ]
    },
    {
     "data": {
      "text/plain": [
       "'|    | Count   |\\n|:---|:--------|\\n| 0  | 3087    |\\n| 1  | 3025    |\\n| 2  | 3113    |\\n| 3  | 3108    |\\n| 4  | 3194    |\\n| 5  | 3115    |\\n| 6  | 3177    |'"
      ]
     },
     "metadata": {},
     "output_type": "display_data"
    },
    {
     "name": "stdout",
     "output_type": "stream",
     "text": [
      "\n",
      "Purchase Hour Distribution:\n"
     ]
    },
    {
     "data": {
      "text/plain": [
       "'|    | Count   |\\n|:---|:--------|\\n| 0  | 21813   |\\n| 1  | 6       |'"
      ]
     },
     "metadata": {},
     "output_type": "display_data"
    }
   ],
   "source": [
    "# 3. Explore the distribution of 'PURCHASE_TS' and 'SHIP_TS'\n",
    "print(\"\\n--- Distribution of PURCHASE_TS and SHIP_TS ---\")\n",
    "# Convert with error handling\n",
    "df['PURCHASE_TS'] = pd.to_datetime(df['PURCHASE_TS'], errors='coerce')\n",
    "df['SHIP_TS'] = pd.to_datetime(df['SHIP_TS'], errors='coerce')\n",
    "\n",
    "# Drop rows where timestamp conversion failed\n",
    "df.dropna(subset=['PURCHASE_TS', 'SHIP_TS'], inplace=True)\n",
    "\n",
    "df['purchase_year'] = df['PURCHASE_TS'].dt.year\n",
    "df['purchase_month'] = df['PURCHASE_TS'].dt.month\n",
    "df['purchase_dayofweek'] = df['PURCHASE_TS'].dt.dayofweek # Monday=0, Sunday=6\n",
    "df['purchase_hour'] = df['PURCHASE_TS'].dt.hour\n",
    "\n",
    "df['ship_year'] = df['SHIP_TS'].dt.year\n",
    "df['ship_month'] = df['SHIP_TS'].dt.month\n",
    "df['ship_dayofweek'] = df['SHIP_TS'].dt.dayofweek\n",
    "df['ship_hour'] = df['SHIP_TS'].dt.hour\n",
    "\n",
    "print(\"\\nPurchase Year Distribution:\")\n",
    "display(df['purchase_year'].value_counts().sort_index().to_frame(name='Count').to_markdown(numalign=\"left\", stralign=\"left\"))\n",
    "print(\"\\nPurchase Month Distribution:\")\n",
    "display(df['purchase_month'].value_counts().sort_index().to_frame(name='Count').to_markdown(numalign=\"left\", stralign=\"left\"))\n",
    "print(\"\\nPurchase Day of Week Distribution:\")\n",
    "display(df['purchase_dayofweek'].value_counts().sort_index().to_frame(name='Count').to_markdown(numalign=\"left\", stralign=\"left\"))\n",
    "print(\"\\nPurchase Hour Distribution:\")\n",
    "display(df['purchase_hour'].value_counts().sort_index().to_frame(name='Count').to_markdown(numalign=\"left\", stralign=\"left\"))"
   ]
  },
  {
   "cell_type": "code",
   "execution_count": 42,
   "id": "7f4bcbc3",
   "metadata": {},
   "outputs": [
    {
     "name": "stdout",
     "output_type": "stream",
     "text": [
      "\n",
      "Purchase Year Distribution:\n"
     ]
    },
    {
     "data": {
      "text/html": [
       "<div>\n",
       "<style scoped>\n",
       "    .dataframe tbody tr th:only-of-type {\n",
       "        vertical-align: middle;\n",
       "    }\n",
       "\n",
       "    .dataframe tbody tr th {\n",
       "        vertical-align: top;\n",
       "    }\n",
       "\n",
       "    .dataframe thead th {\n",
       "        text-align: right;\n",
       "    }\n",
       "</style>\n",
       "<table border=\"1\" class=\"dataframe\">\n",
       "  <thead>\n",
       "    <tr style=\"text-align: right;\">\n",
       "      <th></th>\n",
       "      <th>Count</th>\n",
       "    </tr>\n",
       "  </thead>\n",
       "  <tbody>\n",
       "    <tr>\n",
       "      <th>2019</th>\n",
       "      <td>6610</td>\n",
       "    </tr>\n",
       "    <tr>\n",
       "      <th>2020</th>\n",
       "      <td>13363</td>\n",
       "    </tr>\n",
       "    <tr>\n",
       "      <th>2021</th>\n",
       "      <td>1846</td>\n",
       "    </tr>\n",
       "  </tbody>\n",
       "</table>\n",
       "</div>"
      ],
      "text/plain": [
       "      Count\n",
       "2019   6610\n",
       "2020  13363\n",
       "2021   1846"
      ]
     },
     "execution_count": 42,
     "metadata": {},
     "output_type": "execute_result"
    }
   ],
   "source": [
    "print(\"\\nPurchase Year Distribution:\")\n",
    "df['purchase_year'].value_counts().sort_index().to_frame(name='Count')"
   ]
  },
  {
   "cell_type": "code",
   "execution_count": 44,
   "id": "2ae2817c",
   "metadata": {},
   "outputs": [
    {
     "name": "stdout",
     "output_type": "stream",
     "text": [
      "\n",
      "Purchase Month Distribution:\n"
     ]
    },
    {
     "data": {
      "text/html": [
       "<div>\n",
       "<style scoped>\n",
       "    .dataframe tbody tr th:only-of-type {\n",
       "        vertical-align: middle;\n",
       "    }\n",
       "\n",
       "    .dataframe tbody tr th {\n",
       "        vertical-align: top;\n",
       "    }\n",
       "\n",
       "    .dataframe thead th {\n",
       "        text-align: right;\n",
       "    }\n",
       "</style>\n",
       "<table border=\"1\" class=\"dataframe\">\n",
       "  <thead>\n",
       "    <tr style=\"text-align: right;\">\n",
       "      <th></th>\n",
       "      <th>Count</th>\n",
       "    </tr>\n",
       "  </thead>\n",
       "  <tbody>\n",
       "    <tr>\n",
       "      <th>1</th>\n",
       "      <td>1785</td>\n",
       "    </tr>\n",
       "    <tr>\n",
       "      <th>2</th>\n",
       "      <td>1825</td>\n",
       "    </tr>\n",
       "    <tr>\n",
       "      <th>3</th>\n",
       "      <td>1509</td>\n",
       "    </tr>\n",
       "    <tr>\n",
       "      <th>4</th>\n",
       "      <td>1723</td>\n",
       "    </tr>\n",
       "    <tr>\n",
       "      <th>5</th>\n",
       "      <td>1727</td>\n",
       "    </tr>\n",
       "    <tr>\n",
       "      <th>6</th>\n",
       "      <td>1613</td>\n",
       "    </tr>\n",
       "    <tr>\n",
       "      <th>7</th>\n",
       "      <td>1692</td>\n",
       "    </tr>\n",
       "    <tr>\n",
       "      <th>8</th>\n",
       "      <td>1796</td>\n",
       "    </tr>\n",
       "    <tr>\n",
       "      <th>9</th>\n",
       "      <td>2176</td>\n",
       "    </tr>\n",
       "    <tr>\n",
       "      <th>10</th>\n",
       "      <td>1549</td>\n",
       "    </tr>\n",
       "    <tr>\n",
       "      <th>11</th>\n",
       "      <td>1955</td>\n",
       "    </tr>\n",
       "    <tr>\n",
       "      <th>12</th>\n",
       "      <td>2469</td>\n",
       "    </tr>\n",
       "  </tbody>\n",
       "</table>\n",
       "</div>"
      ],
      "text/plain": [
       "    Count\n",
       "1    1785\n",
       "2    1825\n",
       "3    1509\n",
       "4    1723\n",
       "5    1727\n",
       "6    1613\n",
       "7    1692\n",
       "8    1796\n",
       "9    2176\n",
       "10   1549\n",
       "11   1955\n",
       "12   2469"
      ]
     },
     "execution_count": 44,
     "metadata": {},
     "output_type": "execute_result"
    }
   ],
   "source": [
    "print(\"\\nPurchase Month Distribution:\")\n",
    "df['purchase_month'].value_counts().sort_index().to_frame(name='Count')"
   ]
  },
  {
   "cell_type": "code",
   "execution_count": 45,
   "id": "0a83c318",
   "metadata": {},
   "outputs": [
    {
     "name": "stdout",
     "output_type": "stream",
     "text": [
      "\n",
      "Purchase Day of Week Distribution:\n"
     ]
    },
    {
     "data": {
      "text/html": [
       "<div>\n",
       "<style scoped>\n",
       "    .dataframe tbody tr th:only-of-type {\n",
       "        vertical-align: middle;\n",
       "    }\n",
       "\n",
       "    .dataframe tbody tr th {\n",
       "        vertical-align: top;\n",
       "    }\n",
       "\n",
       "    .dataframe thead th {\n",
       "        text-align: right;\n",
       "    }\n",
       "</style>\n",
       "<table border=\"1\" class=\"dataframe\">\n",
       "  <thead>\n",
       "    <tr style=\"text-align: right;\">\n",
       "      <th></th>\n",
       "      <th>Count</th>\n",
       "    </tr>\n",
       "  </thead>\n",
       "  <tbody>\n",
       "    <tr>\n",
       "      <th>0</th>\n",
       "      <td>3087</td>\n",
       "    </tr>\n",
       "    <tr>\n",
       "      <th>1</th>\n",
       "      <td>3025</td>\n",
       "    </tr>\n",
       "    <tr>\n",
       "      <th>2</th>\n",
       "      <td>3113</td>\n",
       "    </tr>\n",
       "    <tr>\n",
       "      <th>3</th>\n",
       "      <td>3108</td>\n",
       "    </tr>\n",
       "    <tr>\n",
       "      <th>4</th>\n",
       "      <td>3194</td>\n",
       "    </tr>\n",
       "    <tr>\n",
       "      <th>5</th>\n",
       "      <td>3115</td>\n",
       "    </tr>\n",
       "    <tr>\n",
       "      <th>6</th>\n",
       "      <td>3177</td>\n",
       "    </tr>\n",
       "  </tbody>\n",
       "</table>\n",
       "</div>"
      ],
      "text/plain": [
       "   Count\n",
       "0   3087\n",
       "1   3025\n",
       "2   3113\n",
       "3   3108\n",
       "4   3194\n",
       "5   3115\n",
       "6   3177"
      ]
     },
     "execution_count": 45,
     "metadata": {},
     "output_type": "execute_result"
    }
   ],
   "source": [
    "print(\"\\nPurchase Day of Week Distribution:\")\n",
    "df['purchase_dayofweek'].value_counts().sort_index().to_frame(name='Count')"
   ]
  },
  {
   "cell_type": "code",
   "execution_count": 46,
   "id": "32436a9c",
   "metadata": {},
   "outputs": [
    {
     "name": "stdout",
     "output_type": "stream",
     "text": [
      "\n",
      "Purchase Hour Distribution:\n"
     ]
    },
    {
     "data": {
      "text/html": [
       "<div>\n",
       "<style scoped>\n",
       "    .dataframe tbody tr th:only-of-type {\n",
       "        vertical-align: middle;\n",
       "    }\n",
       "\n",
       "    .dataframe tbody tr th {\n",
       "        vertical-align: top;\n",
       "    }\n",
       "\n",
       "    .dataframe thead th {\n",
       "        text-align: right;\n",
       "    }\n",
       "</style>\n",
       "<table border=\"1\" class=\"dataframe\">\n",
       "  <thead>\n",
       "    <tr style=\"text-align: right;\">\n",
       "      <th></th>\n",
       "      <th>Count</th>\n",
       "    </tr>\n",
       "  </thead>\n",
       "  <tbody>\n",
       "    <tr>\n",
       "      <th>0</th>\n",
       "      <td>21813</td>\n",
       "    </tr>\n",
       "    <tr>\n",
       "      <th>1</th>\n",
       "      <td>6</td>\n",
       "    </tr>\n",
       "  </tbody>\n",
       "</table>\n",
       "</div>"
      ],
      "text/plain": [
       "   Count\n",
       "0  21813\n",
       "1      6"
      ]
     },
     "execution_count": 46,
     "metadata": {},
     "output_type": "execute_result"
    }
   ],
   "source": [
    "print(\"\\nPurchase Hour Distribution:\")\n",
    "df['purchase_hour'].value_counts().sort_index().to_frame(name='Count')"
   ]
  },
  {
   "cell_type": "code",
   "execution_count": 55,
   "id": "1c4ed31f",
   "metadata": {},
   "outputs": [
    {
     "name": "stdout",
     "output_type": "stream",
     "text": [
      "\n",
      "--- Correlation matrix for numerical features ---\n"
     ]
    },
    {
     "data": {
      "text/html": [
       "<div>\n",
       "<style scoped>\n",
       "    .dataframe tbody tr th:only-of-type {\n",
       "        vertical-align: middle;\n",
       "    }\n",
       "\n",
       "    .dataframe tbody tr th {\n",
       "        vertical-align: top;\n",
       "    }\n",
       "\n",
       "    .dataframe thead th {\n",
       "        text-align: right;\n",
       "    }\n",
       "</style>\n",
       "<table border=\"1\" class=\"dataframe\">\n",
       "  <thead>\n",
       "    <tr style=\"text-align: right;\">\n",
       "      <th></th>\n",
       "      <th>USD_PRICE</th>\n",
       "      <th>purchase_year</th>\n",
       "      <th>purchase_month</th>\n",
       "      <th>purchase_dayofweek</th>\n",
       "      <th>purchase_hour</th>\n",
       "      <th>ship_year</th>\n",
       "      <th>ship_month</th>\n",
       "      <th>ship_dayofweek</th>\n",
       "      <th>ship_hour</th>\n",
       "    </tr>\n",
       "  </thead>\n",
       "  <tbody>\n",
       "    <tr>\n",
       "      <th>USD_PRICE</th>\n",
       "      <td>1.000000</td>\n",
       "      <td>0.072347</td>\n",
       "      <td>0.018930</td>\n",
       "      <td>-0.000510</td>\n",
       "      <td>0.007995</td>\n",
       "      <td>0.071360</td>\n",
       "      <td>0.018683</td>\n",
       "      <td>0.002044</td>\n",
       "      <td>NaN</td>\n",
       "    </tr>\n",
       "    <tr>\n",
       "      <th>purchase_year</th>\n",
       "      <td>0.072347</td>\n",
       "      <td>1.000000</td>\n",
       "      <td>-0.264670</td>\n",
       "      <td>0.000666</td>\n",
       "      <td>0.006211</td>\n",
       "      <td>0.978591</td>\n",
       "      <td>-0.255367</td>\n",
       "      <td>0.000346</td>\n",
       "      <td>NaN</td>\n",
       "    </tr>\n",
       "    <tr>\n",
       "      <th>purchase_month</th>\n",
       "      <td>0.018930</td>\n",
       "      <td>-0.264670</td>\n",
       "      <td>1.000000</td>\n",
       "      <td>-0.007976</td>\n",
       "      <td>0.024492</td>\n",
       "      <td>-0.227992</td>\n",
       "      <td>0.921310</td>\n",
       "      <td>0.013646</td>\n",
       "      <td>NaN</td>\n",
       "    </tr>\n",
       "    <tr>\n",
       "      <th>purchase_dayofweek</th>\n",
       "      <td>-0.000510</td>\n",
       "      <td>0.000666</td>\n",
       "      <td>-0.007976</td>\n",
       "      <td>1.000000</td>\n",
       "      <td>-0.000202</td>\n",
       "      <td>-0.003414</td>\n",
       "      <td>-0.000959</td>\n",
       "      <td>-0.150848</td>\n",
       "      <td>NaN</td>\n",
       "    </tr>\n",
       "    <tr>\n",
       "      <th>purchase_hour</th>\n",
       "      <td>0.007995</td>\n",
       "      <td>0.006211</td>\n",
       "      <td>0.024492</td>\n",
       "      <td>-0.000202</td>\n",
       "      <td>1.000000</td>\n",
       "      <td>0.010851</td>\n",
       "      <td>-0.004638</td>\n",
       "      <td>-0.001321</td>\n",
       "      <td>NaN</td>\n",
       "    </tr>\n",
       "    <tr>\n",
       "      <th>ship_year</th>\n",
       "      <td>0.071360</td>\n",
       "      <td>0.978591</td>\n",
       "      <td>-0.227992</td>\n",
       "      <td>-0.003414</td>\n",
       "      <td>0.010851</td>\n",
       "      <td>1.000000</td>\n",
       "      <td>-0.284851</td>\n",
       "      <td>0.005612</td>\n",
       "      <td>NaN</td>\n",
       "    </tr>\n",
       "    <tr>\n",
       "      <th>ship_month</th>\n",
       "      <td>0.018683</td>\n",
       "      <td>-0.255367</td>\n",
       "      <td>0.921310</td>\n",
       "      <td>-0.000959</td>\n",
       "      <td>-0.004638</td>\n",
       "      <td>-0.284851</td>\n",
       "      <td>1.000000</td>\n",
       "      <td>-0.000310</td>\n",
       "      <td>NaN</td>\n",
       "    </tr>\n",
       "    <tr>\n",
       "      <th>ship_dayofweek</th>\n",
       "      <td>0.002044</td>\n",
       "      <td>0.000346</td>\n",
       "      <td>0.013646</td>\n",
       "      <td>-0.150848</td>\n",
       "      <td>-0.001321</td>\n",
       "      <td>0.005612</td>\n",
       "      <td>-0.000310</td>\n",
       "      <td>1.000000</td>\n",
       "      <td>NaN</td>\n",
       "    </tr>\n",
       "    <tr>\n",
       "      <th>ship_hour</th>\n",
       "      <td>NaN</td>\n",
       "      <td>NaN</td>\n",
       "      <td>NaN</td>\n",
       "      <td>NaN</td>\n",
       "      <td>NaN</td>\n",
       "      <td>NaN</td>\n",
       "      <td>NaN</td>\n",
       "      <td>NaN</td>\n",
       "      <td>NaN</td>\n",
       "    </tr>\n",
       "  </tbody>\n",
       "</table>\n",
       "</div>"
      ],
      "text/plain": [
       "                    USD_PRICE  purchase_year  purchase_month  \\\n",
       "USD_PRICE            1.000000       0.072347        0.018930   \n",
       "purchase_year        0.072347       1.000000       -0.264670   \n",
       "purchase_month       0.018930      -0.264670        1.000000   \n",
       "purchase_dayofweek  -0.000510       0.000666       -0.007976   \n",
       "purchase_hour        0.007995       0.006211        0.024492   \n",
       "ship_year            0.071360       0.978591       -0.227992   \n",
       "ship_month           0.018683      -0.255367        0.921310   \n",
       "ship_dayofweek       0.002044       0.000346        0.013646   \n",
       "ship_hour                 NaN            NaN             NaN   \n",
       "\n",
       "                    purchase_dayofweek  purchase_hour  ship_year  ship_month  \\\n",
       "USD_PRICE                    -0.000510       0.007995   0.071360    0.018683   \n",
       "purchase_year                 0.000666       0.006211   0.978591   -0.255367   \n",
       "purchase_month               -0.007976       0.024492  -0.227992    0.921310   \n",
       "purchase_dayofweek            1.000000      -0.000202  -0.003414   -0.000959   \n",
       "purchase_hour                -0.000202       1.000000   0.010851   -0.004638   \n",
       "ship_year                    -0.003414       0.010851   1.000000   -0.284851   \n",
       "ship_month                   -0.000959      -0.004638  -0.284851    1.000000   \n",
       "ship_dayofweek               -0.150848      -0.001321   0.005612   -0.000310   \n",
       "ship_hour                          NaN            NaN        NaN         NaN   \n",
       "\n",
       "                    ship_dayofweek  ship_hour  \n",
       "USD_PRICE                 0.002044        NaN  \n",
       "purchase_year             0.000346        NaN  \n",
       "purchase_month            0.013646        NaN  \n",
       "purchase_dayofweek       -0.150848        NaN  \n",
       "purchase_hour            -0.001321        NaN  \n",
       "ship_year                 0.005612        NaN  \n",
       "ship_month               -0.000310        NaN  \n",
       "ship_dayofweek            1.000000        NaN  \n",
       "ship_hour                      NaN        NaN  "
      ]
     },
     "execution_count": 55,
     "metadata": {},
     "output_type": "execute_result"
    }
   ],
   "source": [
    "# 4. Calculate and display the correlation matrix\n",
    "# Select relevant numerical columns\n",
    "numerical_cols_for_corr = ['USD_PRICE', 'purchase_year', 'purchase_month', 'purchase_dayofweek', 'purchase_hour', 'ship_year', 'ship_month', 'ship_dayofweek', 'ship_hour']\n",
    "correlation_matrix = df[numerical_cols_for_corr].corr()\n",
    "\n",
    "print(\"\\n--- Correlation matrix for numerical features ---\")\n",
    "correlation_matrix"
   ]
  },
  {
   "cell_type": "markdown",
   "id": "2cf105f2",
   "metadata": {},
   "source": [
    "### Formulating key questions for stakeholders based on the initial exploration.\n",
    "\n",
    "\n",
    "1. Product Performance and Popularity:\n",
    "- Which products are the most popular in terms of sales volume and revenue?\n",
    "- How does the price of a product relate to its purchase frequency?\n",
    "\n",
    "2. Customer Behavior and Trends:\n",
    "- What are the peak times (year, month, day of week, hour) for purchases and shipping?\n",
    "- Which purchase platforms (website vs. mobile app) are most used, and how do their sales volumes compare?\n",
    "- What are the most effective marketing channels for driving sales?\n",
    "- Are there any notable differences in purchase behavior based on the account creation method?\n",
    "- Which countries contribute the most to sales revenue and volume?\n",
    "\n",
    "3. Operational Efficiency:\n",
    "- Is there a significant correlation between purchase time and ship time? (Based on the correlation matrix, this seems weak, but further investigation might be needed)\n",
    "- Are there specific times or periods when shipping volume is highest, potentially impacting logistics?\n",
    "\n",
    "These questions can guide further, more in-depth analysis and help stakeholders make informed business decisions.\n"
   ]
  }
 ],
 "metadata": {
  "kernelspec": {
   "display_name": "base",
   "language": "python",
   "name": "python3"
  },
  "language_info": {
   "codemirror_mode": {
    "name": "ipython",
    "version": 3
   },
   "file_extension": ".py",
   "mimetype": "text/x-python",
   "name": "python",
   "nbconvert_exporter": "python",
   "pygments_lexer": "ipython3",
   "version": "3.10.9"
  }
 },
 "nbformat": 4,
 "nbformat_minor": 5
}
