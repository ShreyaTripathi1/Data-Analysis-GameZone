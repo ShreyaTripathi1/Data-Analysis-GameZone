{
 "cells": [
  {
   "cell_type": "markdown",
   "id": "5c3a7ed9",
   "metadata": {},
   "source": [
    "## 1. Data Loading\n",
    "\n",
    "Load the data from \"gamezone-orders-data.xlsx\" into a dataframe.\n"
   ]
  },
  {
   "cell_type": "code",
   "execution_count": 40,
   "id": "f0b523d2",
   "metadata": {},
   "outputs": [
    {
     "name": "stdout",
     "output_type": "stream",
     "text": [
      "    USER_ID           ORDER_ID          PURCHASE_TS    SHIP_TS  \\\n",
      "0  2c06175e   0001328c3c220830  2020-12-24 00:00:00 2020-12-13   \n",
      "1  ee8e5bc2  0002af7a5c6100772  2020-10-01 00:00:00 2020-09-21   \n",
      "2  9eb4efe0   0002b8350e167074  2020-04-21 00:00:00 2020-02-16   \n",
      "3  cac7cbaf   0006d06b98385729  2020-04-07 00:00:00 2020-04-04   \n",
      "4  6b0230bc   00097279a2f46150  2020-11-24 00:00:00 2020-08-02   \n",
      "\n",
      "                PRODUCT_NAME PRODUCT_ID  USD_PRICE PURCHASE_PLATFORM  \\\n",
      "0            Nintendo Switch       e682     168.00           website   \n",
      "1            Nintendo Switch       e682     160.61           website   \n",
      "2            Nintendo Switch       8d0d     151.20           website   \n",
      "3  Sony PlayStation 5 Bundle       54ed    1132.82           website   \n",
      "4            Nintendo Switch       8d0d      33.89           website   \n",
      "\n",
      "  MARKETING_CHANNEL ACCOUNT_CREATION_METHOD COUNTRY_CODE  \n",
      "0         affiliate                 unknown           US  \n",
      "1            direct                 desktop           DE  \n",
      "2            direct                 desktop           US  \n",
      "3            direct                 desktop           AU  \n",
      "4            direct                 desktop           TR  \n"
     ]
    }
   ],
   "source": [
    "import pandas as pd\n",
    "\n",
    "# Read the Excel file into a pandas DataFrame\n",
    "df = pd.read_excel(\"gamezone-orders-data.xlsx\")\n",
    "\n",
    "# Print the first 5 rows of the DataFrame\n",
    "print(df.head())"
   ]
  },
  {
   "cell_type": "code",
   "execution_count": 41,
   "id": "d3f3a154",
   "metadata": {},
   "outputs": [
    {
     "name": "stdout",
     "output_type": "stream",
     "text": [
      "USER_ID                            object\n",
      "ORDER_ID                           object\n",
      "PURCHASE_TS                        object\n",
      "SHIP_TS                    datetime64[ns]\n",
      "PRODUCT_NAME                       object\n",
      "PRODUCT_ID                         object\n",
      "USD_PRICE                         float64\n",
      "PURCHASE_PLATFORM                  object\n",
      "MARKETING_CHANNEL                  object\n",
      "ACCOUNT_CREATION_METHOD            object\n",
      "COUNTRY_CODE                       object\n",
      "dtype: object\n"
     ]
    }
   ],
   "source": [
    "# Print the column names and their data types\n",
    "print(df.dtypes)"
   ]
  },
  {
   "cell_type": "code",
   "execution_count": 42,
   "id": "2c92629c",
   "metadata": {},
   "outputs": [
    {
     "name": "stdout",
     "output_type": "stream",
     "text": [
      "<class 'pandas.core.frame.DataFrame'>\n",
      "RangeIndex: 21864 entries, 0 to 21863\n",
      "Data columns (total 11 columns):\n",
      " #   Column                   Non-Null Count  Dtype         \n",
      "---  ------                   --------------  -----         \n",
      " 0   USER_ID                  21864 non-null  object        \n",
      " 1   ORDER_ID                 21864 non-null  object        \n",
      " 2   PURCHASE_TS              21864 non-null  object        \n",
      " 3   SHIP_TS                  21864 non-null  datetime64[ns]\n",
      " 4   PRODUCT_NAME             21864 non-null  object        \n",
      " 5   PRODUCT_ID               21864 non-null  object        \n",
      " 6   USD_PRICE                21859 non-null  float64       \n",
      " 7   PURCHASE_PLATFORM        21864 non-null  object        \n",
      " 8   MARKETING_CHANNEL        21781 non-null  object        \n",
      " 9   ACCOUNT_CREATION_METHOD  21781 non-null  object        \n",
      " 10  COUNTRY_CODE             21826 non-null  object        \n",
      "dtypes: datetime64[ns](1), float64(1), object(9)\n",
      "memory usage: 1.8+ MB\n"
     ]
    }
   ],
   "source": [
    "# Print the column names and their data types\n",
    "df.info()"
   ]
  },
  {
   "cell_type": "markdown",
   "id": "475b36f2",
   "metadata": {},
   "source": [
    "## 2. Data Cleaning\n",
    "\n",
    "Clean the data, including handling missing values, removing duplicates, and addressing any inconsistencies."
   ]
  },
  {
   "cell_type": "code",
   "execution_count": 43,
   "id": "3c26a7df",
   "metadata": {},
   "outputs": [
    {
     "data": {
      "text/html": [
       "<div>\n",
       "<style scoped>\n",
       "    .dataframe tbody tr th:only-of-type {\n",
       "        vertical-align: middle;\n",
       "    }\n",
       "\n",
       "    .dataframe tbody tr th {\n",
       "        vertical-align: top;\n",
       "    }\n",
       "\n",
       "    .dataframe thead th {\n",
       "        text-align: right;\n",
       "    }\n",
       "</style>\n",
       "<table border=\"1\" class=\"dataframe\">\n",
       "  <thead>\n",
       "    <tr style=\"text-align: right;\">\n",
       "      <th></th>\n",
       "      <th>Missing Values</th>\n",
       "    </tr>\n",
       "  </thead>\n",
       "  <tbody>\n",
       "    <tr>\n",
       "      <th>USER_ID</th>\n",
       "      <td>0</td>\n",
       "    </tr>\n",
       "    <tr>\n",
       "      <th>ORDER_ID</th>\n",
       "      <td>0</td>\n",
       "    </tr>\n",
       "    <tr>\n",
       "      <th>PURCHASE_TS</th>\n",
       "      <td>0</td>\n",
       "    </tr>\n",
       "    <tr>\n",
       "      <th>SHIP_TS</th>\n",
       "      <td>0</td>\n",
       "    </tr>\n",
       "    <tr>\n",
       "      <th>PRODUCT_NAME</th>\n",
       "      <td>0</td>\n",
       "    </tr>\n",
       "    <tr>\n",
       "      <th>PRODUCT_ID</th>\n",
       "      <td>0</td>\n",
       "    </tr>\n",
       "    <tr>\n",
       "      <th>USD_PRICE</th>\n",
       "      <td>5</td>\n",
       "    </tr>\n",
       "    <tr>\n",
       "      <th>PURCHASE_PLATFORM</th>\n",
       "      <td>0</td>\n",
       "    </tr>\n",
       "    <tr>\n",
       "      <th>MARKETING_CHANNEL</th>\n",
       "      <td>83</td>\n",
       "    </tr>\n",
       "    <tr>\n",
       "      <th>ACCOUNT_CREATION_METHOD</th>\n",
       "      <td>83</td>\n",
       "    </tr>\n",
       "    <tr>\n",
       "      <th>COUNTRY_CODE</th>\n",
       "      <td>38</td>\n",
       "    </tr>\n",
       "  </tbody>\n",
       "</table>\n",
       "</div>"
      ],
      "text/plain": [
       "                         Missing Values\n",
       "USER_ID                               0\n",
       "ORDER_ID                              0\n",
       "PURCHASE_TS                           0\n",
       "SHIP_TS                               0\n",
       "PRODUCT_NAME                          0\n",
       "PRODUCT_ID                            0\n",
       "USD_PRICE                             5\n",
       "PURCHASE_PLATFORM                     0\n",
       "MARKETING_CHANNEL                    83\n",
       "ACCOUNT_CREATION_METHOD              83\n",
       "COUNTRY_CODE                         38"
      ]
     },
     "execution_count": 43,
     "metadata": {},
     "output_type": "execute_result"
    }
   ],
   "source": [
    "df.isnull().sum().to_frame(name='Missing Values')"
   ]
  },
  {
   "cell_type": "markdown",
   "id": "9d1b38ae",
   "metadata": {},
   "source": [
    "Fill missing ```MARKETING_CHANNEL```, ```ACCOUNT_CREATION_METHOD```, and ```COUNTRY_CODE``` values with 'Unknown'."
   ]
  },
  {
   "cell_type": "code",
   "execution_count": 44,
   "id": "4a5b3237",
   "metadata": {},
   "outputs": [
    {
     "name": "stdout",
     "output_type": "stream",
     "text": [
      "USER_ID                    0\n",
      "ORDER_ID                   0\n",
      "PURCHASE_TS                0\n",
      "SHIP_TS                    0\n",
      "PRODUCT_NAME               0\n",
      "PRODUCT_ID                 0\n",
      "USD_PRICE                  5\n",
      "PURCHASE_PLATFORM          0\n",
      "MARKETING_CHANNEL          0\n",
      "ACCOUNT_CREATION_METHOD    0\n",
      "COUNTRY_CODE               0\n",
      "dtype: int64\n"
     ]
    }
   ],
   "source": [
    "# Fill missing values in specified columns with 'Unknown'\n",
    "df['MARKETING_CHANNEL'] = df['MARKETING_CHANNEL'].fillna('Unknown')\n",
    "df['ACCOUNT_CREATION_METHOD'] = df['ACCOUNT_CREATION_METHOD'].fillna('Unknown')\n",
    "df['COUNTRY_CODE'] = df['COUNTRY_CODE'].fillna('Unknown')\n",
    "\n",
    "# Print the number of missing values per column after filling\n",
    "print(df.isnull().sum())"
   ]
  },
  {
   "cell_type": "markdown",
   "id": "64b2a666",
   "metadata": {},
   "source": [
    "Handle the remaining missing values in the ```USD_PRICE``` column. Since there are only 5 missing values, dropping these rows is a reasonable approach."
   ]
  },
  {
   "cell_type": "code",
   "execution_count": 46,
   "id": "9c811b6c",
   "metadata": {},
   "outputs": [
    {
     "name": "stdout",
     "output_type": "stream",
     "text": [
      "USER_ID                    0\n",
      "ORDER_ID                   0\n",
      "PURCHASE_TS                0\n",
      "SHIP_TS                    0\n",
      "PRODUCT_NAME               0\n",
      "PRODUCT_ID                 0\n",
      "USD_PRICE                  0\n",
      "PURCHASE_PLATFORM          0\n",
      "MARKETING_CHANNEL          0\n",
      "ACCOUNT_CREATION_METHOD    0\n",
      "COUNTRY_CODE               0\n",
      "dtype: int64\n"
     ]
    }
   ],
   "source": [
    "# Drop rows with missing values in the 'USD_PRICE' column\n",
    "df = df.dropna(subset=['USD_PRICE'])\n",
    "\n",
    "# Print the number of missing values per column after dropping\n",
    "print(df.isnull().sum())"
   ]
  },
  {
   "cell_type": "code",
   "execution_count": 47,
   "id": "a96c7876",
   "metadata": {},
   "outputs": [
    {
     "data": {
      "text/plain": [
       "'|                         | Missing Values   |\\n|:------------------------|:-----------------|\\n| USER_ID                 | 0                |\\n| ORDER_ID                | 0                |\\n| PURCHASE_TS             | 0                |\\n| SHIP_TS                 | 0                |\\n| PRODUCT_NAME            | 0                |\\n| PRODUCT_ID              | 0                |\\n| USD_PRICE               | 0                |\\n| PURCHASE_PLATFORM       | 0                |\\n| MARKETING_CHANNEL       | 0                |\\n| ACCOUNT_CREATION_METHOD | 0                |\\n| COUNTRY_CODE            | 0                |'"
      ]
     },
     "metadata": {},
     "output_type": "display_data"
    }
   ],
   "source": [
    "display(df.isnull().sum().to_frame(name='Missing Values').to_markdown(numalign=\"left\", stralign=\"left\"))"
   ]
  },
  {
   "cell_type": "code",
   "execution_count": 32,
   "id": "f69fcf2d",
   "metadata": {},
   "outputs": [
    {
     "name": "stdout",
     "output_type": "stream",
     "text": [
      "|    | animal_1   | animal_2   |\n",
      "|---:|:-----------|:-----------|\n",
      "|  0 | elk        | dog        |\n",
      "|  1 | pig        | quetzal    |\n"
     ]
    }
   ],
   "source": [
    "# .to_markdown : Prints DataFrame in Markdown-friendly format.\n",
    "\n",
    "df = pd.DataFrame(\n",
    "    data={\"animal_1\": [\"elk\", \"pig\"], \"animal_2\": [\"dog\", \"quetzal\"]}\n",
    ")\n",
    "print(df.to_markdown())"
   ]
  },
  {
   "cell_type": "markdown",
   "id": "6dbaf684",
   "metadata": {},
   "source": [
    "Remove duplicate rows from the DataFrame to ensure data integrity."
   ]
  },
  {
   "cell_type": "code",
   "execution_count": 48,
   "id": "05b653e9",
   "metadata": {},
   "outputs": [
    {
     "name": "stdout",
     "output_type": "stream",
     "text": [
      "Number of duplicate rows removed: 35\n",
      "Number of rows after dropping duplicates: 21824\n"
     ]
    }
   ],
   "source": [
    "# Remove duplicate rows\n",
    "initial_rows = len(df)\n",
    "df.drop_duplicates(inplace=True)\n",
    "rows_after_dropping = len(df)\n",
    "\n",
    "# Display the number of duplicate rows removed\n",
    "print(f\"Number of duplicate rows removed: {initial_rows - rows_after_dropping}\")\n",
    "\n",
    "# Display the number of rows after dropping duplicates\n",
    "print(f\"Number of rows after dropping duplicates: {rows_after_dropping}\")"
   ]
  },
  {
   "cell_type": "markdown",
   "id": "6428b724",
   "metadata": {},
   "source": [
    "Inspect columns for inconsistencies in data entry and standardize them where necessary. Focus on categorical columns like ```PURCHASE_PLATFORM```, ```MARKETING_CHANNEL```, ```ACCOUNT_CREATION_METHOD```, and ```COUNTRY_CODE```."
   ]
  },
  {
   "cell_type": "code",
   "execution_count": 49,
   "id": "1a7453e0",
   "metadata": {},
   "outputs": [
    {
     "name": "stdout",
     "output_type": "stream",
     "text": [
      "Unique values after standardization:\n"
     ]
    },
    {
     "data": {
      "text/plain": [
       "'--- PURCHASE_PLATFORM ---'"
      ]
     },
     "metadata": {},
     "output_type": "display_data"
    },
    {
     "data": {
      "text/plain": [
       "array(['website', 'mobile app'], dtype=object)"
      ]
     },
     "metadata": {},
     "output_type": "display_data"
    },
    {
     "data": {
      "text/plain": [
       "'--- MARKETING_CHANNEL ---'"
      ]
     },
     "metadata": {},
     "output_type": "display_data"
    },
    {
     "data": {
      "text/plain": [
       "array(['affiliate', 'direct', 'email', 'social media', 'unknown'],\n",
       "      dtype=object)"
      ]
     },
     "metadata": {},
     "output_type": "display_data"
    },
    {
     "data": {
      "text/plain": [
       "'--- ACCOUNT_CREATION_METHOD ---'"
      ]
     },
     "metadata": {},
     "output_type": "display_data"
    },
    {
     "data": {
      "text/plain": [
       "array(['unknown', 'desktop', 'mobile', 'tablet', 'tv'], dtype=object)"
      ]
     },
     "metadata": {},
     "output_type": "display_data"
    },
    {
     "data": {
      "text/plain": [
       "'--- COUNTRY_CODE ---'"
      ]
     },
     "metadata": {},
     "output_type": "display_data"
    },
    {
     "data": {
      "text/plain": [
       "array(['us', 'de', 'au', 'tr', 'ph', 'gb', 'br', 'be', 'fr', 'kr', 'es',\n",
       "       'ua', 'at', 'in', 'il', 'pl', 'dk', 'ar', 'ch', 'cl', 'ro', 'vn',\n",
       "       'jm', 'it', 'bb', 'jp', 'no', 'hu', 'ca', 've', 'nz', 'cy', 'bo',\n",
       "       'co', 'nl', 'se', 'kw', 'za', 'si', 'ru', 'gr', 'lt', 'mx', 'th',\n",
       "       'uy', 'cz', 'hk', 'ee', 'sg', 'kh', 'ie', 'iq', 'fi', 'tz', 'tw',\n",
       "       'unknown', 'qa', 'pt', 'pe', 'my', 'ae', 'lv', 'eg', 'ci', 'bs',\n",
       "       'is', 'cr', 'mt', 'ma', 'ht', 'sa', 'ke', 'jo', 'bg', 'bd', 'tt',\n",
       "       'lk', 'ad', 'sn', 'ng', 'pf', 'pk', 'lu', 'kz', 'vi', 'sk', 'gt',\n",
       "       'gh', 'tn', 'gl', 'ni', 'do', 'mv', 'ky', 'mn', 'bh', 'mc', 'lb',\n",
       "       'kn', 'pr', 'hr', 'zw', 'fj', 'hn', 'pa', 'np', 'ug', 'je', 'bw',\n",
       "       'ec', 'om', 'mm', 'mu', 'pg', 'al', 'by', 'eu', 'dz', 'ml', 'ps',\n",
       "       'so', 'sv', 'mk', 'rs', 'im', 'vc', 'gu', 'mo', 'zm', 'ge', 'az',\n",
       "       'bm', 'aw', 'sl', 'cm', 'ao', 'ba', 'mp', 'ap', 'ai', 'me', 'cn',\n",
       "       'id', 'vu', 'py', 'bf', 're', 'mz', 'mh', 'md', 'lc'], dtype=object)"
      ]
     },
     "metadata": {},
     "output_type": "display_data"
    }
   ],
   "source": [
    "# Standardize capitalization in categorical columns\n",
    "for col in ['PURCHASE_PLATFORM', 'MARKETING_CHANNEL', 'ACCOUNT_CREATION_METHOD', 'COUNTRY_CODE']:\n",
    "    if df[col].dtype == 'object':\n",
    "        df[col] = df[col].str.lower()\n",
    "\n",
    "# Display unique values in standardized columns to check for inconsistencies\n",
    "print(\"Unique values after standardization:\")\n",
    "for col in ['PURCHASE_PLATFORM', 'MARKETING_CHANNEL', 'ACCOUNT_CREATION_METHOD', 'COUNTRY_CODE']:\n",
    "    display(f\"--- {col} ---\")\n",
    "    display(df[col].unique())"
   ]
  },
  {
   "cell_type": "code",
   "execution_count": 50,
   "id": "adf87ec9",
   "metadata": {},
   "outputs": [
    {
     "data": {
      "text/html": [
       "<div>\n",
       "<style scoped>\n",
       "    .dataframe tbody tr th:only-of-type {\n",
       "        vertical-align: middle;\n",
       "    }\n",
       "\n",
       "    .dataframe tbody tr th {\n",
       "        vertical-align: top;\n",
       "    }\n",
       "\n",
       "    .dataframe thead th {\n",
       "        text-align: right;\n",
       "    }\n",
       "</style>\n",
       "<table border=\"1\" class=\"dataframe\">\n",
       "  <thead>\n",
       "    <tr style=\"text-align: right;\">\n",
       "      <th></th>\n",
       "      <th>USER_ID</th>\n",
       "      <th>ORDER_ID</th>\n",
       "      <th>PURCHASE_TS</th>\n",
       "      <th>SHIP_TS</th>\n",
       "      <th>PRODUCT_NAME</th>\n",
       "      <th>PRODUCT_ID</th>\n",
       "      <th>USD_PRICE</th>\n",
       "      <th>PURCHASE_PLATFORM</th>\n",
       "      <th>MARKETING_CHANNEL</th>\n",
       "      <th>ACCOUNT_CREATION_METHOD</th>\n",
       "      <th>COUNTRY_CODE</th>\n",
       "    </tr>\n",
       "  </thead>\n",
       "  <tbody>\n",
       "    <tr>\n",
       "      <th>0</th>\n",
       "      <td>2c06175e</td>\n",
       "      <td>0001328c3c220830</td>\n",
       "      <td>2020-12-24 00:00:00</td>\n",
       "      <td>2020-12-13</td>\n",
       "      <td>Nintendo Switch</td>\n",
       "      <td>e682</td>\n",
       "      <td>168.00</td>\n",
       "      <td>website</td>\n",
       "      <td>affiliate</td>\n",
       "      <td>unknown</td>\n",
       "      <td>us</td>\n",
       "    </tr>\n",
       "    <tr>\n",
       "      <th>1</th>\n",
       "      <td>ee8e5bc2</td>\n",
       "      <td>0002af7a5c6100772</td>\n",
       "      <td>2020-10-01 00:00:00</td>\n",
       "      <td>2020-09-21</td>\n",
       "      <td>Nintendo Switch</td>\n",
       "      <td>e682</td>\n",
       "      <td>160.61</td>\n",
       "      <td>website</td>\n",
       "      <td>direct</td>\n",
       "      <td>desktop</td>\n",
       "      <td>de</td>\n",
       "    </tr>\n",
       "    <tr>\n",
       "      <th>2</th>\n",
       "      <td>9eb4efe0</td>\n",
       "      <td>0002b8350e167074</td>\n",
       "      <td>2020-04-21 00:00:00</td>\n",
       "      <td>2020-02-16</td>\n",
       "      <td>Nintendo Switch</td>\n",
       "      <td>8d0d</td>\n",
       "      <td>151.20</td>\n",
       "      <td>website</td>\n",
       "      <td>direct</td>\n",
       "      <td>desktop</td>\n",
       "      <td>us</td>\n",
       "    </tr>\n",
       "    <tr>\n",
       "      <th>3</th>\n",
       "      <td>cac7cbaf</td>\n",
       "      <td>0006d06b98385729</td>\n",
       "      <td>2020-04-07 00:00:00</td>\n",
       "      <td>2020-04-04</td>\n",
       "      <td>Sony PlayStation 5 Bundle</td>\n",
       "      <td>54ed</td>\n",
       "      <td>1132.82</td>\n",
       "      <td>website</td>\n",
       "      <td>direct</td>\n",
       "      <td>desktop</td>\n",
       "      <td>au</td>\n",
       "    </tr>\n",
       "    <tr>\n",
       "      <th>4</th>\n",
       "      <td>6b0230bc</td>\n",
       "      <td>00097279a2f46150</td>\n",
       "      <td>2020-11-24 00:00:00</td>\n",
       "      <td>2020-08-02</td>\n",
       "      <td>Nintendo Switch</td>\n",
       "      <td>8d0d</td>\n",
       "      <td>33.89</td>\n",
       "      <td>website</td>\n",
       "      <td>direct</td>\n",
       "      <td>desktop</td>\n",
       "      <td>tr</td>\n",
       "    </tr>\n",
       "  </tbody>\n",
       "</table>\n",
       "</div>"
      ],
      "text/plain": [
       "    USER_ID           ORDER_ID          PURCHASE_TS    SHIP_TS  \\\n",
       "0  2c06175e   0001328c3c220830  2020-12-24 00:00:00 2020-12-13   \n",
       "1  ee8e5bc2  0002af7a5c6100772  2020-10-01 00:00:00 2020-09-21   \n",
       "2  9eb4efe0   0002b8350e167074  2020-04-21 00:00:00 2020-02-16   \n",
       "3  cac7cbaf   0006d06b98385729  2020-04-07 00:00:00 2020-04-04   \n",
       "4  6b0230bc   00097279a2f46150  2020-11-24 00:00:00 2020-08-02   \n",
       "\n",
       "                PRODUCT_NAME PRODUCT_ID  USD_PRICE PURCHASE_PLATFORM  \\\n",
       "0            Nintendo Switch       e682     168.00           website   \n",
       "1            Nintendo Switch       e682     160.61           website   \n",
       "2            Nintendo Switch       8d0d     151.20           website   \n",
       "3  Sony PlayStation 5 Bundle       54ed    1132.82           website   \n",
       "4            Nintendo Switch       8d0d      33.89           website   \n",
       "\n",
       "  MARKETING_CHANNEL ACCOUNT_CREATION_METHOD COUNTRY_CODE  \n",
       "0         affiliate                 unknown           us  \n",
       "1            direct                 desktop           de  \n",
       "2            direct                 desktop           us  \n",
       "3            direct                 desktop           au  \n",
       "4            direct                 desktop           tr  "
      ]
     },
     "execution_count": 50,
     "metadata": {},
     "output_type": "execute_result"
    }
   ],
   "source": [
    "df.head()"
   ]
  },
  {
   "cell_type": "markdown",
   "id": "eb507681",
   "metadata": {},
   "source": [
    "Verify that the ```USD_PRICE``` column contains valid numerical data and handle any non-numeric entries if found, potentially converting the column to a numeric type if it isn't already."
   ]
  },
  {
   "cell_type": "code",
   "execution_count": 51,
   "id": "57ffc878",
   "metadata": {},
   "outputs": [
    {
     "name": "stdout",
     "output_type": "stream",
     "text": [
      "Number of non-numeric entries in USD_PRICE after coercion: 0\n"
     ]
    }
   ],
   "source": [
    "# Convert 'USD_PRICE' to numeric, coercing errors to NaN\n",
    "df['USD_PRICE'] = pd.to_numeric(df['USD_PRICE'], errors='coerce')\n",
    "\n",
    "# Check for any remaining non-numeric entries after coercion (should be 0 if coercion worked)\n",
    "non_numeric_price = df['USD_PRICE'].isnull().sum()\n",
    "print(f\"Number of non-numeric entries in USD_PRICE after coercion: {non_numeric_price}\")"
   ]
  },
  {
   "cell_type": "code",
   "execution_count": 54,
   "id": "37c0a176",
   "metadata": {},
   "outputs": [
    {
     "name": "stdout",
     "output_type": "stream",
     "text": [
      "Data type of USD_PRICE column: float64\n"
     ]
    }
   ],
   "source": [
    "# If there are any NaN values introduced by coercion, drop those rows (though none are expected based on previous steps)\n",
    "if non_numeric_price > 0:\n",
    "    df.dropna(subset=['USD_PRICE'], inplace=True)\n",
    "    print(f\"Dropped {non_numeric_price} rows with non-numeric USD_PRICE after coercion.\")\n",
    "\n",
    "# Display the data type of the 'USD_PRICE' column to confirm it's numeric\n",
    "print(f\"Data type of USD_PRICE column: {df['USD_PRICE'].dtype}\")"
   ]
  },
  {
   "cell_type": "markdown",
   "id": "1dbddfa6",
   "metadata": {},
   "source": [
    "## 3. Data Exploration\n",
    "\n",
    "Perform exploratory data analysis (EDA) to understand the data distribution, identify trends, and find correlations between variables. Identify key questions the analysis should answer for stakeholders based on the data.\n",
    "\n",
    "- Display descriptive statistics for 'USD_PRICE', \n",
    "- Analyze unique values and counts for categorical columns, \n",
    "- Extract and analyze date features from timestamp columns, and \n",
    "- Calculate the correlation matrix for relevant numerical features. "
   ]
  },
  {
   "cell_type": "code",
   "execution_count": 55,
   "id": "f400362d",
   "metadata": {},
   "outputs": [
    {
     "name": "stdout",
     "output_type": "stream",
     "text": [
      "--- Descriptive statistics for USD_PRICE ---\n"
     ]
    },
    {
     "data": {
      "text/plain": [
       "count    21824.000000\n",
       "mean       281.192643\n",
       "std        366.540014\n",
       "min          0.000000\n",
       "25%        126.000000\n",
       "50%        168.000000\n",
       "75%        355.110000\n",
       "max       3146.880000\n",
       "Name: USD_PRICE, dtype: float64"
      ]
     },
     "execution_count": 55,
     "metadata": {},
     "output_type": "execute_result"
    }
   ],
   "source": [
    "# 1. Display descriptive statistics for 'USD_PRICE'\n",
    "print(\"--- Descriptive statistics for USD_PRICE ---\")\n",
    "df['USD_PRICE'].describe()"
   ]
  },
  {
   "cell_type": "code",
   "execution_count": 56,
   "id": "b23ae8c1",
   "metadata": {},
   "outputs": [
    {
     "name": "stdout",
     "output_type": "stream",
     "text": [
      "\n",
      "--- Unique values and top occurrences for categorical columns ---\n",
      "\n",
      "--- PURCHASE_PLATFORM ---\n",
      "Number of unique values: 2\n",
      "\n",
      "--- MARKETING_CHANNEL ---\n",
      "Number of unique values: 5\n",
      "\n",
      "--- ACCOUNT_CREATION_METHOD ---\n",
      "Number of unique values: 5\n",
      "\n",
      "--- COUNTRY_CODE ---\n",
      "Number of unique values: 151\n",
      "\n",
      "--- PRODUCT_NAME ---\n",
      "Number of unique values: 9\n"
     ]
    }
   ],
   "source": [
    "# 2. Calculate and display unique values and top occurrences for categorical columns\n",
    "categorical_cols = ['PURCHASE_PLATFORM', 'MARKETING_CHANNEL', 'ACCOUNT_CREATION_METHOD', 'COUNTRY_CODE', 'PRODUCT_NAME']\n",
    "print(\"\\n--- Unique values and top occurrences for categorical columns ---\")\n",
    "for col in categorical_cols:\n",
    "    print(f\"\\n--- {col} ---\")\n",
    "    unique_count = df[col].nunique()\n",
    "    top_values = df[col].value_counts().head()\n",
    "    print(f\"Number of unique values: {unique_count}\")\n",
    "    top_values.to_frame(name='Count')"
   ]
  },
  {
   "cell_type": "code",
   "execution_count": 60,
   "id": "c9f1d7d6",
   "metadata": {},
   "outputs": [
    {
     "name": "stdout",
     "output_type": "stream",
     "text": [
      "\n",
      "--- Distribution of PURCHASE_TS and SHIP_TS ---\n",
      "\n",
      "Purchase Year Distribution:\n"
     ]
    },
    {
     "data": {
      "text/plain": [
       "'|      | Count   |\\n|:-----|:--------|\\n| 2019 | 6610    |\\n| 2020 | 13363   |\\n| 2021 | 1846    |'"
      ]
     },
     "metadata": {},
     "output_type": "display_data"
    },
    {
     "name": "stdout",
     "output_type": "stream",
     "text": [
      "\n",
      "Purchase Month Distribution:\n"
     ]
    },
    {
     "data": {
      "text/plain": [
       "'|    | Count   |\\n|:---|:--------|\\n| 1  | 1785    |\\n| 2  | 1825    |\\n| 3  | 1509    |\\n| 4  | 1723    |\\n| 5  | 1727    |\\n| 6  | 1613    |\\n| 7  | 1692    |\\n| 8  | 1796    |\\n| 9  | 2176    |\\n| 10 | 1549    |\\n| 11 | 1955    |\\n| 12 | 2469    |'"
      ]
     },
     "metadata": {},
     "output_type": "display_data"
    },
    {
     "name": "stdout",
     "output_type": "stream",
     "text": [
      "\n",
      "Purchase Day of Week Distribution:\n"
     ]
    },
    {
     "data": {
      "text/plain": [
       "'|    | Count   |\\n|:---|:--------|\\n| 0  | 3087    |\\n| 1  | 3025    |\\n| 2  | 3113    |\\n| 3  | 3108    |\\n| 4  | 3194    |\\n| 5  | 3115    |\\n| 6  | 3177    |'"
      ]
     },
     "metadata": {},
     "output_type": "display_data"
    },
    {
     "name": "stdout",
     "output_type": "stream",
     "text": [
      "\n",
      "Purchase Hour Distribution:\n"
     ]
    },
    {
     "data": {
      "text/plain": [
       "'|    | Count   |\\n|:---|:--------|\\n| 0  | 21813   |\\n| 1  | 6       |'"
      ]
     },
     "metadata": {},
     "output_type": "display_data"
    }
   ],
   "source": [
    "# 3. Explore the distribution of 'PURCHASE_TS' and 'SHIP_TS'\n",
    "print(\"\\n--- Distribution of PURCHASE_TS and SHIP_TS ---\")\n",
    "df['PURCHASE_TS'] = pd.to_datetime(df['PURCHASE_TS'])\n",
    "df['SHIP_TS'] = pd.to_datetime(df['SHIP_TS'])\n",
    "\n",
    "df['purchase_year'] = df['PURCHASE_TS'].dt.year\n",
    "df['purchase_month'] = df['PURCHASE_TS'].dt.month\n",
    "df['purchase_dayofweek'] = df['PURCHASE_TS'].dt.dayofweek # Monday=0, Sunday=6\n",
    "df['purchase_hour'] = df['PURCHASE_TS'].dt.hour\n",
    "\n",
    "df['ship_year'] = df['SHIP_TS'].dt.year\n",
    "df['ship_month'] = df['SHIP_TS'].dt.month\n",
    "df['ship_dayofweek'] = df['SHIP_TS'].dt.dayofweek\n",
    "df['ship_hour'] = df['SHIP_TS'].dt.hour\n",
    "\n",
    "print(\"\\nPurchase Year Distribution:\")\n",
    "display(df['purchase_year'].value_counts().sort_index().to_frame(name='Count').to_markdown(numalign=\"left\", stralign=\"left\"))\n",
    "print(\"\\nPurchase Month Distribution:\")\n",
    "display(df['purchase_month'].value_counts().sort_index().to_frame(name='Count').to_markdown(numalign=\"left\", stralign=\"left\"))\n",
    "print(\"\\nPurchase Day of Week Distribution:\")\n",
    "display(df['purchase_dayofweek'].value_counts().sort_index().to_frame(name='Count').to_markdown(numalign=\"left\", stralign=\"left\"))\n",
    "print(\"\\nPurchase Hour Distribution:\")\n",
    "display(df['purchase_hour'].value_counts().sort_index().to_frame(name='Count').to_markdown(numalign=\"left\", stralign=\"left\"))\n",
    "\n",
    "# We can similarly display ship date distributions if needed\n"
   ]
  },
  {
   "cell_type": "markdown",
   "id": "33000a0b",
   "metadata": {},
   "source": [
    "**There is an issue parsing the ```PURCHASE_TS``` column to datetime, likely due to some invalid entries. \n",
    "I will use errors='coerce' in pd.to_datetime to turn invalid parsing into NaT (Not a Time)**"
   ]
  },
  {
   "cell_type": "code",
   "execution_count": 61,
   "id": "4c48aed1",
   "metadata": {},
   "outputs": [
    {
     "name": "stdout",
     "output_type": "stream",
     "text": [
      "\n",
      "--- Distribution of PURCHASE_TS and SHIP_TS ---\n",
      "\n",
      "Purchase Year Distribution:\n"
     ]
    },
    {
     "data": {
      "text/plain": [
       "'|      | Count   |\\n|:-----|:--------|\\n| 2019 | 6610    |\\n| 2020 | 13363   |\\n| 2021 | 1846    |'"
      ]
     },
     "metadata": {},
     "output_type": "display_data"
    },
    {
     "name": "stdout",
     "output_type": "stream",
     "text": [
      "\n",
      "Purchase Month Distribution:\n"
     ]
    },
    {
     "data": {
      "text/plain": [
       "'|    | Count   |\\n|:---|:--------|\\n| 1  | 1785    |\\n| 2  | 1825    |\\n| 3  | 1509    |\\n| 4  | 1723    |\\n| 5  | 1727    |\\n| 6  | 1613    |\\n| 7  | 1692    |\\n| 8  | 1796    |\\n| 9  | 2176    |\\n| 10 | 1549    |\\n| 11 | 1955    |\\n| 12 | 2469    |'"
      ]
     },
     "metadata": {},
     "output_type": "display_data"
    },
    {
     "name": "stdout",
     "output_type": "stream",
     "text": [
      "\n",
      "Purchase Day of Week Distribution:\n"
     ]
    },
    {
     "data": {
      "text/plain": [
       "'|    | Count   |\\n|:---|:--------|\\n| 0  | 3087    |\\n| 1  | 3025    |\\n| 2  | 3113    |\\n| 3  | 3108    |\\n| 4  | 3194    |\\n| 5  | 3115    |\\n| 6  | 3177    |'"
      ]
     },
     "metadata": {},
     "output_type": "display_data"
    },
    {
     "name": "stdout",
     "output_type": "stream",
     "text": [
      "\n",
      "Purchase Hour Distribution:\n"
     ]
    },
    {
     "data": {
      "text/plain": [
       "'|    | Count   |\\n|:---|:--------|\\n| 0  | 21813   |\\n| 1  | 6       |'"
      ]
     },
     "metadata": {},
     "output_type": "display_data"
    }
   ],
   "source": [
    "# 3. Explore the distribution of 'PURCHASE_TS' and 'SHIP_TS'\n",
    "print(\"\\n--- Distribution of PURCHASE_TS and SHIP_TS ---\")\n",
    "# Convert with error handling\n",
    "df['PURCHASE_TS'] = pd.to_datetime(df['PURCHASE_TS'], errors='coerce')\n",
    "df['SHIP_TS'] = pd.to_datetime(df['SHIP_TS'], errors='coerce')\n",
    "\n",
    "# Drop rows where timestamp conversion failed\n",
    "df.dropna(subset=['PURCHASE_TS', 'SHIP_TS'], inplace=True)\n",
    "\n",
    "df['purchase_year'] = df['PURCHASE_TS'].dt.year\n",
    "df['purchase_month'] = df['PURCHASE_TS'].dt.month\n",
    "df['purchase_dayofweek'] = df['PURCHASE_TS'].dt.dayofweek # Monday=0, Sunday=6\n",
    "df['purchase_hour'] = df['PURCHASE_TS'].dt.hour\n",
    "\n",
    "df['ship_year'] = df['SHIP_TS'].dt.year\n",
    "df['ship_month'] = df['SHIP_TS'].dt.month\n",
    "df['ship_dayofweek'] = df['SHIP_TS'].dt.dayofweek\n",
    "df['ship_hour'] = df['SHIP_TS'].dt.hour\n",
    "\n",
    "print(\"\\nPurchase Year Distribution:\")\n",
    "display(df['purchase_year'].value_counts().sort_index().to_frame(name='Count').to_markdown(numalign=\"left\", stralign=\"left\"))\n",
    "print(\"\\nPurchase Month Distribution:\")\n",
    "display(df['purchase_month'].value_counts().sort_index().to_frame(name='Count').to_markdown(numalign=\"left\", stralign=\"left\"))\n",
    "print(\"\\nPurchase Day of Week Distribution:\")\n",
    "display(df['purchase_dayofweek'].value_counts().sort_index().to_frame(name='Count').to_markdown(numalign=\"left\", stralign=\"left\"))\n",
    "print(\"\\nPurchase Hour Distribution:\")\n",
    "display(df['purchase_hour'].value_counts().sort_index().to_frame(name='Count').to_markdown(numalign=\"left\", stralign=\"left\"))"
   ]
  },
  {
   "cell_type": "code",
   "execution_count": 62,
   "id": "7f4bcbc3",
   "metadata": {},
   "outputs": [
    {
     "name": "stdout",
     "output_type": "stream",
     "text": [
      "\n",
      "Purchase Year Distribution:\n"
     ]
    },
    {
     "data": {
      "text/html": [
       "<div>\n",
       "<style scoped>\n",
       "    .dataframe tbody tr th:only-of-type {\n",
       "        vertical-align: middle;\n",
       "    }\n",
       "\n",
       "    .dataframe tbody tr th {\n",
       "        vertical-align: top;\n",
       "    }\n",
       "\n",
       "    .dataframe thead th {\n",
       "        text-align: right;\n",
       "    }\n",
       "</style>\n",
       "<table border=\"1\" class=\"dataframe\">\n",
       "  <thead>\n",
       "    <tr style=\"text-align: right;\">\n",
       "      <th></th>\n",
       "      <th>Count</th>\n",
       "    </tr>\n",
       "  </thead>\n",
       "  <tbody>\n",
       "    <tr>\n",
       "      <th>2019</th>\n",
       "      <td>6610</td>\n",
       "    </tr>\n",
       "    <tr>\n",
       "      <th>2020</th>\n",
       "      <td>13363</td>\n",
       "    </tr>\n",
       "    <tr>\n",
       "      <th>2021</th>\n",
       "      <td>1846</td>\n",
       "    </tr>\n",
       "  </tbody>\n",
       "</table>\n",
       "</div>"
      ],
      "text/plain": [
       "      Count\n",
       "2019   6610\n",
       "2020  13363\n",
       "2021   1846"
      ]
     },
     "execution_count": 62,
     "metadata": {},
     "output_type": "execute_result"
    }
   ],
   "source": [
    "print(\"\\nPurchase Year Distribution:\")\n",
    "df['purchase_year'].value_counts().sort_index().to_frame(name='Count')"
   ]
  },
  {
   "cell_type": "code",
   "execution_count": 63,
   "id": "2ae2817c",
   "metadata": {},
   "outputs": [
    {
     "name": "stdout",
     "output_type": "stream",
     "text": [
      "\n",
      "Purchase Month Distribution:\n"
     ]
    },
    {
     "data": {
      "text/html": [
       "<div>\n",
       "<style scoped>\n",
       "    .dataframe tbody tr th:only-of-type {\n",
       "        vertical-align: middle;\n",
       "    }\n",
       "\n",
       "    .dataframe tbody tr th {\n",
       "        vertical-align: top;\n",
       "    }\n",
       "\n",
       "    .dataframe thead th {\n",
       "        text-align: right;\n",
       "    }\n",
       "</style>\n",
       "<table border=\"1\" class=\"dataframe\">\n",
       "  <thead>\n",
       "    <tr style=\"text-align: right;\">\n",
       "      <th></th>\n",
       "      <th>Count</th>\n",
       "    </tr>\n",
       "  </thead>\n",
       "  <tbody>\n",
       "    <tr>\n",
       "      <th>1</th>\n",
       "      <td>1785</td>\n",
       "    </tr>\n",
       "    <tr>\n",
       "      <th>2</th>\n",
       "      <td>1825</td>\n",
       "    </tr>\n",
       "    <tr>\n",
       "      <th>3</th>\n",
       "      <td>1509</td>\n",
       "    </tr>\n",
       "    <tr>\n",
       "      <th>4</th>\n",
       "      <td>1723</td>\n",
       "    </tr>\n",
       "    <tr>\n",
       "      <th>5</th>\n",
       "      <td>1727</td>\n",
       "    </tr>\n",
       "    <tr>\n",
       "      <th>6</th>\n",
       "      <td>1613</td>\n",
       "    </tr>\n",
       "    <tr>\n",
       "      <th>7</th>\n",
       "      <td>1692</td>\n",
       "    </tr>\n",
       "    <tr>\n",
       "      <th>8</th>\n",
       "      <td>1796</td>\n",
       "    </tr>\n",
       "    <tr>\n",
       "      <th>9</th>\n",
       "      <td>2176</td>\n",
       "    </tr>\n",
       "    <tr>\n",
       "      <th>10</th>\n",
       "      <td>1549</td>\n",
       "    </tr>\n",
       "    <tr>\n",
       "      <th>11</th>\n",
       "      <td>1955</td>\n",
       "    </tr>\n",
       "    <tr>\n",
       "      <th>12</th>\n",
       "      <td>2469</td>\n",
       "    </tr>\n",
       "  </tbody>\n",
       "</table>\n",
       "</div>"
      ],
      "text/plain": [
       "    Count\n",
       "1    1785\n",
       "2    1825\n",
       "3    1509\n",
       "4    1723\n",
       "5    1727\n",
       "6    1613\n",
       "7    1692\n",
       "8    1796\n",
       "9    2176\n",
       "10   1549\n",
       "11   1955\n",
       "12   2469"
      ]
     },
     "execution_count": 63,
     "metadata": {},
     "output_type": "execute_result"
    }
   ],
   "source": [
    "print(\"\\nPurchase Month Distribution:\")\n",
    "df['purchase_month'].value_counts().sort_index().to_frame(name='Count')"
   ]
  },
  {
   "cell_type": "code",
   "execution_count": 64,
   "id": "0a83c318",
   "metadata": {},
   "outputs": [
    {
     "name": "stdout",
     "output_type": "stream",
     "text": [
      "\n",
      "Purchase Day of Week Distribution:\n"
     ]
    },
    {
     "data": {
      "text/html": [
       "<div>\n",
       "<style scoped>\n",
       "    .dataframe tbody tr th:only-of-type {\n",
       "        vertical-align: middle;\n",
       "    }\n",
       "\n",
       "    .dataframe tbody tr th {\n",
       "        vertical-align: top;\n",
       "    }\n",
       "\n",
       "    .dataframe thead th {\n",
       "        text-align: right;\n",
       "    }\n",
       "</style>\n",
       "<table border=\"1\" class=\"dataframe\">\n",
       "  <thead>\n",
       "    <tr style=\"text-align: right;\">\n",
       "      <th></th>\n",
       "      <th>Count</th>\n",
       "    </tr>\n",
       "  </thead>\n",
       "  <tbody>\n",
       "    <tr>\n",
       "      <th>0</th>\n",
       "      <td>3087</td>\n",
       "    </tr>\n",
       "    <tr>\n",
       "      <th>1</th>\n",
       "      <td>3025</td>\n",
       "    </tr>\n",
       "    <tr>\n",
       "      <th>2</th>\n",
       "      <td>3113</td>\n",
       "    </tr>\n",
       "    <tr>\n",
       "      <th>3</th>\n",
       "      <td>3108</td>\n",
       "    </tr>\n",
       "    <tr>\n",
       "      <th>4</th>\n",
       "      <td>3194</td>\n",
       "    </tr>\n",
       "    <tr>\n",
       "      <th>5</th>\n",
       "      <td>3115</td>\n",
       "    </tr>\n",
       "    <tr>\n",
       "      <th>6</th>\n",
       "      <td>3177</td>\n",
       "    </tr>\n",
       "  </tbody>\n",
       "</table>\n",
       "</div>"
      ],
      "text/plain": [
       "   Count\n",
       "0   3087\n",
       "1   3025\n",
       "2   3113\n",
       "3   3108\n",
       "4   3194\n",
       "5   3115\n",
       "6   3177"
      ]
     },
     "execution_count": 64,
     "metadata": {},
     "output_type": "execute_result"
    }
   ],
   "source": [
    "print(\"\\nPurchase Day of Week Distribution:\")\n",
    "df['purchase_dayofweek'].value_counts().sort_index().to_frame(name='Count')"
   ]
  },
  {
   "cell_type": "code",
   "execution_count": 65,
   "id": "32436a9c",
   "metadata": {},
   "outputs": [
    {
     "name": "stdout",
     "output_type": "stream",
     "text": [
      "\n",
      "Purchase Hour Distribution:\n"
     ]
    },
    {
     "data": {
      "text/html": [
       "<div>\n",
       "<style scoped>\n",
       "    .dataframe tbody tr th:only-of-type {\n",
       "        vertical-align: middle;\n",
       "    }\n",
       "\n",
       "    .dataframe tbody tr th {\n",
       "        vertical-align: top;\n",
       "    }\n",
       "\n",
       "    .dataframe thead th {\n",
       "        text-align: right;\n",
       "    }\n",
       "</style>\n",
       "<table border=\"1\" class=\"dataframe\">\n",
       "  <thead>\n",
       "    <tr style=\"text-align: right;\">\n",
       "      <th></th>\n",
       "      <th>Count</th>\n",
       "    </tr>\n",
       "  </thead>\n",
       "  <tbody>\n",
       "    <tr>\n",
       "      <th>0</th>\n",
       "      <td>21813</td>\n",
       "    </tr>\n",
       "    <tr>\n",
       "      <th>1</th>\n",
       "      <td>6</td>\n",
       "    </tr>\n",
       "  </tbody>\n",
       "</table>\n",
       "</div>"
      ],
      "text/plain": [
       "   Count\n",
       "0  21813\n",
       "1      6"
      ]
     },
     "execution_count": 65,
     "metadata": {},
     "output_type": "execute_result"
    }
   ],
   "source": [
    "print(\"\\nPurchase Hour Distribution:\")\n",
    "df['purchase_hour'].value_counts().sort_index().to_frame(name='Count')"
   ]
  },
  {
   "cell_type": "code",
   "execution_count": 66,
   "id": "1c4ed31f",
   "metadata": {},
   "outputs": [
    {
     "name": "stdout",
     "output_type": "stream",
     "text": [
      "\n",
      "--- Correlation matrix for numerical features ---\n"
     ]
    },
    {
     "data": {
      "text/html": [
       "<div>\n",
       "<style scoped>\n",
       "    .dataframe tbody tr th:only-of-type {\n",
       "        vertical-align: middle;\n",
       "    }\n",
       "\n",
       "    .dataframe tbody tr th {\n",
       "        vertical-align: top;\n",
       "    }\n",
       "\n",
       "    .dataframe thead th {\n",
       "        text-align: right;\n",
       "    }\n",
       "</style>\n",
       "<table border=\"1\" class=\"dataframe\">\n",
       "  <thead>\n",
       "    <tr style=\"text-align: right;\">\n",
       "      <th></th>\n",
       "      <th>USD_PRICE</th>\n",
       "      <th>purchase_year</th>\n",
       "      <th>purchase_month</th>\n",
       "      <th>purchase_dayofweek</th>\n",
       "      <th>purchase_hour</th>\n",
       "      <th>ship_year</th>\n",
       "      <th>ship_month</th>\n",
       "      <th>ship_dayofweek</th>\n",
       "      <th>ship_hour</th>\n",
       "    </tr>\n",
       "  </thead>\n",
       "  <tbody>\n",
       "    <tr>\n",
       "      <th>USD_PRICE</th>\n",
       "      <td>1.000000</td>\n",
       "      <td>0.072347</td>\n",
       "      <td>0.018930</td>\n",
       "      <td>-0.000510</td>\n",
       "      <td>0.007995</td>\n",
       "      <td>0.071360</td>\n",
       "      <td>0.018683</td>\n",
       "      <td>0.002044</td>\n",
       "      <td>NaN</td>\n",
       "    </tr>\n",
       "    <tr>\n",
       "      <th>purchase_year</th>\n",
       "      <td>0.072347</td>\n",
       "      <td>1.000000</td>\n",
       "      <td>-0.264670</td>\n",
       "      <td>0.000666</td>\n",
       "      <td>0.006211</td>\n",
       "      <td>0.978591</td>\n",
       "      <td>-0.255367</td>\n",
       "      <td>0.000346</td>\n",
       "      <td>NaN</td>\n",
       "    </tr>\n",
       "    <tr>\n",
       "      <th>purchase_month</th>\n",
       "      <td>0.018930</td>\n",
       "      <td>-0.264670</td>\n",
       "      <td>1.000000</td>\n",
       "      <td>-0.007976</td>\n",
       "      <td>0.024492</td>\n",
       "      <td>-0.227992</td>\n",
       "      <td>0.921310</td>\n",
       "      <td>0.013646</td>\n",
       "      <td>NaN</td>\n",
       "    </tr>\n",
       "    <tr>\n",
       "      <th>purchase_dayofweek</th>\n",
       "      <td>-0.000510</td>\n",
       "      <td>0.000666</td>\n",
       "      <td>-0.007976</td>\n",
       "      <td>1.000000</td>\n",
       "      <td>-0.000202</td>\n",
       "      <td>-0.003414</td>\n",
       "      <td>-0.000959</td>\n",
       "      <td>-0.150848</td>\n",
       "      <td>NaN</td>\n",
       "    </tr>\n",
       "    <tr>\n",
       "      <th>purchase_hour</th>\n",
       "      <td>0.007995</td>\n",
       "      <td>0.006211</td>\n",
       "      <td>0.024492</td>\n",
       "      <td>-0.000202</td>\n",
       "      <td>1.000000</td>\n",
       "      <td>0.010851</td>\n",
       "      <td>-0.004638</td>\n",
       "      <td>-0.001321</td>\n",
       "      <td>NaN</td>\n",
       "    </tr>\n",
       "    <tr>\n",
       "      <th>ship_year</th>\n",
       "      <td>0.071360</td>\n",
       "      <td>0.978591</td>\n",
       "      <td>-0.227992</td>\n",
       "      <td>-0.003414</td>\n",
       "      <td>0.010851</td>\n",
       "      <td>1.000000</td>\n",
       "      <td>-0.284851</td>\n",
       "      <td>0.005612</td>\n",
       "      <td>NaN</td>\n",
       "    </tr>\n",
       "    <tr>\n",
       "      <th>ship_month</th>\n",
       "      <td>0.018683</td>\n",
       "      <td>-0.255367</td>\n",
       "      <td>0.921310</td>\n",
       "      <td>-0.000959</td>\n",
       "      <td>-0.004638</td>\n",
       "      <td>-0.284851</td>\n",
       "      <td>1.000000</td>\n",
       "      <td>-0.000310</td>\n",
       "      <td>NaN</td>\n",
       "    </tr>\n",
       "    <tr>\n",
       "      <th>ship_dayofweek</th>\n",
       "      <td>0.002044</td>\n",
       "      <td>0.000346</td>\n",
       "      <td>0.013646</td>\n",
       "      <td>-0.150848</td>\n",
       "      <td>-0.001321</td>\n",
       "      <td>0.005612</td>\n",
       "      <td>-0.000310</td>\n",
       "      <td>1.000000</td>\n",
       "      <td>NaN</td>\n",
       "    </tr>\n",
       "    <tr>\n",
       "      <th>ship_hour</th>\n",
       "      <td>NaN</td>\n",
       "      <td>NaN</td>\n",
       "      <td>NaN</td>\n",
       "      <td>NaN</td>\n",
       "      <td>NaN</td>\n",
       "      <td>NaN</td>\n",
       "      <td>NaN</td>\n",
       "      <td>NaN</td>\n",
       "      <td>NaN</td>\n",
       "    </tr>\n",
       "  </tbody>\n",
       "</table>\n",
       "</div>"
      ],
      "text/plain": [
       "                    USD_PRICE  purchase_year  purchase_month  \\\n",
       "USD_PRICE            1.000000       0.072347        0.018930   \n",
       "purchase_year        0.072347       1.000000       -0.264670   \n",
       "purchase_month       0.018930      -0.264670        1.000000   \n",
       "purchase_dayofweek  -0.000510       0.000666       -0.007976   \n",
       "purchase_hour        0.007995       0.006211        0.024492   \n",
       "ship_year            0.071360       0.978591       -0.227992   \n",
       "ship_month           0.018683      -0.255367        0.921310   \n",
       "ship_dayofweek       0.002044       0.000346        0.013646   \n",
       "ship_hour                 NaN            NaN             NaN   \n",
       "\n",
       "                    purchase_dayofweek  purchase_hour  ship_year  ship_month  \\\n",
       "USD_PRICE                    -0.000510       0.007995   0.071360    0.018683   \n",
       "purchase_year                 0.000666       0.006211   0.978591   -0.255367   \n",
       "purchase_month               -0.007976       0.024492  -0.227992    0.921310   \n",
       "purchase_dayofweek            1.000000      -0.000202  -0.003414   -0.000959   \n",
       "purchase_hour                -0.000202       1.000000   0.010851   -0.004638   \n",
       "ship_year                    -0.003414       0.010851   1.000000   -0.284851   \n",
       "ship_month                   -0.000959      -0.004638  -0.284851    1.000000   \n",
       "ship_dayofweek               -0.150848      -0.001321   0.005612   -0.000310   \n",
       "ship_hour                          NaN            NaN        NaN         NaN   \n",
       "\n",
       "                    ship_dayofweek  ship_hour  \n",
       "USD_PRICE                 0.002044        NaN  \n",
       "purchase_year             0.000346        NaN  \n",
       "purchase_month            0.013646        NaN  \n",
       "purchase_dayofweek       -0.150848        NaN  \n",
       "purchase_hour            -0.001321        NaN  \n",
       "ship_year                 0.005612        NaN  \n",
       "ship_month               -0.000310        NaN  \n",
       "ship_dayofweek            1.000000        NaN  \n",
       "ship_hour                      NaN        NaN  "
      ]
     },
     "execution_count": 66,
     "metadata": {},
     "output_type": "execute_result"
    }
   ],
   "source": [
    "# 4. Calculate and display the correlation matrix\n",
    "# Select relevant numerical columns\n",
    "numerical_cols_for_corr = ['USD_PRICE', 'purchase_year', 'purchase_month', 'purchase_dayofweek', 'purchase_hour', 'ship_year', 'ship_month', 'ship_dayofweek', 'ship_hour']\n",
    "correlation_matrix = df[numerical_cols_for_corr].corr()\n",
    "\n",
    "print(\"\\n--- Correlation matrix for numerical features ---\")\n",
    "correlation_matrix"
   ]
  },
  {
   "cell_type": "markdown",
   "id": "2cf105f2",
   "metadata": {},
   "source": [
    "### Formulating key questions for stakeholders based on the initial exploration.\n",
    "\n",
    "\n",
    "1. Product Performance and Popularity:\n",
    "- Which products are the most popular in terms of sales volume and revenue?\n",
    "- How does the price of a product relate to its purchase frequency?\n",
    "\n",
    "2. Customer Behavior and Trends:\n",
    "- What are the peak times (year, month, day of week, hour) for purchases and shipping?\n",
    "- Which purchase platforms (website vs. mobile app) are most used, and how do their sales volumes compare?\n",
    "- What are the most effective marketing channels for driving sales?\n",
    "- Are there any notable differences in purchase behavior based on the account creation method?\n",
    "- Which countries contribute the most to sales revenue and volume?\n",
    "\n",
    "3. Operational Efficiency:\n",
    "- Is there a significant correlation between purchase time and ship time? (Based on the correlation matrix, this seems weak, but further investigation might be needed)\n",
    "- Are there specific times or periods when shipping volume is highest, potentially impacting logistics?\n",
    "\n",
    "These questions can guide further, more in-depth analysis and help stakeholders make informed business decisions.\n"
   ]
  },
  {
   "cell_type": "code",
   "execution_count": 67,
   "id": "e9987101",
   "metadata": {},
   "outputs": [
    {
     "name": "stdout",
     "output_type": "stream",
     "text": [
      "\n",
      "--- 1. Product Performance and Popularity ---\n",
      "\n",
      "Top 10 Products by Sales Volume:\n",
      "                     PRODUCT_NAME  Sales Volume\n",
      "0                 Nintendo Switch         10385\n",
      "1          27in 4K gaming monitor          4627\n",
      "2  JBL Quantum 100 Gaming Headset          4291\n",
      "3       Sony PlayStation 5 Bundle           977\n",
      "4               Dell Gaming Mouse           715\n",
      "5         Lenovo IdeaPad Gaming 3           669\n",
      "6      Acer Nitro V Gaming Laptop            87\n",
      "7      27inches 4k gaming monitor            61\n",
      "8        Razer Pro Gaming Headset             7\n",
      "\n",
      "Top 10 Products by Total Revenue (USD):\n",
      "                     PRODUCT_NAME  Total Revenue (USD)\n",
      "0          27in 4K gaming monitor           1932737.73\n",
      "6                 Nintendo Switch           1658597.39\n",
      "8       Sony PlayStation 5 Bundle           1589243.85\n",
      "5         Lenovo IdeaPad Gaming 3            735506.56\n",
      "4  JBL Quantum 100 Gaming Headset             96109.63\n",
      "2      Acer Nitro V Gaming Laptop             65661.18\n",
      "3               Dell Gaming Mouse             36490.01\n",
      "1      27inches 4k gaming monitor             21309.35\n",
      "7        Razer Pro Gaming Headset               884.23\n"
     ]
    }
   ],
   "source": [
    "# To answer the question about the most popular products by sales volume, I will group the DataFrame by 'PRODUCT_NAME' and count the number of orders for each product. To answer the question about popularity by revenue, I will group by 'PRODUCT_NAME' and sum the 'USD_PRICE' for each product.\n",
    "# To explore the relationship between price and purchase frequency, I will calculate the average price for each product and compare it with its purchase count.\n",
    "\n",
    "# 1. Which products are the most popular in terms of sales volume and revenue?\n",
    "print(\"\\n--- 1. Product Performance and Popularity ---\")\n",
    "\n",
    "# Popularity by sales volume (number of orders)\n",
    "product_sales_volume = df['PRODUCT_NAME'].value_counts().reset_index()\n",
    "product_sales_volume.columns = ['PRODUCT_NAME', 'Sales Volume']\n",
    "print(\"\\nTop 10 Products by Sales Volume:\")\n",
    "print(product_sales_volume.head(10))\n",
    "\n",
    "# Popularity by revenue (total USD price)\n",
    "product_revenue = df.groupby('PRODUCT_NAME')['USD_PRICE'].sum().reset_index()\n",
    "product_revenue.columns = ['PRODUCT_NAME', 'Total Revenue (USD)']\n",
    "product_revenue_sorted = product_revenue.sort_values(by='Total Revenue (USD)', ascending=False)\n",
    "print(\"\\nTop 10 Products by Total Revenue (USD):\")\n",
    "print(product_revenue_sorted.head(10))"
   ]
  },
  {
   "cell_type": "code",
   "execution_count": null,
   "id": "813ec171",
   "metadata": {},
   "outputs": [],
   "source": []
  },
  {
   "cell_type": "code",
   "execution_count": 68,
   "id": "fed40f67",
   "metadata": {},
   "outputs": [
    {
     "name": "stdout",
     "output_type": "stream",
     "text": [
      "\n",
      "Product Sales Volume vs. Average Price (Top 10 by Sales Volume):\n",
      "                     PRODUCT_NAME  Sales Volume  Average Price (USD)\n",
      "0                 Nintendo Switch         10385           159.710870\n",
      "1          27in 4K gaming monitor          4627           417.708608\n",
      "2  JBL Quantum 100 Gaming Headset          4291            22.397956\n",
      "3       Sony PlayStation 5 Bundle           977          1626.656960\n",
      "4               Dell Gaming Mouse           715            51.034979\n",
      "5         Lenovo IdeaPad Gaming 3           669          1099.411898\n",
      "6      Acer Nitro V Gaming Laptop            87           754.726207\n",
      "7      27inches 4k gaming monitor            61           349.333607\n",
      "8        Razer Pro Gaming Headset             7           126.318571\n",
      "\n",
      "Product Sales Volume vs. Average Price (Top 10 by Average Price):\n",
      "                     PRODUCT_NAME  Sales Volume  Average Price (USD)\n",
      "3       Sony PlayStation 5 Bundle           977          1626.656960\n",
      "5         Lenovo IdeaPad Gaming 3           669          1099.411898\n",
      "6      Acer Nitro V Gaming Laptop            87           754.726207\n",
      "1          27in 4K gaming monitor          4627           417.708608\n",
      "7      27inches 4k gaming monitor            61           349.333607\n",
      "0                 Nintendo Switch         10385           159.710870\n",
      "8        Razer Pro Gaming Headset             7           126.318571\n",
      "4               Dell Gaming Mouse           715            51.034979\n",
      "2  JBL Quantum 100 Gaming Headset          4291            22.397956\n"
     ]
    }
   ],
   "source": [
    "# 2. How does the price of a product relate to its purchase frequency?\n",
    "# Calculate average price per product\n",
    "product_avg_price = df.groupby('PRODUCT_NAME')['USD_PRICE'].mean().reset_index()\n",
    "product_avg_price.columns = ['PRODUCT_NAME', 'Average Price (USD)']\n",
    "\n",
    "# Combine sales volume and average price\n",
    "product_popularity_price = pd.merge(product_sales_volume, product_avg_price, on='PRODUCT_NAME')\n",
    "\n",
    "print(\"\\nProduct Sales Volume vs. Average Price (Top 10 by Sales Volume):\")\n",
    "# Display a sample of products to show the relationship\n",
    "print(product_popularity_price.sort_values(by='Sales Volume', ascending=False).head(10))\n",
    "print(\"\\nProduct Sales Volume vs. Average Price (Top 10 by Average Price):\")\n",
    "print(product_popularity_price.sort_values(by='Average Price (USD)', ascending=False).head(10))"
   ]
  },
  {
   "cell_type": "code",
   "execution_count": 69,
   "id": "899bf9ce",
   "metadata": {},
   "outputs": [
    {
     "name": "stdout",
     "output_type": "stream",
     "text": [
      "\n",
      "--- 2. Customer Behavior and Trends: Peak Times ---\n",
      "\n",
      "Peak Times for Purchases:\n",
      "By Year:\n",
      "      Count\n",
      "2019   6610\n",
      "2020  13363\n",
      "2021   1846\n",
      "\n",
      "By Month:\n",
      "    Count\n",
      "1    1785\n",
      "2    1825\n",
      "3    1509\n",
      "4    1723\n",
      "5    1727\n",
      "6    1613\n",
      "7    1692\n",
      "8    1796\n",
      "9    2176\n",
      "10   1549\n",
      "11   1955\n",
      "12   2469\n",
      "\n",
      "By Day of Week:\n",
      "   Count\n",
      "0   3087\n",
      "1   3025\n",
      "2   3113\n",
      "3   3108\n",
      "4   3194\n",
      "5   3115\n",
      "6   3177\n",
      "\n",
      "By Hour:\n",
      "   Count\n",
      "0  21813\n",
      "1      6\n",
      "\n",
      "Peak Times for Shipping:\n",
      "By Year:\n",
      "      Count\n",
      "2018     46\n",
      "2019   6701\n",
      "2020  13141\n",
      "2021   1931\n",
      "\n",
      "By Month:\n",
      "    Count\n",
      "1    1862\n",
      "2    1905\n",
      "3    1574\n",
      "4    1703\n",
      "5    1783\n",
      "6    1628\n",
      "7    1711\n",
      "8    1820\n",
      "9    2045\n",
      "10   1576\n",
      "11   1868\n",
      "12   2344\n",
      "\n",
      "By Day of Week:\n",
      "   Count\n",
      "0   3183\n",
      "1   3073\n",
      "2   3119\n",
      "3   3133\n",
      "4   3089\n",
      "5   3093\n",
      "6   3129\n",
      "\n",
      "By Hour:\n",
      "   Count\n",
      "0  21819\n"
     ]
    }
   ],
   "source": [
    "# To answer the questions about peak times, I will use the previously extracted time features (purchase_year, purchase_month, purchase_dayofweek, purchase_hour, ship_year, ship_month, ship_dayofweek, ship_hour) and count the occurrences for each time unit.\n",
    "# 3. What are the peak times (year, month, day of week, hour) for purchases and shipping?\n",
    "print(\"\\n--- 2. Customer Behavior and Trends: Peak Times ---\")\n",
    "\n",
    "print(\"\\nPeak Times for Purchases:\")\n",
    "print(\"By Year:\")\n",
    "print(df['purchase_year'].value_counts().sort_index().to_frame(name='Count'))\n",
    "print(\"\\nBy Month:\")\n",
    "print(df['purchase_month'].value_counts().sort_index().to_frame(name='Count'))\n",
    "print(\"\\nBy Day of Week:\")\n",
    "print(df['purchase_dayofweek'].value_counts().sort_index().to_frame(name='Count'))\n",
    "print(\"\\nBy Hour:\")\n",
    "print(df['purchase_hour'].value_counts().sort_index().to_frame(name='Count'))\n",
    "\n",
    "print(\"\\nPeak Times for Shipping:\")\n",
    "print(\"By Year:\")\n",
    "print(df['ship_year'].value_counts().sort_index().to_frame(name='Count'))\n",
    "print(\"\\nBy Month:\")\n",
    "print(df['ship_month'].value_counts().sort_index().to_frame(name='Count'))\n",
    "print(\"\\nBy Day of Week:\")\n",
    "print(df['ship_dayofweek'].value_counts().sort_index().to_frame(name='Count'))\n",
    "print(\"\\nBy Hour:\")\n",
    "print(df['ship_hour'].value_counts().sort_index().to_frame(name='Count'))\n"
   ]
  },
  {
   "cell_type": "code",
   "execution_count": 70,
   "id": "1e1e3d32",
   "metadata": {},
   "outputs": [
    {
     "name": "stdout",
     "output_type": "stream",
     "text": [
      "\n",
      "--- 2. Customer Behavior and Trends: Platforms and Channels ---\n",
      "\n",
      "Purchase Platform Usage:\n",
      "            Count\n",
      "website     19743\n",
      "mobile app   2076\n",
      "\n",
      "Purchase Platform Sales Volume (USD):\n",
      "  PURCHASE_PLATFORM  Total Sales Volume (USD)\n",
      "1           website                5982597.86\n",
      "0        mobile app                 153942.07\n"
     ]
    }
   ],
   "source": [
    "# To answer the questions about purchase platforms, marketing channels, and account creation methods, I will count the occurrences of each category in the respective columns and display the top ones. To compare sales volumes for purchase platforms, I will group by 'PURCHASE_PLATFORM' and sum 'USD_PRICE'. For marketing channels and countries, I will perform similar aggregations to determine their contribution to sales volume and revenue.\n",
    "# 4. Which purchase platforms (website vs. mobile app) are most used, and how do their sales volumes compare?\n",
    "print(\"\\n--- 2. Customer Behavior and Trends: Platforms and Channels ---\")\n",
    "print(\"\\nPurchase Platform Usage:\")\n",
    "print(df['PURCHASE_PLATFORM'].value_counts().to_frame(name='Count'))\n",
    "\n",
    "print(\"\\nPurchase Platform Sales Volume (USD):\")\n",
    "platform_sales = df.groupby('PURCHASE_PLATFORM')['USD_PRICE'].sum().reset_index()\n",
    "platform_sales.columns = ['PURCHASE_PLATFORM', 'Total Sales Volume (USD)']\n",
    "print(platform_sales.sort_values(by='Total Sales Volume (USD)', ascending=False))"
   ]
  },
  {
   "cell_type": "code",
   "execution_count": 71,
   "id": "51b3e713",
   "metadata": {},
   "outputs": [
    {
     "name": "stdout",
     "output_type": "stream",
     "text": [
      "\n",
      "Most Frequent Marketing Channels:\n",
      "              Count\n",
      "direct        17397\n",
      "email          3252\n",
      "affiliate       717\n",
      "social media    323\n",
      "unknown         130\n",
      "\n",
      "Marketing Channel Sales Volume (USD):\n",
      "  MARKETING_CHANNEL  Total Sales Volume (USD)\n",
      "1            direct                5196761.60\n",
      "2             email                 611182.72\n",
      "0         affiliate                 220798.81\n",
      "3      social media                  69526.37\n",
      "4           unknown                  38270.43\n"
     ]
    }
   ],
   "source": [
    "# 5. What are the most effective marketing channels for driving sales?\n",
    "print(\"\\nMost Frequent Marketing Channels:\")\n",
    "print(df['MARKETING_CHANNEL'].value_counts().head(10).to_frame(name='Count'))\n",
    "\n",
    "print(\"\\nMarketing Channel Sales Volume (USD):\")\n",
    "channel_sales = df.groupby('MARKETING_CHANNEL')['USD_PRICE'].sum().reset_index()\n",
    "channel_sales.columns = ['MARKETING_CHANNEL', 'Total Sales Volume (USD)']\n",
    "print(channel_sales.sort_values(by='Total Sales Volume (USD)', ascending=False).head(10))\n"
   ]
  },
  {
   "cell_type": "code",
   "execution_count": 72,
   "id": "a5733770",
   "metadata": {},
   "outputs": [
    {
     "name": "stdout",
     "output_type": "stream",
     "text": [
      "\n",
      "Account Creation Method Usage:\n",
      "         Count\n",
      "desktop  16427\n",
      "mobile    4222\n",
      "unknown    822\n",
      "tablet     323\n",
      "tv          25\n",
      "\n",
      "Account Creation Method Sales Volume (USD):\n",
      "  ACCOUNT_CREATION_METHOD  Total Sales Volume (USD)\n",
      "0                 desktop                4768087.24\n",
      "1                  mobile                1039857.08\n",
      "4                 unknown                 253857.04\n",
      "2                  tablet                  69526.37\n",
      "3                      tv                   5212.20\n"
     ]
    }
   ],
   "source": [
    "# 6. Are there any notable differences in purchase behavior based on the account creation method?\n",
    "print(\"\\nAccount Creation Method Usage:\")\n",
    "print(df['ACCOUNT_CREATION_METHOD'].value_counts().to_frame(name='Count'))\n",
    "\n",
    "print(\"\\nAccount Creation Method Sales Volume (USD):\")\n",
    "account_method_sales = df.groupby('ACCOUNT_CREATION_METHOD')['USD_PRICE'].sum().reset_index()\n",
    "account_method_sales.columns = ['ACCOUNT_CREATION_METHOD', 'Total Sales Volume (USD)']\n",
    "print(account_method_sales.sort_values(by='Total Sales Volume (USD)', ascending=False))"
   ]
  },
  {
   "cell_type": "code",
   "execution_count": 73,
   "id": "5f9de8e6",
   "metadata": {},
   "outputs": [
    {
     "name": "stdout",
     "output_type": "stream",
     "text": [
      "\n",
      "Countries by Sales Volume:\n",
      "    Count\n",
      "us  10274\n",
      "gb   1805\n",
      "ca    952\n",
      "au    893\n",
      "de    853\n",
      "fr    558\n",
      "jp    522\n",
      "br    493\n",
      "es    408\n",
      "nl    326\n",
      "\n",
      "Countries by Sales Revenue (USD):\n",
      "    COUNTRY_CODE  Total Revenue (USD)\n",
      "141           us           2947660.22\n",
      "46            gb            474472.45\n",
      "34            de            255109.58\n",
      "24            ca            232100.04\n",
      "69            jp            219857.94\n",
      "8             au            187830.31\n",
      "45            fr            152479.14\n",
      "20            br            145880.70\n",
      "41            es            105733.16\n",
      "102           nl             97505.38\n"
     ]
    }
   ],
   "source": [
    "# 7. Which countries contribute the most to sales revenue and volume?\n",
    "print(\"\\nCountries by Sales Volume:\")\n",
    "country_sales_volume = df['COUNTRY_CODE'].value_counts().head(10).to_frame(name='Count')\n",
    "print(country_sales_volume)\n",
    "\n",
    "print(\"\\nCountries by Sales Revenue (USD):\")\n",
    "country_revenue = df.groupby('COUNTRY_CODE')['USD_PRICE'].sum().reset_index()\n",
    "country_revenue.columns = ['COUNTRY_CODE', 'Total Revenue (USD)']\n",
    "country_revenue_sorted = country_revenue.sort_values(by='Total Revenue (USD)', ascending=False).head(10)\n",
    "print(country_revenue_sorted)"
   ]
  },
  {
   "cell_type": "code",
   "execution_count": 74,
   "id": "646c0233",
   "metadata": {},
   "outputs": [
    {
     "name": "stdout",
     "output_type": "stream",
     "text": [
      "\n",
      "--- 3. Operational Efficiency (Correlation Matrix)---\n",
      "                    USD_PRICE  purchase_year  purchase_month  \\\n",
      "USD_PRICE            1.000000       0.072347        0.018930   \n",
      "purchase_year        0.072347       1.000000       -0.264670   \n",
      "purchase_month       0.018930      -0.264670        1.000000   \n",
      "purchase_dayofweek  -0.000510       0.000666       -0.007976   \n",
      "purchase_hour        0.007995       0.006211        0.024492   \n",
      "ship_year            0.071360       0.978591       -0.227992   \n",
      "ship_month           0.018683      -0.255367        0.921310   \n",
      "ship_dayofweek       0.002044       0.000346        0.013646   \n",
      "ship_hour                 NaN            NaN             NaN   \n",
      "\n",
      "                    purchase_dayofweek  purchase_hour  ship_year  ship_month  \\\n",
      "USD_PRICE                    -0.000510       0.007995   0.071360    0.018683   \n",
      "purchase_year                 0.000666       0.006211   0.978591   -0.255367   \n",
      "purchase_month               -0.007976       0.024492  -0.227992    0.921310   \n",
      "purchase_dayofweek            1.000000      -0.000202  -0.003414   -0.000959   \n",
      "purchase_hour                -0.000202       1.000000   0.010851   -0.004638   \n",
      "ship_year                    -0.003414       0.010851   1.000000   -0.284851   \n",
      "ship_month                   -0.000959      -0.004638  -0.284851    1.000000   \n",
      "ship_dayofweek               -0.150848      -0.001321   0.005612   -0.000310   \n",
      "ship_hour                          NaN            NaN        NaN         NaN   \n",
      "\n",
      "                    ship_dayofweek  ship_hour  \n",
      "USD_PRICE                 0.002044        NaN  \n",
      "purchase_year             0.000346        NaN  \n",
      "purchase_month            0.013646        NaN  \n",
      "purchase_dayofweek       -0.150848        NaN  \n",
      "purchase_hour            -0.001321        NaN  \n",
      "ship_year                 0.005612        NaN  \n",
      "ship_month               -0.000310        NaN  \n",
      "ship_dayofweek            1.000000        NaN  \n",
      "ship_hour                      NaN        NaN  \n",
      "Interpretation: The correlation matrix shows generally weak correlations between individual purchase and ship time components. This suggests no strong linear relationship based on these features alone.\n"
     ]
    }
   ],
   "source": [
    "#I will check for specific periods of high shipping volume by looking at the distribution of shipping timestamps.\n",
    "# 8. Is there a significant correlation between purchase time and ship time?\n",
    "print(\"\\n--- 3. Operational Efficiency (Correlation Matrix)---\")\n",
    "# Select relevant numerical columns from the df DataFrame, excluding 'shipping_duration_days'\n",
    "# as this step is before data wrangling where that feature is created.\n",
    "numerical_cols_for_corr = ['USD_PRICE', 'purchase_year', 'purchase_month', 'purchase_dayofweek',\n",
    "                           'purchase_hour', 'ship_year', 'ship_month', 'ship_dayofweek',\n",
    "                           'ship_hour']\n",
    "\n",
    "# Check if all columns exist in the DataFrame before calculating correlation\n",
    "missing_cols = [col for col in numerical_cols_for_corr if col not in df.columns]\n",
    "if missing_cols:\n",
    "    print(f\"Error: The following columns are missing from the DataFrame: {missing_cols}\")\n",
    "else:\n",
    "    # Calculate the correlation matrix\n",
    "    correlation_matrix = df[numerical_cols_for_corr].corr()\n",
    "    print(correlation_matrix)\n",
    "    print(\"Interpretation: The correlation matrix shows generally weak correlations between individual purchase and ship time components. This suggests no strong linear relationship based on these features alone.\")"
   ]
  },
  {
   "cell_type": "code",
   "execution_count": 75,
   "id": "bff8e5d1",
   "metadata": {},
   "outputs": [
    {
     "name": "stdout",
     "output_type": "stream",
     "text": [
      "\n",
      "Shipping Volume Trends:\n",
      "By Year:\n",
      "      Count\n",
      "2018     46\n",
      "2019   6701\n",
      "2020  13141\n",
      "2021   1931\n",
      "\n",
      "By Month:\n",
      "    Count\n",
      "1    1862\n",
      "2    1905\n",
      "3    1574\n",
      "4    1703\n",
      "5    1783\n",
      "6    1628\n",
      "7    1711\n",
      "8    1820\n",
      "9    2045\n",
      "10   1576\n",
      "11   1868\n",
      "12   2344\n",
      "\n",
      "By Day of Week:\n",
      "   Count\n",
      "0   3183\n",
      "1   3073\n",
      "2   3119\n",
      "3   3133\n",
      "4   3089\n",
      "5   3093\n",
      "6   3129\n",
      "\n",
      "By Hour:\n",
      "   Count\n",
      "0  21819\n",
      "Interpretation: The value counts for shipping year, month, day of week, and hour indicate the distribution of shipping activity over these periods, highlighting potential peak times for logistics.\n"
     ]
    }
   ],
   "source": [
    "# 9. Are there specific times or periods when shipping volume is highest, potentially impacting logistics?\n",
    "print(\"\\nShipping Volume Trends:\")\n",
    "print(\"By Year:\")\n",
    "print(df['ship_year'].value_counts().sort_index().to_frame(name='Count'))\n",
    "print(\"\\nBy Month:\")\n",
    "print(df['ship_month'].value_counts().sort_index().to_frame(name='Count'))\n",
    "print(\"\\nBy Day of Week:\")\n",
    "print(df['ship_dayofweek'].value_counts().sort_index().to_frame(name='Count'))\n",
    "print(\"\\nBy Hour:\")\n",
    "print(df['ship_hour'].value_counts().sort_index().to_frame(name='Count'))\n",
    "print(\"Interpretation: The value counts for shipping year, month, day of week, and hour indicate the distribution of shipping activity over these periods, highlighting potential peak times for logistics.\")"
   ]
  },
  {
   "cell_type": "markdown",
   "id": "22288749",
   "metadata": {},
   "source": [
    "## 4. Data Wrangling\n",
    "\n",
    "Prepare the data for modeling, potentially including feature engineering or data transformation based on EDA findings.\n",
    "\n",
    "Create a new feature for shipping duration, identify categorical columns for encoding, and apply one-hot encoding. Select the final features for modeling."
   ]
  },
  {
   "cell_type": "code",
   "execution_count": 76,
   "id": "2ae876b4",
   "metadata": {},
   "outputs": [
    {
     "data": {
      "text/html": [
       "<div>\n",
       "<style scoped>\n",
       "    .dataframe tbody tr th:only-of-type {\n",
       "        vertical-align: middle;\n",
       "    }\n",
       "\n",
       "    .dataframe tbody tr th {\n",
       "        vertical-align: top;\n",
       "    }\n",
       "\n",
       "    .dataframe thead th {\n",
       "        text-align: right;\n",
       "    }\n",
       "</style>\n",
       "<table border=\"1\" class=\"dataframe\">\n",
       "  <thead>\n",
       "    <tr style=\"text-align: right;\">\n",
       "      <th></th>\n",
       "      <th>PURCHASE_TS</th>\n",
       "      <th>SHIP_TS</th>\n",
       "      <th>shipping_duration_days</th>\n",
       "    </tr>\n",
       "  </thead>\n",
       "  <tbody>\n",
       "    <tr>\n",
       "      <th>0</th>\n",
       "      <td>2020-12-24</td>\n",
       "      <td>2020-12-13</td>\n",
       "      <td>-11</td>\n",
       "    </tr>\n",
       "    <tr>\n",
       "      <th>1</th>\n",
       "      <td>2020-10-01</td>\n",
       "      <td>2020-09-21</td>\n",
       "      <td>-10</td>\n",
       "    </tr>\n",
       "    <tr>\n",
       "      <th>2</th>\n",
       "      <td>2020-04-21</td>\n",
       "      <td>2020-02-16</td>\n",
       "      <td>-65</td>\n",
       "    </tr>\n",
       "    <tr>\n",
       "      <th>3</th>\n",
       "      <td>2020-04-07</td>\n",
       "      <td>2020-04-04</td>\n",
       "      <td>-3</td>\n",
       "    </tr>\n",
       "    <tr>\n",
       "      <th>4</th>\n",
       "      <td>2020-11-24</td>\n",
       "      <td>2020-08-02</td>\n",
       "      <td>-114</td>\n",
       "    </tr>\n",
       "  </tbody>\n",
       "</table>\n",
       "</div>"
      ],
      "text/plain": [
       "  PURCHASE_TS    SHIP_TS  shipping_duration_days\n",
       "0  2020-12-24 2020-12-13                     -11\n",
       "1  2020-10-01 2020-09-21                     -10\n",
       "2  2020-04-21 2020-02-16                     -65\n",
       "3  2020-04-07 2020-04-04                      -3\n",
       "4  2020-11-24 2020-08-02                    -114"
      ]
     },
     "execution_count": 76,
     "metadata": {},
     "output_type": "execute_result"
    }
   ],
   "source": [
    "# 1. Create new features based on the time difference between purchase and ship timestamps.\n",
    "# Calculate the time difference\n",
    "time_difference = df['SHIP_TS'] - df['PURCHASE_TS']\n",
    "\n",
    "# Calculate the shipping duration in days and add it as a new column named shipping_duration_days\n",
    "df['shipping_duration_days'] = time_difference.dt.days\n",
    "\n",
    "# Display the first few rows to show the new column\n",
    "df[['PURCHASE_TS', 'SHIP_TS', 'shipping_duration_days']].head()"
   ]
  },
  {
   "cell_type": "code",
   "execution_count": 77,
   "id": "ce01d5cb",
   "metadata": {},
   "outputs": [],
   "source": [
    "# 2. Identify categorical columns that need encoding for modeling.\n",
    "# Based on EDA, these columns are suitable for one-hot encoding.\n",
    "categorical_cols_to_encode = ['PURCHASE_PLATFORM', 'MARKETING_CHANNEL', 'ACCOUNT_CREATION_METHOD', 'COUNTRY_CODE']"
   ]
  },
  {
   "cell_type": "code",
   "execution_count": 78,
   "id": "d3f1754f",
   "metadata": {},
   "outputs": [
    {
     "data": {
      "text/html": [
       "<div>\n",
       "<style scoped>\n",
       "    .dataframe tbody tr th:only-of-type {\n",
       "        vertical-align: middle;\n",
       "    }\n",
       "\n",
       "    .dataframe tbody tr th {\n",
       "        vertical-align: top;\n",
       "    }\n",
       "\n",
       "    .dataframe thead th {\n",
       "        text-align: right;\n",
       "    }\n",
       "</style>\n",
       "<table border=\"1\" class=\"dataframe\">\n",
       "  <thead>\n",
       "    <tr style=\"text-align: right;\">\n",
       "      <th></th>\n",
       "      <th>USER_ID</th>\n",
       "      <th>ORDER_ID</th>\n",
       "      <th>PURCHASE_TS</th>\n",
       "      <th>SHIP_TS</th>\n",
       "      <th>PRODUCT_NAME</th>\n",
       "      <th>PRODUCT_ID</th>\n",
       "      <th>USD_PRICE</th>\n",
       "      <th>purchase_year</th>\n",
       "      <th>purchase_month</th>\n",
       "      <th>purchase_dayofweek</th>\n",
       "      <th>...</th>\n",
       "      <th>COUNTRY_CODE_us</th>\n",
       "      <th>COUNTRY_CODE_uy</th>\n",
       "      <th>COUNTRY_CODE_vc</th>\n",
       "      <th>COUNTRY_CODE_ve</th>\n",
       "      <th>COUNTRY_CODE_vi</th>\n",
       "      <th>COUNTRY_CODE_vn</th>\n",
       "      <th>COUNTRY_CODE_vu</th>\n",
       "      <th>COUNTRY_CODE_za</th>\n",
       "      <th>COUNTRY_CODE_zm</th>\n",
       "      <th>COUNTRY_CODE_zw</th>\n",
       "    </tr>\n",
       "  </thead>\n",
       "  <tbody>\n",
       "    <tr>\n",
       "      <th>0</th>\n",
       "      <td>2c06175e</td>\n",
       "      <td>0001328c3c220830</td>\n",
       "      <td>2020-12-24</td>\n",
       "      <td>2020-12-13</td>\n",
       "      <td>Nintendo Switch</td>\n",
       "      <td>e682</td>\n",
       "      <td>168.00</td>\n",
       "      <td>2020</td>\n",
       "      <td>12</td>\n",
       "      <td>3</td>\n",
       "      <td>...</td>\n",
       "      <td>1</td>\n",
       "      <td>0</td>\n",
       "      <td>0</td>\n",
       "      <td>0</td>\n",
       "      <td>0</td>\n",
       "      <td>0</td>\n",
       "      <td>0</td>\n",
       "      <td>0</td>\n",
       "      <td>0</td>\n",
       "      <td>0</td>\n",
       "    </tr>\n",
       "    <tr>\n",
       "      <th>1</th>\n",
       "      <td>ee8e5bc2</td>\n",
       "      <td>0002af7a5c6100772</td>\n",
       "      <td>2020-10-01</td>\n",
       "      <td>2020-09-21</td>\n",
       "      <td>Nintendo Switch</td>\n",
       "      <td>e682</td>\n",
       "      <td>160.61</td>\n",
       "      <td>2020</td>\n",
       "      <td>10</td>\n",
       "      <td>3</td>\n",
       "      <td>...</td>\n",
       "      <td>0</td>\n",
       "      <td>0</td>\n",
       "      <td>0</td>\n",
       "      <td>0</td>\n",
       "      <td>0</td>\n",
       "      <td>0</td>\n",
       "      <td>0</td>\n",
       "      <td>0</td>\n",
       "      <td>0</td>\n",
       "      <td>0</td>\n",
       "    </tr>\n",
       "    <tr>\n",
       "      <th>2</th>\n",
       "      <td>9eb4efe0</td>\n",
       "      <td>0002b8350e167074</td>\n",
       "      <td>2020-04-21</td>\n",
       "      <td>2020-02-16</td>\n",
       "      <td>Nintendo Switch</td>\n",
       "      <td>8d0d</td>\n",
       "      <td>151.20</td>\n",
       "      <td>2020</td>\n",
       "      <td>4</td>\n",
       "      <td>1</td>\n",
       "      <td>...</td>\n",
       "      <td>1</td>\n",
       "      <td>0</td>\n",
       "      <td>0</td>\n",
       "      <td>0</td>\n",
       "      <td>0</td>\n",
       "      <td>0</td>\n",
       "      <td>0</td>\n",
       "      <td>0</td>\n",
       "      <td>0</td>\n",
       "      <td>0</td>\n",
       "    </tr>\n",
       "    <tr>\n",
       "      <th>3</th>\n",
       "      <td>cac7cbaf</td>\n",
       "      <td>0006d06b98385729</td>\n",
       "      <td>2020-04-07</td>\n",
       "      <td>2020-04-04</td>\n",
       "      <td>Sony PlayStation 5 Bundle</td>\n",
       "      <td>54ed</td>\n",
       "      <td>1132.82</td>\n",
       "      <td>2020</td>\n",
       "      <td>4</td>\n",
       "      <td>1</td>\n",
       "      <td>...</td>\n",
       "      <td>0</td>\n",
       "      <td>0</td>\n",
       "      <td>0</td>\n",
       "      <td>0</td>\n",
       "      <td>0</td>\n",
       "      <td>0</td>\n",
       "      <td>0</td>\n",
       "      <td>0</td>\n",
       "      <td>0</td>\n",
       "      <td>0</td>\n",
       "    </tr>\n",
       "    <tr>\n",
       "      <th>4</th>\n",
       "      <td>6b0230bc</td>\n",
       "      <td>00097279a2f46150</td>\n",
       "      <td>2020-11-24</td>\n",
       "      <td>2020-08-02</td>\n",
       "      <td>Nintendo Switch</td>\n",
       "      <td>8d0d</td>\n",
       "      <td>33.89</td>\n",
       "      <td>2020</td>\n",
       "      <td>11</td>\n",
       "      <td>1</td>\n",
       "      <td>...</td>\n",
       "      <td>0</td>\n",
       "      <td>0</td>\n",
       "      <td>0</td>\n",
       "      <td>0</td>\n",
       "      <td>0</td>\n",
       "      <td>0</td>\n",
       "      <td>0</td>\n",
       "      <td>0</td>\n",
       "      <td>0</td>\n",
       "      <td>0</td>\n",
       "    </tr>\n",
       "  </tbody>\n",
       "</table>\n",
       "<p>5 rows × 175 columns</p>\n",
       "</div>"
      ],
      "text/plain": [
       "    USER_ID           ORDER_ID PURCHASE_TS    SHIP_TS  \\\n",
       "0  2c06175e   0001328c3c220830  2020-12-24 2020-12-13   \n",
       "1  ee8e5bc2  0002af7a5c6100772  2020-10-01 2020-09-21   \n",
       "2  9eb4efe0   0002b8350e167074  2020-04-21 2020-02-16   \n",
       "3  cac7cbaf   0006d06b98385729  2020-04-07 2020-04-04   \n",
       "4  6b0230bc   00097279a2f46150  2020-11-24 2020-08-02   \n",
       "\n",
       "                PRODUCT_NAME PRODUCT_ID  USD_PRICE  purchase_year  \\\n",
       "0            Nintendo Switch       e682     168.00           2020   \n",
       "1            Nintendo Switch       e682     160.61           2020   \n",
       "2            Nintendo Switch       8d0d     151.20           2020   \n",
       "3  Sony PlayStation 5 Bundle       54ed    1132.82           2020   \n",
       "4            Nintendo Switch       8d0d      33.89           2020   \n",
       "\n",
       "   purchase_month  purchase_dayofweek  ...  COUNTRY_CODE_us  COUNTRY_CODE_uy  \\\n",
       "0              12                   3  ...                1                0   \n",
       "1              10                   3  ...                0                0   \n",
       "2               4                   1  ...                1                0   \n",
       "3               4                   1  ...                0                0   \n",
       "4              11                   1  ...                0                0   \n",
       "\n",
       "   COUNTRY_CODE_vc  COUNTRY_CODE_ve  COUNTRY_CODE_vi  COUNTRY_CODE_vn  \\\n",
       "0                0                0                0                0   \n",
       "1                0                0                0                0   \n",
       "2                0                0                0                0   \n",
       "3                0                0                0                0   \n",
       "4                0                0                0                0   \n",
       "\n",
       "   COUNTRY_CODE_vu  COUNTRY_CODE_za  COUNTRY_CODE_zm  COUNTRY_CODE_zw  \n",
       "0                0                0                0                0  \n",
       "1                0                0                0                0  \n",
       "2                0                0                0                0  \n",
       "3                0                0                0                0  \n",
       "4                0                0                0                0  \n",
       "\n",
       "[5 rows x 175 columns]"
      ]
     },
     "execution_count": 78,
     "metadata": {},
     "output_type": "execute_result"
    }
   ],
   "source": [
    "# 3. Apply one-hot encoding to the selected categorical columns.\n",
    "# Use pd.get_dummies for one-hot encoding\n",
    "df_encoded = pd.get_dummies(df, columns=categorical_cols_to_encode, drop_first=True) # drop_first=True to avoid multicollinearity\n",
    "\n",
    "# Display the first few rows of the encoded dataframe to show the new columns\n",
    "df_encoded.head()"
   ]
  },
  {
   "cell_type": "code",
   "execution_count": 79,
   "id": "48ecae40",
   "metadata": {},
   "outputs": [
    {
     "name": "stdout",
     "output_type": "stream",
     "text": [
      "Columns in the final feature set:\n"
     ]
    },
    {
     "data": {
      "text/plain": [
       "['USD_PRICE',\n",
       " 'purchase_year',\n",
       " 'purchase_month',\n",
       " 'purchase_dayofweek',\n",
       " 'purchase_hour',\n",
       " 'ship_year',\n",
       " 'ship_month',\n",
       " 'ship_dayofweek',\n",
       " 'ship_hour',\n",
       " 'shipping_duration_days',\n",
       " 'PURCHASE_PLATFORM_website',\n",
       " 'MARKETING_CHANNEL_direct',\n",
       " 'MARKETING_CHANNEL_email',\n",
       " 'MARKETING_CHANNEL_social media',\n",
       " 'MARKETING_CHANNEL_unknown',\n",
       " 'ACCOUNT_CREATION_METHOD_mobile',\n",
       " 'ACCOUNT_CREATION_METHOD_tablet',\n",
       " 'ACCOUNT_CREATION_METHOD_tv',\n",
       " 'ACCOUNT_CREATION_METHOD_unknown',\n",
       " 'COUNTRY_CODE_ae',\n",
       " 'COUNTRY_CODE_ai',\n",
       " 'COUNTRY_CODE_al',\n",
       " 'COUNTRY_CODE_ao',\n",
       " 'COUNTRY_CODE_ap',\n",
       " 'COUNTRY_CODE_ar',\n",
       " 'COUNTRY_CODE_at',\n",
       " 'COUNTRY_CODE_au',\n",
       " 'COUNTRY_CODE_aw',\n",
       " 'COUNTRY_CODE_az',\n",
       " 'COUNTRY_CODE_ba',\n",
       " 'COUNTRY_CODE_bb',\n",
       " 'COUNTRY_CODE_bd',\n",
       " 'COUNTRY_CODE_be',\n",
       " 'COUNTRY_CODE_bf',\n",
       " 'COUNTRY_CODE_bg',\n",
       " 'COUNTRY_CODE_bh',\n",
       " 'COUNTRY_CODE_bm',\n",
       " 'COUNTRY_CODE_bo',\n",
       " 'COUNTRY_CODE_br',\n",
       " 'COUNTRY_CODE_bs',\n",
       " 'COUNTRY_CODE_bw',\n",
       " 'COUNTRY_CODE_by',\n",
       " 'COUNTRY_CODE_ca',\n",
       " 'COUNTRY_CODE_ch',\n",
       " 'COUNTRY_CODE_ci',\n",
       " 'COUNTRY_CODE_cl',\n",
       " 'COUNTRY_CODE_cm',\n",
       " 'COUNTRY_CODE_cn',\n",
       " 'COUNTRY_CODE_co',\n",
       " 'COUNTRY_CODE_cr',\n",
       " 'COUNTRY_CODE_cy',\n",
       " 'COUNTRY_CODE_cz',\n",
       " 'COUNTRY_CODE_de',\n",
       " 'COUNTRY_CODE_dk',\n",
       " 'COUNTRY_CODE_do',\n",
       " 'COUNTRY_CODE_dz',\n",
       " 'COUNTRY_CODE_ec',\n",
       " 'COUNTRY_CODE_ee',\n",
       " 'COUNTRY_CODE_eg',\n",
       " 'COUNTRY_CODE_es',\n",
       " 'COUNTRY_CODE_eu',\n",
       " 'COUNTRY_CODE_fi',\n",
       " 'COUNTRY_CODE_fj',\n",
       " 'COUNTRY_CODE_fr',\n",
       " 'COUNTRY_CODE_gb',\n",
       " 'COUNTRY_CODE_ge',\n",
       " 'COUNTRY_CODE_gh',\n",
       " 'COUNTRY_CODE_gl',\n",
       " 'COUNTRY_CODE_gr',\n",
       " 'COUNTRY_CODE_gt',\n",
       " 'COUNTRY_CODE_gu',\n",
       " 'COUNTRY_CODE_hk',\n",
       " 'COUNTRY_CODE_hn',\n",
       " 'COUNTRY_CODE_hr',\n",
       " 'COUNTRY_CODE_ht',\n",
       " 'COUNTRY_CODE_hu',\n",
       " 'COUNTRY_CODE_id',\n",
       " 'COUNTRY_CODE_ie',\n",
       " 'COUNTRY_CODE_il',\n",
       " 'COUNTRY_CODE_im',\n",
       " 'COUNTRY_CODE_in',\n",
       " 'COUNTRY_CODE_iq',\n",
       " 'COUNTRY_CODE_is',\n",
       " 'COUNTRY_CODE_it',\n",
       " 'COUNTRY_CODE_je',\n",
       " 'COUNTRY_CODE_jm',\n",
       " 'COUNTRY_CODE_jo',\n",
       " 'COUNTRY_CODE_jp',\n",
       " 'COUNTRY_CODE_ke',\n",
       " 'COUNTRY_CODE_kh',\n",
       " 'COUNTRY_CODE_kn',\n",
       " 'COUNTRY_CODE_kr',\n",
       " 'COUNTRY_CODE_kw',\n",
       " 'COUNTRY_CODE_ky',\n",
       " 'COUNTRY_CODE_kz',\n",
       " 'COUNTRY_CODE_lb',\n",
       " 'COUNTRY_CODE_lc',\n",
       " 'COUNTRY_CODE_lk',\n",
       " 'COUNTRY_CODE_lt',\n",
       " 'COUNTRY_CODE_lu',\n",
       " 'COUNTRY_CODE_lv',\n",
       " 'COUNTRY_CODE_ma',\n",
       " 'COUNTRY_CODE_mc',\n",
       " 'COUNTRY_CODE_md',\n",
       " 'COUNTRY_CODE_me',\n",
       " 'COUNTRY_CODE_mh',\n",
       " 'COUNTRY_CODE_mk',\n",
       " 'COUNTRY_CODE_ml',\n",
       " 'COUNTRY_CODE_mm',\n",
       " 'COUNTRY_CODE_mn',\n",
       " 'COUNTRY_CODE_mo',\n",
       " 'COUNTRY_CODE_mp',\n",
       " 'COUNTRY_CODE_mt',\n",
       " 'COUNTRY_CODE_mu',\n",
       " 'COUNTRY_CODE_mv',\n",
       " 'COUNTRY_CODE_mx',\n",
       " 'COUNTRY_CODE_my',\n",
       " 'COUNTRY_CODE_mz',\n",
       " 'COUNTRY_CODE_ng',\n",
       " 'COUNTRY_CODE_ni',\n",
       " 'COUNTRY_CODE_nl',\n",
       " 'COUNTRY_CODE_no',\n",
       " 'COUNTRY_CODE_np',\n",
       " 'COUNTRY_CODE_nz',\n",
       " 'COUNTRY_CODE_om',\n",
       " 'COUNTRY_CODE_pa',\n",
       " 'COUNTRY_CODE_pe',\n",
       " 'COUNTRY_CODE_pf',\n",
       " 'COUNTRY_CODE_pg',\n",
       " 'COUNTRY_CODE_ph',\n",
       " 'COUNTRY_CODE_pk',\n",
       " 'COUNTRY_CODE_pl',\n",
       " 'COUNTRY_CODE_pr',\n",
       " 'COUNTRY_CODE_ps',\n",
       " 'COUNTRY_CODE_pt',\n",
       " 'COUNTRY_CODE_py',\n",
       " 'COUNTRY_CODE_qa',\n",
       " 'COUNTRY_CODE_re',\n",
       " 'COUNTRY_CODE_ro',\n",
       " 'COUNTRY_CODE_rs',\n",
       " 'COUNTRY_CODE_ru',\n",
       " 'COUNTRY_CODE_sa',\n",
       " 'COUNTRY_CODE_se',\n",
       " 'COUNTRY_CODE_sg',\n",
       " 'COUNTRY_CODE_si',\n",
       " 'COUNTRY_CODE_sk',\n",
       " 'COUNTRY_CODE_sl',\n",
       " 'COUNTRY_CODE_sn',\n",
       " 'COUNTRY_CODE_so',\n",
       " 'COUNTRY_CODE_sv',\n",
       " 'COUNTRY_CODE_th',\n",
       " 'COUNTRY_CODE_tn',\n",
       " 'COUNTRY_CODE_tr',\n",
       " 'COUNTRY_CODE_tt',\n",
       " 'COUNTRY_CODE_tw',\n",
       " 'COUNTRY_CODE_tz',\n",
       " 'COUNTRY_CODE_ua',\n",
       " 'COUNTRY_CODE_ug',\n",
       " 'COUNTRY_CODE_unknown',\n",
       " 'COUNTRY_CODE_us',\n",
       " 'COUNTRY_CODE_uy',\n",
       " 'COUNTRY_CODE_vc',\n",
       " 'COUNTRY_CODE_ve',\n",
       " 'COUNTRY_CODE_vi',\n",
       " 'COUNTRY_CODE_vn',\n",
       " 'COUNTRY_CODE_vu',\n",
       " 'COUNTRY_CODE_za',\n",
       " 'COUNTRY_CODE_zm',\n",
       " 'COUNTRY_CODE_zw']"
      ]
     },
     "execution_count": 79,
     "metadata": {},
     "output_type": "execute_result"
    }
   ],
   "source": [
    "# 4. Select the final set of features that will be used for training the model.\n",
    "# Include numerical columns, the newly engineered feature, and the one-hot encoded categorical features.\n",
    "# Exclude original timestamp columns, original categorical columns (now encoded), and potentially ID columns.\n",
    "# Keep the extracted time features as they might be relevant.\n",
    "features_to_drop = ['USER_ID', 'ORDER_ID', 'PURCHASE_TS', 'SHIP_TS', 'PRODUCT_NAME', 'PRODUCT_ID']\n",
    "\n",
    "# Create the final feature set dataframe\n",
    "df_final_features = df_encoded.drop(columns=features_to_drop)\n",
    "\n",
    "# Display the columns of the final feature set\n",
    "print(\"Columns in the final feature set:\")\n",
    "df_final_features.columns.tolist()"
   ]
  },
  {
   "cell_type": "code",
   "execution_count": 80,
   "id": "64165be7",
   "metadata": {},
   "outputs": [
    {
     "data": {
      "text/html": [
       "<div>\n",
       "<style scoped>\n",
       "    .dataframe tbody tr th:only-of-type {\n",
       "        vertical-align: middle;\n",
       "    }\n",
       "\n",
       "    .dataframe tbody tr th {\n",
       "        vertical-align: top;\n",
       "    }\n",
       "\n",
       "    .dataframe thead th {\n",
       "        text-align: right;\n",
       "    }\n",
       "</style>\n",
       "<table border=\"1\" class=\"dataframe\">\n",
       "  <thead>\n",
       "    <tr style=\"text-align: right;\">\n",
       "      <th></th>\n",
       "      <th>USD_PRICE</th>\n",
       "      <th>purchase_year</th>\n",
       "      <th>purchase_month</th>\n",
       "      <th>purchase_dayofweek</th>\n",
       "      <th>purchase_hour</th>\n",
       "      <th>ship_year</th>\n",
       "      <th>ship_month</th>\n",
       "      <th>ship_dayofweek</th>\n",
       "      <th>ship_hour</th>\n",
       "      <th>shipping_duration_days</th>\n",
       "      <th>...</th>\n",
       "      <th>COUNTRY_CODE_us</th>\n",
       "      <th>COUNTRY_CODE_uy</th>\n",
       "      <th>COUNTRY_CODE_vc</th>\n",
       "      <th>COUNTRY_CODE_ve</th>\n",
       "      <th>COUNTRY_CODE_vi</th>\n",
       "      <th>COUNTRY_CODE_vn</th>\n",
       "      <th>COUNTRY_CODE_vu</th>\n",
       "      <th>COUNTRY_CODE_za</th>\n",
       "      <th>COUNTRY_CODE_zm</th>\n",
       "      <th>COUNTRY_CODE_zw</th>\n",
       "    </tr>\n",
       "  </thead>\n",
       "  <tbody>\n",
       "    <tr>\n",
       "      <th>0</th>\n",
       "      <td>168.00</td>\n",
       "      <td>2020</td>\n",
       "      <td>12</td>\n",
       "      <td>3</td>\n",
       "      <td>0</td>\n",
       "      <td>2020</td>\n",
       "      <td>12</td>\n",
       "      <td>6</td>\n",
       "      <td>0</td>\n",
       "      <td>-11</td>\n",
       "      <td>...</td>\n",
       "      <td>1</td>\n",
       "      <td>0</td>\n",
       "      <td>0</td>\n",
       "      <td>0</td>\n",
       "      <td>0</td>\n",
       "      <td>0</td>\n",
       "      <td>0</td>\n",
       "      <td>0</td>\n",
       "      <td>0</td>\n",
       "      <td>0</td>\n",
       "    </tr>\n",
       "    <tr>\n",
       "      <th>1</th>\n",
       "      <td>160.61</td>\n",
       "      <td>2020</td>\n",
       "      <td>10</td>\n",
       "      <td>3</td>\n",
       "      <td>0</td>\n",
       "      <td>2020</td>\n",
       "      <td>9</td>\n",
       "      <td>0</td>\n",
       "      <td>0</td>\n",
       "      <td>-10</td>\n",
       "      <td>...</td>\n",
       "      <td>0</td>\n",
       "      <td>0</td>\n",
       "      <td>0</td>\n",
       "      <td>0</td>\n",
       "      <td>0</td>\n",
       "      <td>0</td>\n",
       "      <td>0</td>\n",
       "      <td>0</td>\n",
       "      <td>0</td>\n",
       "      <td>0</td>\n",
       "    </tr>\n",
       "    <tr>\n",
       "      <th>2</th>\n",
       "      <td>151.20</td>\n",
       "      <td>2020</td>\n",
       "      <td>4</td>\n",
       "      <td>1</td>\n",
       "      <td>0</td>\n",
       "      <td>2020</td>\n",
       "      <td>2</td>\n",
       "      <td>6</td>\n",
       "      <td>0</td>\n",
       "      <td>-65</td>\n",
       "      <td>...</td>\n",
       "      <td>1</td>\n",
       "      <td>0</td>\n",
       "      <td>0</td>\n",
       "      <td>0</td>\n",
       "      <td>0</td>\n",
       "      <td>0</td>\n",
       "      <td>0</td>\n",
       "      <td>0</td>\n",
       "      <td>0</td>\n",
       "      <td>0</td>\n",
       "    </tr>\n",
       "    <tr>\n",
       "      <th>3</th>\n",
       "      <td>1132.82</td>\n",
       "      <td>2020</td>\n",
       "      <td>4</td>\n",
       "      <td>1</td>\n",
       "      <td>0</td>\n",
       "      <td>2020</td>\n",
       "      <td>4</td>\n",
       "      <td>5</td>\n",
       "      <td>0</td>\n",
       "      <td>-3</td>\n",
       "      <td>...</td>\n",
       "      <td>0</td>\n",
       "      <td>0</td>\n",
       "      <td>0</td>\n",
       "      <td>0</td>\n",
       "      <td>0</td>\n",
       "      <td>0</td>\n",
       "      <td>0</td>\n",
       "      <td>0</td>\n",
       "      <td>0</td>\n",
       "      <td>0</td>\n",
       "    </tr>\n",
       "    <tr>\n",
       "      <th>4</th>\n",
       "      <td>33.89</td>\n",
       "      <td>2020</td>\n",
       "      <td>11</td>\n",
       "      <td>1</td>\n",
       "      <td>0</td>\n",
       "      <td>2020</td>\n",
       "      <td>8</td>\n",
       "      <td>6</td>\n",
       "      <td>0</td>\n",
       "      <td>-114</td>\n",
       "      <td>...</td>\n",
       "      <td>0</td>\n",
       "      <td>0</td>\n",
       "      <td>0</td>\n",
       "      <td>0</td>\n",
       "      <td>0</td>\n",
       "      <td>0</td>\n",
       "      <td>0</td>\n",
       "      <td>0</td>\n",
       "      <td>0</td>\n",
       "      <td>0</td>\n",
       "    </tr>\n",
       "  </tbody>\n",
       "</table>\n",
       "<p>5 rows × 169 columns</p>\n",
       "</div>"
      ],
      "text/plain": [
       "   USD_PRICE  purchase_year  purchase_month  purchase_dayofweek  \\\n",
       "0     168.00           2020              12                   3   \n",
       "1     160.61           2020              10                   3   \n",
       "2     151.20           2020               4                   1   \n",
       "3    1132.82           2020               4                   1   \n",
       "4      33.89           2020              11                   1   \n",
       "\n",
       "   purchase_hour  ship_year  ship_month  ship_dayofweek  ship_hour  \\\n",
       "0              0       2020          12               6          0   \n",
       "1              0       2020           9               0          0   \n",
       "2              0       2020           2               6          0   \n",
       "3              0       2020           4               5          0   \n",
       "4              0       2020           8               6          0   \n",
       "\n",
       "   shipping_duration_days  ...  COUNTRY_CODE_us  COUNTRY_CODE_uy  \\\n",
       "0                     -11  ...                1                0   \n",
       "1                     -10  ...                0                0   \n",
       "2                     -65  ...                1                0   \n",
       "3                      -3  ...                0                0   \n",
       "4                    -114  ...                0                0   \n",
       "\n",
       "   COUNTRY_CODE_vc  COUNTRY_CODE_ve  COUNTRY_CODE_vi  COUNTRY_CODE_vn  \\\n",
       "0                0                0                0                0   \n",
       "1                0                0                0                0   \n",
       "2                0                0                0                0   \n",
       "3                0                0                0                0   \n",
       "4                0                0                0                0   \n",
       "\n",
       "   COUNTRY_CODE_vu  COUNTRY_CODE_za  COUNTRY_CODE_zm  COUNTRY_CODE_zw  \n",
       "0                0                0                0                0  \n",
       "1                0                0                0                0  \n",
       "2                0                0                0                0  \n",
       "3                0                0                0                0  \n",
       "4                0                0                0                0  \n",
       "\n",
       "[5 rows x 169 columns]"
      ]
     },
     "execution_count": 80,
     "metadata": {},
     "output_type": "execute_result"
    }
   ],
   "source": [
    "# Display the first few rows of the final feature set\n",
    "df_final_features.head()"
   ]
  },
  {
   "cell_type": "markdown",
   "id": "0d2b60cb",
   "metadata": {},
   "source": [
    "## 5. Data Visualization\n",
    "\n",
    "Create visualizations to illustrate key findings from the EDA and highlight trends and patterns. These visualizations can form the basis of a dashboard.\n"
   ]
  },
  {
   "cell_type": "code",
   "execution_count": 81,
   "id": "7fda35b6",
   "metadata": {},
   "outputs": [
    {
     "data": {
      "image/png": "[encoded data removed]",
      "text/plain": [
       "<Figure size 1000x600 with 1 Axes>"
      ]
     },
     "metadata": {},
     "output_type": "display_data"
    }
   ],
   "source": [
    "#Create a histogram to visualize the distribution of USD_PRICE.\n",
    "import matplotlib.pyplot as plt\n",
    "import seaborn as sns\n",
    "\n",
    "# Set the style for the plots\n",
    "sns.set_style(\"whitegrid\")\n",
    "\n",
    "# Create a histogram of USD_PRICE\n",
    "plt.figure(figsize=(10, 6))\n",
    "sns.histplot(data=df, x='USD_PRICE', bins=50, kde=True)\n",
    "plt.title('Distribution of USD Price')\n",
    "plt.xlabel('USD Price')\n",
    "plt.ylabel('Frequency')\n",
    "plt.tight_layout()\n",
    "plt.show()"
   ]
  },
  {
   "cell_type": "code",
   "execution_count": 82,
   "id": "48d1651d",
   "metadata": {},
   "outputs": [
    {
     "data": {
      "image/png": "[encoded data removed]",
      "text/plain": [
       "<Figure size 1500x1200 with 4 Axes>"
      ]
     },
     "metadata": {},
     "output_type": "display_data"
    }
   ],
   "source": [
    "# Create bar plots to show the counts of top categories for PURCHASE_PLATFORM, MARKETING_CHANNEL, ACCOUNT_CREATION_METHOD, and COUNTRY_CODE.\n",
    "\n",
    "# Create bar plots for top categories of specified columns\n",
    "categorical_cols_for_barplot = ['PURCHASE_PLATFORM', 'MARKETING_CHANNEL', 'ACCOUNT_CREATION_METHOD', 'COUNTRY_CODE']\n",
    "\n",
    "# Determine the number of plots and calculate the grid size\n",
    "n_cols = 2\n",
    "n_rows = (len(categorical_cols_for_barplot) + n_cols - 1) // n_cols\n",
    "\n",
    "plt.figure(figsize=(15, n_rows * 6))\n",
    "\n",
    "for i, col in enumerate(categorical_cols_for_barplot):\n",
    "    plt.subplot(n_rows, n_cols, i + 1)\n",
    "    # Get the top 10 categories, including 'unknown' if present and not in top 10\n",
    "    top_categories = df[col].value_counts().nlargest(10).index.tolist()\n",
    "    if 'unknown' in df[col].unique() and 'unknown' not in top_categories:\n",
    "         # If 'unknown' is not in the top 10, include it and re-sort\n",
    "        top_categories = df[col].value_counts().nlargest(11).index.tolist()\n",
    "        top_categories.sort(key=lambda x: (x != 'unknown', x)) # Sort to put 'unknown' at the end or keep original order\n",
    "        if len(top_categories) > 10:\n",
    "            top_categories = top_categories[:10] # Keep only top 10 including 'unknown' if added\n",
    "\n",
    "    sns.countplot(data=df, y=col, order=top_categories, palette='viridis')\n",
    "    plt.title(f'Top Categories for {col}')\n",
    "    plt.xlabel('Count')\n",
    "    plt.ylabel(col.replace('_', ' ').title())\n",
    "    plt.xticks(rotation=0) # Ensure x-axis labels are horizontal\n",
    "\n",
    "plt.tight_layout()\n",
    "plt.show()"
   ]
  },
  {
   "cell_type": "code",
   "execution_count": 83,
   "id": "33b44e3c",
   "metadata": {},
   "outputs": [
    {
     "data": {
      "image/png": "[encoded data removed]",
      "text/plain": [
       "<Figure size 1500x1200 with 4 Axes>"
      ]
     },
     "metadata": {},
     "output_type": "display_data"
    }
   ],
   "source": [
    "# Create line plots to show the trends of purchases over time (by year, month, day of week, and hour) using the extracted time features.\n",
    "\n",
    "# Create line plots to show trends over time\n",
    "time_features = ['purchase_year', 'purchase_month', 'purchase_dayofweek', 'purchase_hour']\n",
    "\n",
    "# Determine the number of plots and calculate the grid size\n",
    "n_cols = 2\n",
    "n_rows = (len(time_features) + n_cols - 1) // n_cols\n",
    "\n",
    "plt.figure(figsize=(15, n_rows * 6))\n",
    "\n",
    "for i, feature in enumerate(time_features):\n",
    "    plt.subplot(n_rows, n_cols, i + 1)\n",
    "    # Group by the time feature and count occurrences\n",
    "    time_trend = df[feature].value_counts().sort_index()\n",
    "    sns.lineplot(x=time_trend.index, y=time_trend.values)\n",
    "    plt.title(f'Purchase Trend by {feature.replace(\"purchase_\", \"\").title()}')\n",
    "    plt.xlabel(feature.replace('purchase_', '').title())\n",
    "    plt.ylabel('Number of Purchases')\n",
    "    plt.xticks(rotation=0) # Ensure x-axis labels are horizontal\n",
    "\n",
    "plt.tight_layout()\n",
    "plt.show()"
   ]
  },
  {
   "cell_type": "code",
   "execution_count": 84,
   "id": "67a4d00c",
   "metadata": {},
   "outputs": [
    {
     "data": {
      "image/png": "[encoded data removed]",
      "text/plain": [
       "<Figure size 1000x600 with 1 Axes>"
      ]
     },
     "metadata": {},
     "output_type": "display_data"
    }
   ],
   "source": [
    "# Create a scatter plot to visualize the relationship between USD_PRICE and shipping_duration_days.\n",
    "\n",
    "plt.figure(figsize=(10, 6))\n",
    "sns.scatterplot(data=df, x='shipping_duration_days', y='USD_PRICE', alpha=0.5)\n",
    "plt.title('USD Price vs Shipping Duration')\n",
    "plt.xlabel('Shipping Duration (Days)')\n",
    "plt.ylabel('USD Price')\n",
    "plt.tight_layout()\n",
    "plt.show()"
   ]
  },
  {
   "cell_type": "code",
   "execution_count": 85,
   "id": "a668ffc7",
   "metadata": {},
   "outputs": [
    {
     "name": "stderr",
     "output_type": "stream",
     "text": [
      "c:\\Users\\User\\anaconda3\\lib\\site-packages\\seaborn\\matrix.py:260: FutureWarning: Format strings passed to MaskedConstant are ignored, but in future may error or produce different behavior\n",
      "  annotation = (\"{:\" + self.fmt + \"}\").format(val)\n"
     ]
    },
    {
     "data": {
      "image/png": "[encoded data removed]",
      "text/plain": [
       "<Figure size 1200x800 with 2 Axes>"
      ]
     },
     "metadata": {},
     "output_type": "display_data"
    }
   ],
   "source": [
    "# Generate a heatmap to visualize the correlation matrix of the numerical features.\n",
    "# Select relevant numerical columns including the engineered feature\n",
    "\n",
    "numerical_cols_for_corr = ['USD_PRICE', 'purchase_year', 'purchase_month', 'purchase_dayofweek',\n",
    "                           'purchase_hour', 'ship_year', 'ship_month', 'ship_dayofweek',\n",
    "                           'ship_hour', 'shipping_duration_days']\n",
    "\n",
    "# Calculate the correlation matrix\n",
    "correlation_matrix = df[numerical_cols_for_corr].corr()\n",
    "\n",
    "# Generate the heatmap\n",
    "plt.figure(figsize=(12, 8))\n",
    "sns.heatmap(correlation_matrix, annot=True, cmap='coolwarm', fmt=\".2f\", linewidths=.5)\n",
    "plt.title('Correlation Matrix of Numerical Features')\n",
    "plt.tight_layout()\n",
    "plt.show()"
   ]
  },
  {
   "cell_type": "markdown",
   "id": "dd2332e7",
   "metadata": {},
   "source": [
    "## Data splitting\n",
    "\n",
    "### Subtask:\n",
    "Split the cleaned and prepared data into training and testing sets.\n"
   ]
  },
  {
   "cell_type": "markdown",
   "id": "f1bf2ee0",
   "metadata": {},
   "source": [
    "**Reasoning**:\n",
    "Import the necessary function for splitting data and define the features and target variable based on the previous data wrangling step."
   ]
  },
  {
   "cell_type": "code",
   "execution_count": 86,
   "id": "ebe2eaa5",
   "metadata": {},
   "outputs": [],
   "source": [
    "from sklearn.model_selection import train_test_split\n",
    "\n",
    "# Define features (X) and target variable (y)\n",
    "# Assuming 'USD_PRICE' is the target variable for prediction\n",
    "X = df_final_features.drop('USD_PRICE', axis=1)\n",
    "y = df_final_features['USD_PRICE']"
   ]
  },
  {
   "cell_type": "code",
   "execution_count": 87,
   "id": "4f706888",
   "metadata": {},
   "outputs": [
    {
     "name": "stdout",
     "output_type": "stream",
     "text": [
      "Shape of X_train: (17455, 168)\n",
      "Shape of X_test: (4364, 168)\n",
      "Shape of y_train: (17455,)\n",
      "Shape of y_test: (4364,)\n"
     ]
    }
   ],
   "source": [
    "# Split the data into training and testing sets (80% train, 20% test)\n",
    "X_train, X_test, y_train, y_test = train_test_split(X, y, test_size=0.2, random_state=42)\n",
    "\n",
    "# Print the shapes of the resulting sets\n",
    "print(\"Shape of X_train:\", X_train.shape)\n",
    "print(\"Shape of X_test:\", X_test.shape)\n",
    "print(\"Shape of y_train:\", y_train.shape)\n",
    "print(\"Shape of y_test:\", y_test.shape)"
   ]
  },
  {
   "cell_type": "markdown",
   "id": "e0226143",
   "metadata": {},
   "source": [
    "## Model training\n",
    "\n",
    "### Subtask:\n",
    "Train a suitable machine learning model to predict trends and patterns relevant to the identified stakeholder questions."
   ]
  },
  {
   "cell_type": "code",
   "execution_count": 88,
   "id": "5e303486",
   "metadata": {},
   "outputs": [],
   "source": [
    "#Import the RandomForestRegressor model from scikit-learn and train it on the training data. Then make predictions on the test data.\n",
    "from sklearn.ensemble import RandomForestRegressor\n",
    "\n",
    "# Instantiate the model\n",
    "# Using RandomForestRegressor as it's generally robust and performs well on various datasets.\n",
    "# Setting a random_state for reproducibility.\n",
    "model = RandomForestRegressor(n_estimators=100, random_state=42)\n",
    "\n",
    "# Train the model\n",
    "model.fit(X_train, y_train)\n",
    "\n",
    "# Make predictions on the testing data\n",
    "y_pred = model.predict(X_test)"
   ]
  }
 ],
 "metadata": {
  "kernelspec": {
   "display_name": "base",
   "language": "python",
   "name": "python3"
  },
  "language_info": {
   "codemirror_mode": {
    "name": "ipython",
    "version": 3
   },
   "file_extension": ".py",
   "mimetype": "text/x-python",
   "name": "python",
   "nbconvert_exporter": "python",
   "pygments_lexer": "ipython3",
   "version": "3.10.9"
  }
 },
 "nbformat": 4,
 "nbformat_minor": 5
}
